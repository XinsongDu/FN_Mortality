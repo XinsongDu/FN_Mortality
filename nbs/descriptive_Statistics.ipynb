{
 "cells": [
  {
   "cell_type": "code",
   "execution_count": 1,
   "metadata": {},
   "outputs": [],
   "source": [
    "from pandas_summary import DataFrameSummary\n",
    "from scipy.stats import ttest_ind\n",
    "import pandas as pd\n",
    "import numpy as np\n",
    "import csv"
   ]
  },
  {
   "cell_type": "code",
   "execution_count": 2,
   "metadata": {},
   "outputs": [],
   "source": [
    "fn_pt = pd.read_pickle('../../../data/hcup/nis/all_year_combination/cleaned_for_repcv.pickle')\n",
    "# fn_pt = pd.read_pickle('../../../data/hcup/nis/all_year_combination/total_withage_withCCI_filtered.pickle')"
   ]
  },
  {
   "cell_type": "code",
   "execution_count": 3,
   "metadata": {},
   "outputs": [
    {
     "data": {
      "text/plain": [
       "126013"
      ]
     },
     "execution_count": 3,
     "metadata": {},
     "output_type": "execute_result"
    }
   ],
   "source": [
    "len(fn_pt)"
   ]
  },
  {
   "cell_type": "code",
   "execution_count": 4,
   "metadata": {},
   "outputs": [
    {
     "data": {
      "text/plain": [
       "['MDC',\n",
       " 'DRG',\n",
       " 'CM_LYMPH',\n",
       " 'CM_LIVER',\n",
       " 'CM_PARA',\n",
       " 'CM_RENLFAIL',\n",
       " 'CM_AIDS',\n",
       " 'CM_ALCOHOL',\n",
       " 'CM_ANEMDEF',\n",
       " 'CM_ARTH',\n",
       " 'CM_BLDLOSS',\n",
       " 'CM_CHF',\n",
       " 'CM_CHRNLUNG',\n",
       " 'CM_COAG',\n",
       " 'CM_DEPRESS',\n",
       " 'CM_DM',\n",
       " 'CM_DMCX',\n",
       " 'CM_DRUG',\n",
       " 'CM_HTN_C',\n",
       " 'CM_HYPOTHY',\n",
       " 'CM_LYTES',\n",
       " 'CM_METS',\n",
       " 'CM_OBESE',\n",
       " 'CM_NEURO',\n",
       " 'CM_PERIVASC',\n",
       " 'CM_PSYCH',\n",
       " 'CM_PULMCIRC',\n",
       " 'CM_ULCER',\n",
       " 'CM_VALVE',\n",
       " 'CM_WGHTLOSS',\n",
       " 'CM_TUMOR',\n",
       " 'CCI',\n",
       " 'AMONTH_1',\n",
       " 'AMONTH_2',\n",
       " 'AMONTH_3',\n",
       " 'AMONTH_4',\n",
       " 'AMONTH_5',\n",
       " 'AMONTH_6',\n",
       " 'AMONTH_7',\n",
       " 'AMONTH_8',\n",
       " 'AMONTH_9',\n",
       " 'AMONTH_10',\n",
       " 'AMONTH_11',\n",
       " 'AMONTH_12',\n",
       " 'DQTR_1',\n",
       " 'DQTR_2',\n",
       " 'DQTR_3',\n",
       " 'DQTR_4',\n",
       " 'HOSP_REGION_1',\n",
       " 'HOSP_REGION_2',\n",
       " 'HOSP_REGION_3',\n",
       " 'HOSP_REGION_4',\n",
       " 'H_CONTRL_1',\n",
       " 'H_CONTRL_2',\n",
       " 'H_CONTRL_3',\n",
       " 'PAY1_1',\n",
       " 'PAY1_2',\n",
       " 'PAY1_3',\n",
       " 'PAY1_4',\n",
       " 'PAY1_5',\n",
       " 'PAY1_6',\n",
       " 'RACE_1',\n",
       " 'RACE_2',\n",
       " 'RACE_3',\n",
       " 'RACE_4',\n",
       " 'RACE_5',\n",
       " 'RACE_6',\n",
       " 'AWEEKEND',\n",
       " 'ELECTIVE',\n",
       " 'FEMALE',\n",
       " 'ORPROC',\n",
       " 'ZIPINC_QRTL_1',\n",
       " 'ZIPINC_QRTL_2',\n",
       " 'ZIPINC_QRTL_3',\n",
       " 'ZIPINC_QRTL_4',\n",
       " 'HCUP_ED_0',\n",
       " 'HCUP_ED_1',\n",
       " 'HCUP_ED_2',\n",
       " 'HCUP_ED_3',\n",
       " 'HCUP_ED_4',\n",
       " 'HOSP_LOCTEACH_1',\n",
       " 'HOSP_LOCTEACH_2',\n",
       " 'HOSP_LOCTEACH_3',\n",
       " 'HOSP_BEDSIZE',\n",
       " 'N_DISC_U',\n",
       " 'N_HOSP_U',\n",
       " 'AGE',\n",
       " 'TOTCHG',\n",
       " 'NDX',\n",
       " 'NPR',\n",
       " 'TOTAL_DISC',\n",
       " 'NCHRONIC',\n",
       " 'NECODE',\n",
       " 'S_DISC_U',\n",
       " 'S_HOSP_U',\n",
       " 'PL_NCHS',\n",
       " 'KEY_NIS',\n",
       " 'KEY',\n",
       " 'ASEASON_SPRING',\n",
       " 'ASEASON_SUMMER',\n",
       " 'ASEASON_FALL',\n",
       " 'ASEASON_WINTER',\n",
       " 'DRG_1',\n",
       " 'DRG_10',\n",
       " 'DRG_100',\n",
       " 'DRG_101',\n",
       " 'DRG_102',\n",
       " 'DRG_103',\n",
       " 'DRG_11',\n",
       " 'DRG_116',\n",
       " 'DRG_12',\n",
       " 'DRG_121',\n",
       " 'DRG_122',\n",
       " 'DRG_123',\n",
       " 'DRG_124',\n",
       " 'DRG_125',\n",
       " 'DRG_126',\n",
       " 'DRG_127',\n",
       " 'DRG_128',\n",
       " 'DRG_129',\n",
       " 'DRG_130',\n",
       " 'DRG_131',\n",
       " 'DRG_133',\n",
       " 'DRG_134',\n",
       " 'DRG_135',\n",
       " 'DRG_137',\n",
       " 'DRG_138',\n",
       " 'DRG_14',\n",
       " 'DRG_141',\n",
       " 'DRG_143',\n",
       " 'DRG_144',\n",
       " 'DRG_145',\n",
       " 'DRG_146',\n",
       " 'DRG_147',\n",
       " 'DRG_148',\n",
       " 'DRG_149',\n",
       " 'DRG_15',\n",
       " 'DRG_150',\n",
       " 'DRG_151',\n",
       " 'DRG_152',\n",
       " 'DRG_153',\n",
       " 'DRG_154',\n",
       " 'DRG_155',\n",
       " 'DRG_156',\n",
       " 'DRG_157',\n",
       " 'DRG_158',\n",
       " 'DRG_159',\n",
       " 'DRG_16',\n",
       " 'DRG_161',\n",
       " 'DRG_163',\n",
       " 'DRG_164',\n",
       " 'DRG_165',\n",
       " 'DRG_166',\n",
       " 'DRG_167',\n",
       " 'DRG_168',\n",
       " 'DRG_17',\n",
       " 'DRG_170',\n",
       " 'DRG_172',\n",
       " 'DRG_174',\n",
       " 'DRG_175',\n",
       " 'DRG_176',\n",
       " 'DRG_177',\n",
       " 'DRG_178',\n",
       " 'DRG_179',\n",
       " 'DRG_180',\n",
       " 'DRG_181',\n",
       " 'DRG_182',\n",
       " 'DRG_183',\n",
       " 'DRG_184',\n",
       " 'DRG_185',\n",
       " 'DRG_186',\n",
       " 'DRG_187',\n",
       " 'DRG_188',\n",
       " 'DRG_189',\n",
       " 'DRG_190',\n",
       " 'DRG_191',\n",
       " 'DRG_192',\n",
       " 'DRG_193',\n",
       " 'DRG_194',\n",
       " 'DRG_195',\n",
       " 'DRG_196',\n",
       " 'DRG_197',\n",
       " 'DRG_199',\n",
       " 'DRG_200',\n",
       " 'DRG_201',\n",
       " 'DRG_202',\n",
       " 'DRG_203',\n",
       " 'DRG_204',\n",
       " 'DRG_205',\n",
       " 'DRG_206',\n",
       " 'DRG_207',\n",
       " 'DRG_208',\n",
       " 'DRG_21',\n",
       " 'DRG_210',\n",
       " 'DRG_216',\n",
       " 'DRG_217',\n",
       " 'DRG_218',\n",
       " 'DRG_219',\n",
       " 'DRG_220',\n",
       " 'DRG_224',\n",
       " 'DRG_226',\n",
       " 'DRG_228',\n",
       " 'DRG_23',\n",
       " 'DRG_233',\n",
       " 'DRG_236',\n",
       " 'DRG_237',\n",
       " 'DRG_238',\n",
       " 'DRG_239',\n",
       " 'DRG_240',\n",
       " 'DRG_242',\n",
       " 'DRG_243',\n",
       " 'DRG_246',\n",
       " 'DRG_247',\n",
       " 'DRG_248',\n",
       " 'DRG_249',\n",
       " 'DRG_25',\n",
       " 'DRG_250',\n",
       " 'DRG_251',\n",
       " 'DRG_252',\n",
       " 'DRG_253',\n",
       " 'DRG_254',\n",
       " 'DRG_26',\n",
       " 'DRG_260',\n",
       " 'DRG_263',\n",
       " 'DRG_264',\n",
       " 'DRG_265',\n",
       " 'DRG_269',\n",
       " 'DRG_27',\n",
       " 'DRG_272',\n",
       " 'DRG_274',\n",
       " 'DRG_275',\n",
       " 'DRG_276',\n",
       " 'DRG_277',\n",
       " 'DRG_278',\n",
       " 'DRG_28',\n",
       " 'DRG_280',\n",
       " 'DRG_281',\n",
       " 'DRG_282',\n",
       " 'DRG_283',\n",
       " 'DRG_284',\n",
       " 'DRG_286',\n",
       " 'DRG_287',\n",
       " 'DRG_288',\n",
       " 'DRG_289',\n",
       " 'DRG_29',\n",
       " 'DRG_290',\n",
       " 'DRG_291',\n",
       " 'DRG_292',\n",
       " 'DRG_293',\n",
       " 'DRG_294',\n",
       " 'DRG_296',\n",
       " 'DRG_297',\n",
       " 'DRG_299',\n",
       " 'DRG_3',\n",
       " 'DRG_300',\n",
       " 'DRG_301',\n",
       " 'DRG_302',\n",
       " 'DRG_303',\n",
       " 'DRG_304',\n",
       " 'DRG_305',\n",
       " 'DRG_307',\n",
       " 'DRG_308',\n",
       " 'DRG_309',\n",
       " 'DRG_31',\n",
       " 'DRG_310',\n",
       " 'DRG_311',\n",
       " 'DRG_312',\n",
       " 'DRG_313',\n",
       " 'DRG_314',\n",
       " 'DRG_315',\n",
       " 'DRG_316',\n",
       " 'DRG_318',\n",
       " 'DRG_32',\n",
       " 'DRG_320',\n",
       " 'DRG_321',\n",
       " 'DRG_323',\n",
       " 'DRG_326',\n",
       " 'DRG_327',\n",
       " 'DRG_329',\n",
       " 'DRG_330',\n",
       " 'DRG_331',\n",
       " 'DRG_332',\n",
       " 'DRG_333',\n",
       " 'DRG_335',\n",
       " 'DRG_336',\n",
       " 'DRG_337',\n",
       " 'DRG_338',\n",
       " 'DRG_339',\n",
       " 'DRG_34',\n",
       " 'DRG_340',\n",
       " 'DRG_341',\n",
       " 'DRG_342',\n",
       " 'DRG_344',\n",
       " 'DRG_345',\n",
       " 'DRG_347',\n",
       " 'DRG_348',\n",
       " 'DRG_349',\n",
       " 'DRG_350',\n",
       " 'DRG_351',\n",
       " 'DRG_353',\n",
       " 'DRG_354',\n",
       " 'DRG_356',\n",
       " 'DRG_357',\n",
       " 'DRG_358',\n",
       " 'DRG_359',\n",
       " 'DRG_363',\n",
       " 'DRG_366',\n",
       " 'DRG_367',\n",
       " 'DRG_368',\n",
       " 'DRG_369',\n",
       " 'DRG_370',\n",
       " 'DRG_371',\n",
       " 'DRG_372',\n",
       " 'DRG_373',\n",
       " 'DRG_374',\n",
       " 'DRG_375',\n",
       " 'DRG_376',\n",
       " 'DRG_377',\n",
       " 'DRG_378',\n",
       " 'DRG_379',\n",
       " 'DRG_38',\n",
       " 'DRG_380',\n",
       " 'DRG_381',\n",
       " 'DRG_383',\n",
       " 'DRG_384',\n",
       " 'DRG_385',\n",
       " 'DRG_386',\n",
       " 'DRG_387',\n",
       " 'DRG_388',\n",
       " 'DRG_389',\n",
       " 'DRG_390',\n",
       " 'DRG_391',\n",
       " 'DRG_392',\n",
       " 'DRG_393',\n",
       " 'DRG_394',\n",
       " 'DRG_395',\n",
       " 'DRG_397',\n",
       " 'DRG_398',\n",
       " 'DRG_4',\n",
       " 'DRG_40',\n",
       " 'DRG_401',\n",
       " 'DRG_403',\n",
       " 'DRG_404',\n",
       " 'DRG_405',\n",
       " 'DRG_406',\n",
       " 'DRG_408',\n",
       " 'DRG_409',\n",
       " 'DRG_41',\n",
       " 'DRG_410',\n",
       " 'DRG_413',\n",
       " 'DRG_414',\n",
       " 'DRG_415',\n",
       " 'DRG_416',\n",
       " 'DRG_417',\n",
       " 'DRG_418',\n",
       " 'DRG_419',\n",
       " 'DRG_42',\n",
       " 'DRG_420',\n",
       " 'DRG_421',\n",
       " 'DRG_423',\n",
       " 'DRG_424',\n",
       " 'DRG_432',\n",
       " 'DRG_433',\n",
       " 'DRG_435',\n",
       " 'DRG_436',\n",
       " 'DRG_437',\n",
       " 'DRG_438',\n",
       " 'DRG_439',\n",
       " 'DRG_440',\n",
       " 'DRG_441',\n",
       " 'DRG_442',\n",
       " 'DRG_443',\n",
       " 'DRG_444',\n",
       " 'DRG_445',\n",
       " 'DRG_446',\n",
       " 'DRG_449',\n",
       " 'DRG_452',\n",
       " 'DRG_453',\n",
       " 'DRG_454',\n",
       " 'DRG_456',\n",
       " 'DRG_457',\n",
       " 'DRG_459',\n",
       " 'DRG_46',\n",
       " 'DRG_461',\n",
       " 'DRG_462',\n",
       " 'DRG_463',\n",
       " 'DRG_464',\n",
       " 'DRG_465',\n",
       " 'DRG_466',\n",
       " 'DRG_468',\n",
       " 'DRG_469',\n",
       " 'DRG_470',\n",
       " 'DRG_471',\n",
       " 'DRG_472',\n",
       " 'DRG_473',\n",
       " 'DRG_474',\n",
       " 'DRG_475',\n",
       " 'DRG_477',\n",
       " 'DRG_478',\n",
       " 'DRG_480',\n",
       " 'DRG_481',\n",
       " 'DRG_482',\n",
       " 'DRG_485',\n",
       " 'DRG_486',\n",
       " 'DRG_488',\n",
       " 'DRG_489',\n",
       " 'DRG_490',\n",
       " 'DRG_492',\n",
       " 'DRG_493',\n",
       " 'DRG_494',\n",
       " 'DRG_495',\n",
       " 'DRG_496',\n",
       " 'DRG_497',\n",
       " 'DRG_498',\n",
       " 'DRG_5',\n",
       " 'DRG_500',\n",
       " 'DRG_501',\n",
       " 'DRG_503',\n",
       " 'DRG_504',\n",
       " 'DRG_506',\n",
       " 'DRG_510',\n",
       " 'DRG_513',\n",
       " 'DRG_515',\n",
       " 'DRG_516',\n",
       " 'DRG_519',\n",
       " 'DRG_521',\n",
       " 'DRG_524',\n",
       " 'DRG_529',\n",
       " 'DRG_53',\n",
       " 'DRG_533',\n",
       " 'DRG_535',\n",
       " 'DRG_536',\n",
       " 'DRG_539',\n",
       " 'DRG_54',\n",
       " 'DRG_540',\n",
       " 'DRG_541',\n",
       " 'DRG_542',\n",
       " 'DRG_543',\n",
       " 'DRG_544',\n",
       " 'DRG_545',\n",
       " 'DRG_546',\n",
       " 'DRG_547',\n",
       " 'DRG_548',\n",
       " 'DRG_549',\n",
       " 'DRG_55',\n",
       " 'DRG_550',\n",
       " 'DRG_551',\n",
       " 'DRG_552',\n",
       " 'DRG_553',\n",
       " 'DRG_554',\n",
       " 'DRG_555',\n",
       " 'DRG_556',\n",
       " 'DRG_557',\n",
       " 'DRG_558',\n",
       " 'DRG_559',\n",
       " 'DRG_56',\n",
       " 'DRG_560',\n",
       " 'DRG_561',\n",
       " 'DRG_562',\n",
       " 'DRG_563',\n",
       " 'DRG_564',\n",
       " 'DRG_565',\n",
       " 'DRG_566',\n",
       " 'DRG_567',\n",
       " 'DRG_569',\n",
       " 'DRG_57',\n",
       " 'DRG_570',\n",
       " 'DRG_571',\n",
       " 'DRG_572',\n",
       " 'DRG_573',\n",
       " 'DRG_574',\n",
       " 'DRG_575',\n",
       " 'DRG_576',\n",
       " 'DRG_578',\n",
       " 'DRG_579',\n",
       " 'DRG_58',\n",
       " 'DRG_580',\n",
       " 'DRG_581',\n",
       " 'DRG_582',\n",
       " 'DRG_583',\n",
       " 'DRG_584',\n",
       " 'DRG_585',\n",
       " 'DRG_592',\n",
       " 'DRG_593',\n",
       " 'DRG_595',\n",
       " 'DRG_596',\n",
       " 'DRG_597',\n",
       " 'DRG_598',\n",
       " 'DRG_599',\n",
       " 'DRG_600',\n",
       " 'DRG_601',\n",
       " 'DRG_602',\n",
       " 'DRG_603',\n",
       " 'DRG_604',\n",
       " 'DRG_605',\n",
       " 'DRG_606',\n",
       " 'DRG_607',\n",
       " 'DRG_62',\n",
       " 'DRG_628',\n",
       " 'DRG_629',\n",
       " 'DRG_637',\n",
       " 'DRG_638',\n",
       " 'DRG_639',\n",
       " 'DRG_64',\n",
       " 'DRG_640',\n",
       " 'DRG_641',\n",
       " 'DRG_642',\n",
       " 'DRG_643',\n",
       " 'DRG_644',\n",
       " 'DRG_645',\n",
       " 'DRG_65',\n",
       " 'DRG_652',\n",
       " 'DRG_654',\n",
       " 'DRG_656',\n",
       " 'DRG_657',\n",
       " 'DRG_658',\n",
       " 'DRG_659',\n",
       " 'DRG_66',\n",
       " 'DRG_660',\n",
       " 'DRG_663',\n",
       " 'DRG_665',\n",
       " 'DRG_666',\n",
       " 'DRG_668',\n",
       " 'DRG_669',\n",
       " 'DRG_67',\n",
       " 'DRG_671',\n",
       " 'DRG_673',\n",
       " 'DRG_674',\n",
       " 'DRG_68',\n",
       " 'DRG_682',\n",
       " 'DRG_683',\n",
       " 'DRG_684',\n",
       " 'DRG_686',\n",
       " 'DRG_687',\n",
       " 'DRG_689',\n",
       " 'DRG_69',\n",
       " 'DRG_690',\n",
       " 'DRG_693',\n",
       " 'DRG_694',\n",
       " 'DRG_695',\n",
       " 'DRG_696',\n",
       " 'DRG_698',\n",
       " 'DRG_699',\n",
       " 'DRG_7',\n",
       " 'DRG_70',\n",
       " 'DRG_700',\n",
       " 'DRG_707',\n",
       " 'DRG_708',\n",
       " 'DRG_71',\n",
       " 'DRG_710',\n",
       " 'DRG_711',\n",
       " 'DRG_713',\n",
       " 'DRG_715',\n",
       " 'DRG_72',\n",
       " 'DRG_722',\n",
       " 'DRG_723',\n",
       " 'DRG_724',\n",
       " 'DRG_725',\n",
       " 'DRG_727',\n",
       " 'DRG_728',\n",
       " 'DRG_729',\n",
       " 'DRG_73',\n",
       " 'DRG_737',\n",
       " 'DRG_739',\n",
       " 'DRG_74',\n",
       " 'DRG_740',\n",
       " 'DRG_742',\n",
       " 'DRG_743',\n",
       " 'DRG_744',\n",
       " 'DRG_745',\n",
       " 'DRG_746',\n",
       " 'DRG_749',\n",
       " 'DRG_75',\n",
       " 'DRG_754',\n",
       " 'DRG_755',\n",
       " 'DRG_756',\n",
       " 'DRG_757',\n",
       " 'DRG_758',\n",
       " 'DRG_759',\n",
       " 'DRG_76',\n",
       " 'DRG_760',\n",
       " 'DRG_761',\n",
       " 'DRG_765',\n",
       " 'DRG_769',\n",
       " 'DRG_774',\n",
       " 'DRG_776',\n",
       " 'DRG_78',\n",
       " 'DRG_781',\n",
       " 'DRG_79',\n",
       " 'DRG_799',\n",
       " 'DRG_80',\n",
       " 'DRG_800',\n",
       " 'DRG_802',\n",
       " 'DRG_803',\n",
       " 'DRG_804',\n",
       " 'DRG_808',\n",
       " 'DRG_809',\n",
       " 'DRG_81',\n",
       " 'DRG_810',\n",
       " 'DRG_811',\n",
       " 'DRG_812',\n",
       " 'DRG_813',\n",
       " 'DRG_814',\n",
       " 'DRG_815',\n",
       " 'DRG_816',\n",
       " 'DRG_82',\n",
       " 'DRG_820',\n",
       " 'DRG_821',\n",
       " 'DRG_822',\n",
       " 'DRG_823',\n",
       " 'DRG_824',\n",
       " 'DRG_825',\n",
       " 'DRG_826',\n",
       " 'DRG_827',\n",
       " 'DRG_829',\n",
       " 'DRG_83',\n",
       " 'DRG_834',\n",
       " 'DRG_835',\n",
       " 'DRG_836',\n",
       " 'DRG_837',\n",
       " 'DRG_838',\n",
       " 'DRG_839',\n",
       " 'DRG_84',\n",
       " 'DRG_840',\n",
       " 'DRG_841',\n",
       " 'DRG_842',\n",
       " 'DRG_843',\n",
       " 'DRG_844',\n",
       " 'DRG_845',\n",
       " 'DRG_846',\n",
       " 'DRG_847',\n",
       " 'DRG_848',\n",
       " 'DRG_849',\n",
       " 'DRG_85',\n",
       " 'DRG_853',\n",
       " 'DRG_854',\n",
       " 'DRG_855',\n",
       " 'DRG_856',\n",
       " 'DRG_857',\n",
       " 'DRG_858',\n",
       " 'DRG_86',\n",
       " 'DRG_862',\n",
       " 'DRG_863',\n",
       " 'DRG_864',\n",
       " 'DRG_865',\n",
       " 'DRG_866',\n",
       " 'DRG_867',\n",
       " 'DRG_868',\n",
       " 'DRG_869',\n",
       " 'DRG_87',\n",
       " 'DRG_870',\n",
       " 'DRG_871',\n",
       " 'DRG_872',\n",
       " 'DRG_88',\n",
       " 'DRG_880',\n",
       " 'DRG_884',\n",
       " 'DRG_885',\n",
       " 'DRG_89',\n",
       " 'DRG_896',\n",
       " 'DRG_897',\n",
       " 'DRG_9',\n",
       " 'DRG_90',\n",
       " 'DRG_901',\n",
       " 'DRG_902',\n",
       " 'DRG_904',\n",
       " 'DRG_907',\n",
       " 'DRG_908',\n",
       " 'DRG_909',\n",
       " 'DRG_91',\n",
       " 'DRG_913',\n",
       " 'DRG_914',\n",
       " 'DRG_915',\n",
       " 'DRG_916',\n",
       " 'DRG_917',\n",
       " 'DRG_918',\n",
       " 'DRG_919',\n",
       " 'DRG_92',\n",
       " 'DRG_920',\n",
       " 'DRG_921',\n",
       " 'DRG_922',\n",
       " 'DRG_93',\n",
       " 'DRG_934',\n",
       " 'DRG_935',\n",
       " 'DRG_939',\n",
       " 'DRG_94',\n",
       " 'DRG_940',\n",
       " 'DRG_945',\n",
       " 'DRG_946',\n",
       " 'DRG_947',\n",
       " 'DRG_948',\n",
       " 'DRG_949',\n",
       " 'DRG_95',\n",
       " 'DRG_951',\n",
       " 'DRG_955',\n",
       " 'DRG_957',\n",
       " 'DRG_96',\n",
       " 'DRG_963',\n",
       " 'DRG_964',\n",
       " 'DRG_969',\n",
       " 'DRG_97',\n",
       " 'DRG_970',\n",
       " 'DRG_974',\n",
       " 'DRG_975',\n",
       " 'DRG_976',\n",
       " 'DRG_977',\n",
       " 'DRG_98',\n",
       " 'DRG_981',\n",
       " 'DRG_982',\n",
       " 'DRG_983',\n",
       " 'DRG_984',\n",
       " 'DRG_985',\n",
       " 'DRG_987',\n",
       " 'DRG_988',\n",
       " 'DRG_989',\n",
       " 'DRG_999',\n",
       " 'MDC_0',\n",
       " 'MDC_1',\n",
       " 'MDC_10',\n",
       " 'MDC_11',\n",
       " 'MDC_12',\n",
       " 'MDC_13',\n",
       " 'MDC_14',\n",
       " 'MDC_16',\n",
       " 'MDC_17',\n",
       " 'MDC_18',\n",
       " 'MDC_19',\n",
       " 'MDC_2',\n",
       " 'MDC_20',\n",
       " 'MDC_21',\n",
       " 'MDC_22',\n",
       " 'MDC_23',\n",
       " 'MDC_24',\n",
       " 'MDC_25',\n",
       " 'MDC_3',\n",
       " 'MDC_4',\n",
       " 'MDC_5',\n",
       " 'MDC_6',\n",
       " 'MDC_7',\n",
       " 'MDC_8',\n",
       " 'MDC_9',\n",
       " 'DX_4730',\n",
       " 'DX_70711',\n",
       " 'DX_36132',\n",
       " 'DX_94301',\n",
       " 'DX_36844',\n",
       " 'DX_4293',\n",
       " 'DX_2809',\n",
       " 'DX_V854',\n",
       " 'DX_64821',\n",
       " 'DX_V118',\n",
       " 'DX_53540',\n",
       " 'DX_7804',\n",
       " 'DX_37271',\n",
       " 'DX_4802',\n",
       " 'DX_5758',\n",
       " 'DX_3343',\n",
       " 'DX_41405',\n",
       " 'DX_5690',\n",
       " 'DX_1451',\n",
       " 'DX_28269',\n",
       " 'DX_2513',\n",
       " 'DX_38910',\n",
       " 'DX_V157',\n",
       " 'DX_29181',\n",
       " 'DX_4413',\n",
       " 'DX_60490',\n",
       " 'DX_34500',\n",
       " 'DX_23770',\n",
       " 'DX_20501',\n",
       " 'DX_0416',\n",
       " 'DX_V600',\n",
       " 'DX_44020',\n",
       " 'DX_87340',\n",
       " 'DX_V4987',\n",
       " 'DX_1410',\n",
       " 'DX_1118',\n",
       " 'DX_5966',\n",
       " 'DX_65951',\n",
       " 'DX_2382',\n",
       " 'DX_2781',\n",
       " 'DX_8761',\n",
       " 'DX_30989',\n",
       " 'DX_74760',\n",
       " 'DX_53013',\n",
       " 'DX_V4459',\n",
       " 'DX_68102',\n",
       " 'DX_4321',\n",
       " 'DX_4142',\n",
       " 'DX_37500',\n",
       " 'DX_V4283',\n",
       " 'DX_V1047',\n",
       " 'DX_V166',\n",
       " 'DX_9630',\n",
       " 'DX_5225',\n",
       " 'DX_1521',\n",
       " 'DX_41092',\n",
       " 'DX_67424',\n",
       " 'DX_1261',\n",
       " 'DX_1619',\n",
       " 'DX_95901',\n",
       " 'DX_6189',\n",
       " 'DX_1542',\n",
       " 'DX_6228',\n",
       " 'DX_1749',\n",
       " 'DX_81344',\n",
       " 'DX_41041',\n",
       " 'DX_94100',\n",
       " 'DX_7010',\n",
       " 'DX_20411',\n",
       " 'DX_2849',\n",
       " 'DX_88100',\n",
       " 'DX_V8403',\n",
       " 'DX_9244',\n",
       " 'DX_71489',\n",
       " 'DX_V5863',\n",
       " 'DX_8028',\n",
       " 'DX_47879',\n",
       " 'DX_45371',\n",
       " 'DX_78961',\n",
       " 'DX_4373',\n",
       " 'DX_7914',\n",
       " 'DX_1849',\n",
       " 'DX_20970',\n",
       " 'DX_7587',\n",
       " 'DX_64623',\n",
       " 'DX_71166',\n",
       " 'DX_V0981',\n",
       " 'DX_6272',\n",
       " 'DX_4414',\n",
       " 'DX_3553',\n",
       " 'DX_V153',\n",
       " 'DX_36453',\n",
       " 'DX_57149',\n",
       " 'DX_4548',\n",
       " 'DX_8670',\n",
       " 'DX_64793',\n",
       " 'DX_7213',\n",
       " 'DX_79981',\n",
       " 'DX_2848',\n",
       " 'DX_94321',\n",
       " 'DX_3180',\n",
       " 'DX_2753',\n",
       " 'DX_00801',\n",
       " 'DX_70707',\n",
       " 'DX_V620',\n",
       " 'DX_72232',\n",
       " 'DX_42731',\n",
       " 'DX_2732',\n",
       " 'DX_36260',\n",
       " 'DX_05322',\n",
       " 'DX_5997',\n",
       " 'DX_20932',\n",
       " 'DX_44324',\n",
       " 'DX_43819',\n",
       " 'DX_V551',\n",
       " 'DX_3360',\n",
       " 'DX_6069',\n",
       " 'DX_78729',\n",
       " 'DX_48802',\n",
       " 'DX_37503',\n",
       " 'DX_2363',\n",
       " 'DX_20380',\n",
       " 'DX_64893',\n",
       " 'DX_5921',\n",
       " 'DX_9148',\n",
       " 'DX_37993',\n",
       " 'DX_87352',\n",
       " 'DX_V435',\n",
       " 'DX_4259',\n",
       " 'DX_V1300',\n",
       " 'DX_7948',\n",
       " 'DX_36241',\n",
       " 'DX_44409',\n",
       " 'DX_1885',\n",
       " 'DX_9120',\n",
       " 'DX_1508',\n",
       " 'DX_17310',\n",
       " 'DX_3545',\n",
       " 'DX_20030',\n",
       " 'DX_V192',\n",
       " 'DX_V0269',\n",
       " 'DX_5187',\n",
       " 'DX_37730',\n",
       " 'DX_71510',\n",
       " 'DX_3570',\n",
       " 'DX_1570',\n",
       " 'DX_99645',\n",
       " 'DX_17360',\n",
       " 'DX_4650',\n",
       " 'DX_86413',\n",
       " 'DX_3108',\n",
       " 'DX_8220',\n",
       " 'DX_5679',\n",
       " 'DX_33721',\n",
       " 'DX_37921',\n",
       " 'DX_8479',\n",
       " 'DX_78834',\n",
       " 'DX_53270',\n",
       " 'DX_5368',\n",
       " 'DX_32702',\n",
       " 'DX_30521',\n",
       " 'DX_33828',\n",
       " 'DX_9166',\n",
       " 'DX_9642',\n",
       " 'DX_01890',\n",
       " 'DX_27669',\n",
       " 'DX_V482',\n",
       " 'DX_9401',\n",
       " 'DX_2386',\n",
       " 'DX_8920',\n",
       " 'DX_7813',\n",
       " 'DX_99984',\n",
       " 'DX_99631',\n",
       " 'DX_1913',\n",
       " 'DX_7592',\n",
       " 'DX_4219',\n",
       " 'DX_6159',\n",
       " 'DX_2535',\n",
       " 'DX_04103',\n",
       " 'DX_7569',\n",
       " 'DX_V6284',\n",
       " 'DX_43491',\n",
       " 'DX_7380',\n",
       " 'DX_8630',\n",
       " 'DX_20410',\n",
       " 'DX_9141',\n",
       " 'DX_74900',\n",
       " 'DX_V1741',\n",
       " 'DX_20934',\n",
       " 'DX_36645',\n",
       " 'DX_74259',\n",
       " 'DX_66984',\n",
       " 'DX_85105',\n",
       " 'DX_V6402',\n",
       " 'DX_1639',\n",
       " 'DX_75671',\n",
       " 'DX_5160',\n",
       " 'DX_5186',\n",
       " 'DX_2940',\n",
       " 'DX_25051',\n",
       " 'DX_30392',\n",
       " 'DX_71511',\n",
       " 'DX_2764',\n",
       " 'DX_2828',\n",
       " 'DX_V180',\n",
       " 'DX_9654',\n",
       " 'DX_V444',\n",
       " 'DX_7273',\n",
       " 'DX_57142',\n",
       " 'DX_29664',\n",
       " 'DX_20277',\n",
       " 'DX_45181',\n",
       " 'DX_73312',\n",
       " 'DX_94234',\n",
       " 'DX_30112',\n",
       " 'DX_36107',\n",
       " 'DX_9584',\n",
       " 'DX_V412',\n",
       " 'DX_17350',\n",
       " 'DX_33905',\n",
       " 'DX_29570',\n",
       " 'DX_28310',\n",
       " 'DX_20074',\n",
       " 'DX_6241',\n",
       " 'DX_99686',\n",
       " 'DX_57481',\n",
       " 'DX_37946',\n",
       " 'DX_5538',\n",
       " 'DX_V5862',\n",
       " 'DX_30420',\n",
       " 'DX_5989',\n",
       " 'DX_1923',\n",
       " 'DX_78097',\n",
       " 'DX_48281',\n",
       " 'DX_99951',\n",
       " 'DX_52323',\n",
       " 'DX_22804',\n",
       " 'DX_72611',\n",
       " 'DX_3540',\n",
       " 'DX_59972',\n",
       " 'DX_52341',\n",
       " 'DX_37721',\n",
       " 'DX_9971',\n",
       " 'DX_29389',\n",
       " 'DX_72402',\n",
       " 'DX_33920',\n",
       " 'DX_78659',\n",
       " 'DX_5566',\n",
       " 'DX_20601',\n",
       " 'DX_5993',\n",
       " 'DX_36019',\n",
       " 'DX_37881',\n",
       " 'DX_37854',\n",
       " 'DX_80703',\n",
       " 'DX_7503',\n",
       " 'DX_6202',\n",
       " 'DX_V144',\n",
       " 'DX_4778',\n",
       " 'DX_1471',\n",
       " 'DX_9213',\n",
       " ...]"
      ]
     },
     "execution_count": 4,
     "metadata": {},
     "output_type": "execute_result"
    }
   ],
   "source": [
    "list(fn_pt.columns)"
   ]
  },
  {
   "cell_type": "markdown",
   "metadata": {},
   "source": [
    "## Deceased or Alive"
   ]
  },
  {
   "cell_type": "markdown",
   "metadata": {},
   "source": [
    "#### Alive"
   ]
  },
  {
   "cell_type": "code",
   "execution_count": 5,
   "metadata": {},
   "outputs": [],
   "source": [
    "alive = (fn_pt[fn_pt.DIED == 0])"
   ]
  },
  {
   "cell_type": "code",
   "execution_count": 6,
   "metadata": {},
   "outputs": [
    {
     "data": {
      "text/plain": [
       "120091"
      ]
     },
     "execution_count": 6,
     "metadata": {},
     "output_type": "execute_result"
    }
   ],
   "source": [
    "len(alive)"
   ]
  },
  {
   "cell_type": "markdown",
   "metadata": {},
   "source": [
    "#### Died"
   ]
  },
  {
   "cell_type": "code",
   "execution_count": 7,
   "metadata": {},
   "outputs": [],
   "source": [
    "died = (fn_pt[fn_pt.DIED == 1])"
   ]
  },
  {
   "cell_type": "code",
   "execution_count": 8,
   "metadata": {},
   "outputs": [
    {
     "data": {
      "text/plain": [
       "5856"
      ]
     },
     "execution_count": 8,
     "metadata": {},
     "output_type": "execute_result"
    }
   ],
   "source": [
    "len(died)"
   ]
  },
  {
   "cell_type": "markdown",
   "metadata": {},
   "source": [
    "## Total cost"
   ]
  },
  {
   "cell_type": "code",
   "execution_count": 9,
   "metadata": {},
   "outputs": [],
   "source": [
    "totchg_missing = fn_pt[(fn_pt.TOTCHG>9999999999999999999) | (fn_pt.TOTCHG<0)]\n",
    "totchg = fn_pt[(fn_pt.TOTCHG<9999999999999999999) & (fn_pt.TOTCHG>=0)]"
   ]
  },
  {
   "cell_type": "code",
   "execution_count": 10,
   "metadata": {},
   "outputs": [
    {
     "data": {
      "text/html": [
       "<div>\n",
       "<style scoped>\n",
       "    .dataframe tbody tr th:only-of-type {\n",
       "        vertical-align: middle;\n",
       "    }\n",
       "\n",
       "    .dataframe tbody tr th {\n",
       "        vertical-align: top;\n",
       "    }\n",
       "\n",
       "    .dataframe thead th {\n",
       "        text-align: right;\n",
       "    }\n",
       "</style>\n",
       "<table border=\"1\" class=\"dataframe\">\n",
       "  <thead>\n",
       "    <tr style=\"text-align: right;\">\n",
       "      <th></th>\n",
       "      <th>TOTCHG</th>\n",
       "    </tr>\n",
       "  </thead>\n",
       "  <tbody>\n",
       "    <tr>\n",
       "      <th>count</th>\n",
       "      <td>123033</td>\n",
       "    </tr>\n",
       "    <tr>\n",
       "      <th>mean</th>\n",
       "      <td>86773.2</td>\n",
       "    </tr>\n",
       "    <tr>\n",
       "      <th>std</th>\n",
       "      <td>136375</td>\n",
       "    </tr>\n",
       "    <tr>\n",
       "      <th>min</th>\n",
       "      <td>102</td>\n",
       "    </tr>\n",
       "    <tr>\n",
       "      <th>25%</th>\n",
       "      <td>18781</td>\n",
       "    </tr>\n",
       "    <tr>\n",
       "      <th>50%</th>\n",
       "      <td>37596</td>\n",
       "    </tr>\n",
       "    <tr>\n",
       "      <th>75%</th>\n",
       "      <td>95135</td>\n",
       "    </tr>\n",
       "    <tr>\n",
       "      <th>max</th>\n",
       "      <td>4.90893e+06</td>\n",
       "    </tr>\n",
       "    <tr>\n",
       "      <th>counts</th>\n",
       "      <td>123033</td>\n",
       "    </tr>\n",
       "    <tr>\n",
       "      <th>uniques</th>\n",
       "      <td>80242</td>\n",
       "    </tr>\n",
       "    <tr>\n",
       "      <th>missing</th>\n",
       "      <td>0</td>\n",
       "    </tr>\n",
       "    <tr>\n",
       "      <th>missing_perc</th>\n",
       "      <td>0%</td>\n",
       "    </tr>\n",
       "    <tr>\n",
       "      <th>types</th>\n",
       "      <td>numeric</td>\n",
       "    </tr>\n",
       "  </tbody>\n",
       "</table>\n",
       "</div>"
      ],
      "text/plain": [
       "                   TOTCHG\n",
       "count              123033\n",
       "mean              86773.2\n",
       "std                136375\n",
       "min                   102\n",
       "25%                 18781\n",
       "50%                 37596\n",
       "75%                 95135\n",
       "max           4.90893e+06\n",
       "counts             123033\n",
       "uniques             80242\n",
       "missing                 0\n",
       "missing_perc           0%\n",
       "types             numeric"
      ]
     },
     "execution_count": 10,
     "metadata": {},
     "output_type": "execute_result"
    }
   ],
   "source": [
    "DataFrameSummary(totchg[['TOTCHG']]).summary()"
   ]
  },
  {
   "cell_type": "markdown",
   "metadata": {},
   "source": [
    "#### Alive"
   ]
  },
  {
   "cell_type": "code",
   "execution_count": 11,
   "metadata": {},
   "outputs": [
    {
     "data": {
      "text/html": [
       "<div>\n",
       "<style scoped>\n",
       "    .dataframe tbody tr th:only-of-type {\n",
       "        vertical-align: middle;\n",
       "    }\n",
       "\n",
       "    .dataframe tbody tr th {\n",
       "        vertical-align: top;\n",
       "    }\n",
       "\n",
       "    .dataframe thead th {\n",
       "        text-align: right;\n",
       "    }\n",
       "</style>\n",
       "<table border=\"1\" class=\"dataframe\">\n",
       "  <thead>\n",
       "    <tr style=\"text-align: right;\">\n",
       "      <th></th>\n",
       "      <th>TOTCHG</th>\n",
       "    </tr>\n",
       "  </thead>\n",
       "  <tbody>\n",
       "    <tr>\n",
       "      <th>count</th>\n",
       "      <td>117273</td>\n",
       "    </tr>\n",
       "    <tr>\n",
       "      <th>mean</th>\n",
       "      <td>83122.2</td>\n",
       "    </tr>\n",
       "    <tr>\n",
       "      <th>std</th>\n",
       "      <td>128664</td>\n",
       "    </tr>\n",
       "    <tr>\n",
       "      <th>min</th>\n",
       "      <td>102</td>\n",
       "    </tr>\n",
       "    <tr>\n",
       "      <th>25%</th>\n",
       "      <td>18441</td>\n",
       "    </tr>\n",
       "    <tr>\n",
       "      <th>50%</th>\n",
       "      <td>36458</td>\n",
       "    </tr>\n",
       "    <tr>\n",
       "      <th>75%</th>\n",
       "      <td>90630</td>\n",
       "    </tr>\n",
       "    <tr>\n",
       "      <th>max</th>\n",
       "      <td>4.90893e+06</td>\n",
       "    </tr>\n",
       "    <tr>\n",
       "      <th>counts</th>\n",
       "      <td>117273</td>\n",
       "    </tr>\n",
       "    <tr>\n",
       "      <th>uniques</th>\n",
       "      <td>76647</td>\n",
       "    </tr>\n",
       "    <tr>\n",
       "      <th>missing</th>\n",
       "      <td>0</td>\n",
       "    </tr>\n",
       "    <tr>\n",
       "      <th>missing_perc</th>\n",
       "      <td>0%</td>\n",
       "    </tr>\n",
       "    <tr>\n",
       "      <th>types</th>\n",
       "      <td>numeric</td>\n",
       "    </tr>\n",
       "  </tbody>\n",
       "</table>\n",
       "</div>"
      ],
      "text/plain": [
       "                   TOTCHG\n",
       "count              117273\n",
       "mean              83122.2\n",
       "std                128664\n",
       "min                   102\n",
       "25%                 18441\n",
       "50%                 36458\n",
       "75%                 90630\n",
       "max           4.90893e+06\n",
       "counts             117273\n",
       "uniques             76647\n",
       "missing                 0\n",
       "missing_perc           0%\n",
       "types             numeric"
      ]
     },
     "execution_count": 11,
     "metadata": {},
     "output_type": "execute_result"
    }
   ],
   "source": [
    "DataFrameSummary(totchg[totchg.DIED == 0][['TOTCHG']]).summary()"
   ]
  },
  {
   "cell_type": "markdown",
   "metadata": {},
   "source": [
    "#### Died"
   ]
  },
  {
   "cell_type": "code",
   "execution_count": 12,
   "metadata": {},
   "outputs": [
    {
     "data": {
      "text/html": [
       "<div>\n",
       "<style scoped>\n",
       "    .dataframe tbody tr th:only-of-type {\n",
       "        vertical-align: middle;\n",
       "    }\n",
       "\n",
       "    .dataframe tbody tr th {\n",
       "        vertical-align: top;\n",
       "    }\n",
       "\n",
       "    .dataframe thead th {\n",
       "        text-align: right;\n",
       "    }\n",
       "</style>\n",
       "<table border=\"1\" class=\"dataframe\">\n",
       "  <thead>\n",
       "    <tr style=\"text-align: right;\">\n",
       "      <th></th>\n",
       "      <th>TOTCHG</th>\n",
       "    </tr>\n",
       "  </thead>\n",
       "  <tbody>\n",
       "    <tr>\n",
       "      <th>count</th>\n",
       "      <td>5694</td>\n",
       "    </tr>\n",
       "    <tr>\n",
       "      <th>mean</th>\n",
       "      <td>162086</td>\n",
       "    </tr>\n",
       "    <tr>\n",
       "      <th>std</th>\n",
       "      <td>234128</td>\n",
       "    </tr>\n",
       "    <tr>\n",
       "      <th>min</th>\n",
       "      <td>446</td>\n",
       "    </tr>\n",
       "    <tr>\n",
       "      <th>25%</th>\n",
       "      <td>32666.2</td>\n",
       "    </tr>\n",
       "    <tr>\n",
       "      <th>50%</th>\n",
       "      <td>80787</td>\n",
       "    </tr>\n",
       "    <tr>\n",
       "      <th>75%</th>\n",
       "      <td>192902</td>\n",
       "    </tr>\n",
       "    <tr>\n",
       "      <th>max</th>\n",
       "      <td>3.05879e+06</td>\n",
       "    </tr>\n",
       "    <tr>\n",
       "      <th>counts</th>\n",
       "      <td>5694</td>\n",
       "    </tr>\n",
       "    <tr>\n",
       "      <th>uniques</th>\n",
       "      <td>5615</td>\n",
       "    </tr>\n",
       "    <tr>\n",
       "      <th>missing</th>\n",
       "      <td>0</td>\n",
       "    </tr>\n",
       "    <tr>\n",
       "      <th>missing_perc</th>\n",
       "      <td>0%</td>\n",
       "    </tr>\n",
       "    <tr>\n",
       "      <th>types</th>\n",
       "      <td>numeric</td>\n",
       "    </tr>\n",
       "  </tbody>\n",
       "</table>\n",
       "</div>"
      ],
      "text/plain": [
       "                   TOTCHG\n",
       "count                5694\n",
       "mean               162086\n",
       "std                234128\n",
       "min                   446\n",
       "25%               32666.2\n",
       "50%                 80787\n",
       "75%                192902\n",
       "max           3.05879e+06\n",
       "counts               5694\n",
       "uniques              5615\n",
       "missing                 0\n",
       "missing_perc           0%\n",
       "types             numeric"
      ]
     },
     "execution_count": 12,
     "metadata": {},
     "output_type": "execute_result"
    }
   ],
   "source": [
    "DataFrameSummary(totchg[totchg.DIED == 1][['TOTCHG']]).summary()"
   ]
  },
  {
   "cell_type": "markdown",
   "metadata": {},
   "source": [
    "#### Missing"
   ]
  },
  {
   "cell_type": "code",
   "execution_count": 13,
   "metadata": {},
   "outputs": [
    {
     "data": {
      "text/plain": [
       "2633"
      ]
     },
     "execution_count": 13,
     "metadata": {},
     "output_type": "execute_result"
    }
   ],
   "source": [
    "len(totchg_missing)"
   ]
  },
  {
   "cell_type": "code",
   "execution_count": 14,
   "metadata": {},
   "outputs": [
    {
     "data": {
      "text/plain": [
       "2495"
      ]
     },
     "execution_count": 14,
     "metadata": {},
     "output_type": "execute_result"
    }
   ],
   "source": [
    "len(totchg_missing[totchg_missing.DIED == 0])"
   ]
  },
  {
   "cell_type": "code",
   "execution_count": 15,
   "metadata": {},
   "outputs": [
    {
     "data": {
      "text/plain": [
       "138"
      ]
     },
     "execution_count": 15,
     "metadata": {},
     "output_type": "execute_result"
    }
   ],
   "source": [
    "len(totchg_missing[totchg_missing.DIED == 1])"
   ]
  },
  {
   "cell_type": "markdown",
   "metadata": {},
   "source": [
    "#### T-test"
   ]
  },
  {
   "cell_type": "code",
   "execution_count": 16,
   "metadata": {},
   "outputs": [
    {
     "data": {
      "text/plain": [
       "Ttest_indResult(statistic=-24.084698924140476, pvalue=2.6161702858197947e-122)"
      ]
     },
     "execution_count": 16,
     "metadata": {},
     "output_type": "execute_result"
    }
   ],
   "source": [
    "ttest_ind(totchg.TOTCHG, totchg[totchg.DIED == 1].TOTCHG, equal_var=False)"
   ]
  },
  {
   "cell_type": "markdown",
   "metadata": {},
   "source": [
    "### Length of stay"
   ]
  },
  {
   "cell_type": "code",
   "execution_count": 24,
   "metadata": {},
   "outputs": [],
   "source": [
    "fn_pt = pd.read_csv('../../../data/hcup/nis/all_year_combination/train_test.csv', dtype = str, quoting = csv.QUOTE_ALL)"
   ]
  },
  {
   "cell_type": "code",
   "execution_count": 29,
   "metadata": {},
   "outputs": [],
   "source": [
    "fn_pt.LOS = fn_pt.LOS.astype(int)\n",
    "fn_pt.DIED = fn_pt.DIED.astype(int)"
   ]
  },
  {
   "cell_type": "code",
   "execution_count": 32,
   "metadata": {},
   "outputs": [],
   "source": [
    "los_missing = fn_pt[(fn_pt.LOS>9999999999999999999) | (fn_pt.LOS<0)]\n",
    "los = fn_pt[(fn_pt.LOS<9999999999999999999) & (fn_pt.LOS>=0)]"
   ]
  },
  {
   "cell_type": "code",
   "execution_count": 33,
   "metadata": {},
   "outputs": [
    {
     "data": {
      "text/html": [
       "<div>\n",
       "<style scoped>\n",
       "    .dataframe tbody tr th:only-of-type {\n",
       "        vertical-align: middle;\n",
       "    }\n",
       "\n",
       "    .dataframe tbody tr th {\n",
       "        vertical-align: top;\n",
       "    }\n",
       "\n",
       "    .dataframe thead th {\n",
       "        text-align: right;\n",
       "    }\n",
       "</style>\n",
       "<table border=\"1\" class=\"dataframe\">\n",
       "  <thead>\n",
       "    <tr style=\"text-align: right;\">\n",
       "      <th></th>\n",
       "      <th>LOS</th>\n",
       "    </tr>\n",
       "  </thead>\n",
       "  <tbody>\n",
       "    <tr>\n",
       "      <th>count</th>\n",
       "      <td>126013</td>\n",
       "    </tr>\n",
       "    <tr>\n",
       "      <th>mean</th>\n",
       "      <td>10.1946</td>\n",
       "    </tr>\n",
       "    <tr>\n",
       "      <th>std</th>\n",
       "      <td>11.386</td>\n",
       "    </tr>\n",
       "    <tr>\n",
       "      <th>min</th>\n",
       "      <td>0</td>\n",
       "    </tr>\n",
       "    <tr>\n",
       "      <th>25%</th>\n",
       "      <td>3</td>\n",
       "    </tr>\n",
       "    <tr>\n",
       "      <th>50%</th>\n",
       "      <td>6</td>\n",
       "    </tr>\n",
       "    <tr>\n",
       "      <th>75%</th>\n",
       "      <td>13</td>\n",
       "    </tr>\n",
       "    <tr>\n",
       "      <th>max</th>\n",
       "      <td>250</td>\n",
       "    </tr>\n",
       "    <tr>\n",
       "      <th>counts</th>\n",
       "      <td>126013</td>\n",
       "    </tr>\n",
       "    <tr>\n",
       "      <th>uniques</th>\n",
       "      <td>144</td>\n",
       "    </tr>\n",
       "    <tr>\n",
       "      <th>missing</th>\n",
       "      <td>0</td>\n",
       "    </tr>\n",
       "    <tr>\n",
       "      <th>missing_perc</th>\n",
       "      <td>0%</td>\n",
       "    </tr>\n",
       "    <tr>\n",
       "      <th>types</th>\n",
       "      <td>numeric</td>\n",
       "    </tr>\n",
       "  </tbody>\n",
       "</table>\n",
       "</div>"
      ],
      "text/plain": [
       "                  LOS\n",
       "count          126013\n",
       "mean          10.1946\n",
       "std            11.386\n",
       "min                 0\n",
       "25%                 3\n",
       "50%                 6\n",
       "75%                13\n",
       "max               250\n",
       "counts         126013\n",
       "uniques           144\n",
       "missing             0\n",
       "missing_perc       0%\n",
       "types         numeric"
      ]
     },
     "execution_count": 33,
     "metadata": {},
     "output_type": "execute_result"
    }
   ],
   "source": [
    "DataFrameSummary(los[['LOS']]).summary()"
   ]
  },
  {
   "cell_type": "markdown",
   "metadata": {},
   "source": [
    "#### Alive"
   ]
  },
  {
   "cell_type": "code",
   "execution_count": 35,
   "metadata": {},
   "outputs": [
    {
     "data": {
      "text/html": [
       "<div>\n",
       "<style scoped>\n",
       "    .dataframe tbody tr th:only-of-type {\n",
       "        vertical-align: middle;\n",
       "    }\n",
       "\n",
       "    .dataframe tbody tr th {\n",
       "        vertical-align: top;\n",
       "    }\n",
       "\n",
       "    .dataframe thead th {\n",
       "        text-align: right;\n",
       "    }\n",
       "</style>\n",
       "<table border=\"1\" class=\"dataframe\">\n",
       "  <thead>\n",
       "    <tr style=\"text-align: right;\">\n",
       "      <th></th>\n",
       "      <th>LOS</th>\n",
       "    </tr>\n",
       "  </thead>\n",
       "  <tbody>\n",
       "    <tr>\n",
       "      <th>count</th>\n",
       "      <td>120091</td>\n",
       "    </tr>\n",
       "    <tr>\n",
       "      <th>mean</th>\n",
       "      <td>10.0133</td>\n",
       "    </tr>\n",
       "    <tr>\n",
       "      <th>std</th>\n",
       "      <td>11.016</td>\n",
       "    </tr>\n",
       "    <tr>\n",
       "      <th>min</th>\n",
       "      <td>0</td>\n",
       "    </tr>\n",
       "    <tr>\n",
       "      <th>25%</th>\n",
       "      <td>3</td>\n",
       "    </tr>\n",
       "    <tr>\n",
       "      <th>50%</th>\n",
       "      <td>6</td>\n",
       "    </tr>\n",
       "    <tr>\n",
       "      <th>75%</th>\n",
       "      <td>12</td>\n",
       "    </tr>\n",
       "    <tr>\n",
       "      <th>max</th>\n",
       "      <td>207</td>\n",
       "    </tr>\n",
       "    <tr>\n",
       "      <th>counts</th>\n",
       "      <td>120091</td>\n",
       "    </tr>\n",
       "    <tr>\n",
       "      <th>uniques</th>\n",
       "      <td>135</td>\n",
       "    </tr>\n",
       "    <tr>\n",
       "      <th>missing</th>\n",
       "      <td>0</td>\n",
       "    </tr>\n",
       "    <tr>\n",
       "      <th>missing_perc</th>\n",
       "      <td>0%</td>\n",
       "    </tr>\n",
       "    <tr>\n",
       "      <th>types</th>\n",
       "      <td>numeric</td>\n",
       "    </tr>\n",
       "  </tbody>\n",
       "</table>\n",
       "</div>"
      ],
      "text/plain": [
       "                  LOS\n",
       "count          120091\n",
       "mean          10.0133\n",
       "std            11.016\n",
       "min                 0\n",
       "25%                 3\n",
       "50%                 6\n",
       "75%                12\n",
       "max               207\n",
       "counts         120091\n",
       "uniques           135\n",
       "missing             0\n",
       "missing_perc       0%\n",
       "types         numeric"
      ]
     },
     "execution_count": 35,
     "metadata": {},
     "output_type": "execute_result"
    }
   ],
   "source": [
    "DataFrameSummary(los[los.DIED == 0][['LOS']]).summary()"
   ]
  },
  {
   "cell_type": "markdown",
   "metadata": {},
   "source": [
    "#### Died"
   ]
  },
  {
   "cell_type": "code",
   "execution_count": 36,
   "metadata": {},
   "outputs": [
    {
     "data": {
      "text/html": [
       "<div>\n",
       "<style scoped>\n",
       "    .dataframe tbody tr th:only-of-type {\n",
       "        vertical-align: middle;\n",
       "    }\n",
       "\n",
       "    .dataframe tbody tr th {\n",
       "        vertical-align: top;\n",
       "    }\n",
       "\n",
       "    .dataframe thead th {\n",
       "        text-align: right;\n",
       "    }\n",
       "</style>\n",
       "<table border=\"1\" class=\"dataframe\">\n",
       "  <thead>\n",
       "    <tr style=\"text-align: right;\">\n",
       "      <th></th>\n",
       "      <th>LOS</th>\n",
       "    </tr>\n",
       "  </thead>\n",
       "  <tbody>\n",
       "    <tr>\n",
       "      <th>count</th>\n",
       "      <td>5856</td>\n",
       "    </tr>\n",
       "    <tr>\n",
       "      <th>mean</th>\n",
       "      <td>13.9083</td>\n",
       "    </tr>\n",
       "    <tr>\n",
       "      <th>std</th>\n",
       "      <td>16.8817</td>\n",
       "    </tr>\n",
       "    <tr>\n",
       "      <th>min</th>\n",
       "      <td>0</td>\n",
       "    </tr>\n",
       "    <tr>\n",
       "      <th>25%</th>\n",
       "      <td>4</td>\n",
       "    </tr>\n",
       "    <tr>\n",
       "      <th>50%</th>\n",
       "      <td>9</td>\n",
       "    </tr>\n",
       "    <tr>\n",
       "      <th>75%</th>\n",
       "      <td>18</td>\n",
       "    </tr>\n",
       "    <tr>\n",
       "      <th>max</th>\n",
       "      <td>250</td>\n",
       "    </tr>\n",
       "    <tr>\n",
       "      <th>counts</th>\n",
       "      <td>5856</td>\n",
       "    </tr>\n",
       "    <tr>\n",
       "      <th>uniques</th>\n",
       "      <td>113</td>\n",
       "    </tr>\n",
       "    <tr>\n",
       "      <th>missing</th>\n",
       "      <td>0</td>\n",
       "    </tr>\n",
       "    <tr>\n",
       "      <th>missing_perc</th>\n",
       "      <td>0%</td>\n",
       "    </tr>\n",
       "    <tr>\n",
       "      <th>types</th>\n",
       "      <td>numeric</td>\n",
       "    </tr>\n",
       "  </tbody>\n",
       "</table>\n",
       "</div>"
      ],
      "text/plain": [
       "                  LOS\n",
       "count            5856\n",
       "mean          13.9083\n",
       "std           16.8817\n",
       "min                 0\n",
       "25%                 4\n",
       "50%                 9\n",
       "75%                18\n",
       "max               250\n",
       "counts           5856\n",
       "uniques           113\n",
       "missing             0\n",
       "missing_perc       0%\n",
       "types         numeric"
      ]
     },
     "execution_count": 36,
     "metadata": {},
     "output_type": "execute_result"
    }
   ],
   "source": [
    "DataFrameSummary(los[los.DIED == 1][['LOS']]).summary()"
   ]
  },
  {
   "cell_type": "markdown",
   "metadata": {},
   "source": [
    "#### Missing"
   ]
  },
  {
   "cell_type": "code",
   "execution_count": 37,
   "metadata": {},
   "outputs": [
    {
     "data": {
      "text/plain": [
       "0"
      ]
     },
     "execution_count": 37,
     "metadata": {},
     "output_type": "execute_result"
    }
   ],
   "source": [
    "len(los_missing)"
   ]
  },
  {
   "cell_type": "markdown",
   "metadata": {},
   "source": [
    "#### T-test"
   ]
  },
  {
   "cell_type": "code",
   "execution_count": 38,
   "metadata": {},
   "outputs": [
    {
     "data": {
      "text/plain": [
       "Ttest_indResult(statistic=-16.658911916390824, pvalue=5.6933411911184054e-61)"
      ]
     },
     "execution_count": 38,
     "metadata": {},
     "output_type": "execute_result"
    }
   ],
   "source": [
    "ttest_ind(los.LOS, los[los.DIED == 1].LOS, equal_var=False)"
   ]
  },
  {
   "cell_type": "markdown",
   "metadata": {},
   "source": [
    "### Total discharges in a hospital"
   ]
  },
  {
   "cell_type": "code",
   "execution_count": 39,
   "metadata": {},
   "outputs": [],
   "source": [
    "fn_pt = pd.read_pickle('../../../data/hcup/nis/all_year_combination/cleaned_for_repcv.pickle')"
   ]
  },
  {
   "cell_type": "code",
   "execution_count": 40,
   "metadata": {},
   "outputs": [],
   "source": [
    "totdisc_missing = fn_pt[(fn_pt.TOTAL_DISC>9999999999999999999) | (fn_pt.TOTAL_DISC<0)]\n",
    "totdisc = fn_pt[(fn_pt.TOTAL_DISC<9999999999999999999) & (fn_pt.TOTAL_DISC>=0)]"
   ]
  },
  {
   "cell_type": "code",
   "execution_count": 41,
   "metadata": {},
   "outputs": [
    {
     "data": {
      "text/html": [
       "<div>\n",
       "<style scoped>\n",
       "    .dataframe tbody tr th:only-of-type {\n",
       "        vertical-align: middle;\n",
       "    }\n",
       "\n",
       "    .dataframe tbody tr th {\n",
       "        vertical-align: top;\n",
       "    }\n",
       "\n",
       "    .dataframe thead th {\n",
       "        text-align: right;\n",
       "    }\n",
       "</style>\n",
       "<table border=\"1\" class=\"dataframe\">\n",
       "  <thead>\n",
       "    <tr style=\"text-align: right;\">\n",
       "      <th></th>\n",
       "      <th>TOTAL_DISC</th>\n",
       "    </tr>\n",
       "  </thead>\n",
       "  <tbody>\n",
       "    <tr>\n",
       "      <th>count</th>\n",
       "      <td>126013</td>\n",
       "    </tr>\n",
       "    <tr>\n",
       "      <th>mean</th>\n",
       "      <td>16425.8</td>\n",
       "    </tr>\n",
       "    <tr>\n",
       "      <th>std</th>\n",
       "      <td>17626.9</td>\n",
       "    </tr>\n",
       "    <tr>\n",
       "      <th>min</th>\n",
       "      <td>17</td>\n",
       "    </tr>\n",
       "    <tr>\n",
       "      <th>25%</th>\n",
       "      <td>4411</td>\n",
       "    </tr>\n",
       "    <tr>\n",
       "      <th>50%</th>\n",
       "      <td>9760</td>\n",
       "    </tr>\n",
       "    <tr>\n",
       "      <th>75%</th>\n",
       "      <td>23026</td>\n",
       "    </tr>\n",
       "    <tr>\n",
       "      <th>max</th>\n",
       "      <td>121668</td>\n",
       "    </tr>\n",
       "    <tr>\n",
       "      <th>counts</th>\n",
       "      <td>126013</td>\n",
       "    </tr>\n",
       "    <tr>\n",
       "      <th>uniques</th>\n",
       "      <td>6856</td>\n",
       "    </tr>\n",
       "    <tr>\n",
       "      <th>missing</th>\n",
       "      <td>0</td>\n",
       "    </tr>\n",
       "    <tr>\n",
       "      <th>missing_perc</th>\n",
       "      <td>0%</td>\n",
       "    </tr>\n",
       "    <tr>\n",
       "      <th>types</th>\n",
       "      <td>numeric</td>\n",
       "    </tr>\n",
       "  </tbody>\n",
       "</table>\n",
       "</div>"
      ],
      "text/plain": [
       "             TOTAL_DISC\n",
       "count            126013\n",
       "mean            16425.8\n",
       "std             17626.9\n",
       "min                  17\n",
       "25%                4411\n",
       "50%                9760\n",
       "75%               23026\n",
       "max              121668\n",
       "counts           126013\n",
       "uniques            6856\n",
       "missing               0\n",
       "missing_perc         0%\n",
       "types           numeric"
      ]
     },
     "execution_count": 41,
     "metadata": {},
     "output_type": "execute_result"
    }
   ],
   "source": [
    "DataFrameSummary(totdisc[['TOTAL_DISC']]).summary()"
   ]
  },
  {
   "cell_type": "markdown",
   "metadata": {},
   "source": [
    "#### Alive"
   ]
  },
  {
   "cell_type": "code",
   "execution_count": 42,
   "metadata": {},
   "outputs": [
    {
     "data": {
      "text/html": [
       "<div>\n",
       "<style scoped>\n",
       "    .dataframe tbody tr th:only-of-type {\n",
       "        vertical-align: middle;\n",
       "    }\n",
       "\n",
       "    .dataframe tbody tr th {\n",
       "        vertical-align: top;\n",
       "    }\n",
       "\n",
       "    .dataframe thead th {\n",
       "        text-align: right;\n",
       "    }\n",
       "</style>\n",
       "<table border=\"1\" class=\"dataframe\">\n",
       "  <thead>\n",
       "    <tr style=\"text-align: right;\">\n",
       "      <th></th>\n",
       "      <th>TOTAL_DISC</th>\n",
       "    </tr>\n",
       "  </thead>\n",
       "  <tbody>\n",
       "    <tr>\n",
       "      <th>count</th>\n",
       "      <td>120091</td>\n",
       "    </tr>\n",
       "    <tr>\n",
       "      <th>mean</th>\n",
       "      <td>16451.8</td>\n",
       "    </tr>\n",
       "    <tr>\n",
       "      <th>std</th>\n",
       "      <td>17641.7</td>\n",
       "    </tr>\n",
       "    <tr>\n",
       "      <th>min</th>\n",
       "      <td>17</td>\n",
       "    </tr>\n",
       "    <tr>\n",
       "      <th>25%</th>\n",
       "      <td>4411</td>\n",
       "    </tr>\n",
       "    <tr>\n",
       "      <th>50%</th>\n",
       "      <td>9764</td>\n",
       "    </tr>\n",
       "    <tr>\n",
       "      <th>75%</th>\n",
       "      <td>23160</td>\n",
       "    </tr>\n",
       "    <tr>\n",
       "      <th>max</th>\n",
       "      <td>121668</td>\n",
       "    </tr>\n",
       "    <tr>\n",
       "      <th>counts</th>\n",
       "      <td>120091</td>\n",
       "    </tr>\n",
       "    <tr>\n",
       "      <th>uniques</th>\n",
       "      <td>6833</td>\n",
       "    </tr>\n",
       "    <tr>\n",
       "      <th>missing</th>\n",
       "      <td>0</td>\n",
       "    </tr>\n",
       "    <tr>\n",
       "      <th>missing_perc</th>\n",
       "      <td>0%</td>\n",
       "    </tr>\n",
       "    <tr>\n",
       "      <th>types</th>\n",
       "      <td>numeric</td>\n",
       "    </tr>\n",
       "  </tbody>\n",
       "</table>\n",
       "</div>"
      ],
      "text/plain": [
       "             TOTAL_DISC\n",
       "count            120091\n",
       "mean            16451.8\n",
       "std             17641.7\n",
       "min                  17\n",
       "25%                4411\n",
       "50%                9764\n",
       "75%               23160\n",
       "max              121668\n",
       "counts           120091\n",
       "uniques            6833\n",
       "missing               0\n",
       "missing_perc         0%\n",
       "types           numeric"
      ]
     },
     "execution_count": 42,
     "metadata": {},
     "output_type": "execute_result"
    }
   ],
   "source": [
    "DataFrameSummary(totdisc[totdisc.DIED == 0][['TOTAL_DISC']]).summary()"
   ]
  },
  {
   "cell_type": "markdown",
   "metadata": {},
   "source": [
    "#### died"
   ]
  },
  {
   "cell_type": "code",
   "execution_count": 43,
   "metadata": {},
   "outputs": [
    {
     "data": {
      "text/html": [
       "<div>\n",
       "<style scoped>\n",
       "    .dataframe tbody tr th:only-of-type {\n",
       "        vertical-align: middle;\n",
       "    }\n",
       "\n",
       "    .dataframe tbody tr th {\n",
       "        vertical-align: top;\n",
       "    }\n",
       "\n",
       "    .dataframe thead th {\n",
       "        text-align: right;\n",
       "    }\n",
       "</style>\n",
       "<table border=\"1\" class=\"dataframe\">\n",
       "  <thead>\n",
       "    <tr style=\"text-align: right;\">\n",
       "      <th></th>\n",
       "      <th>TOTAL_DISC</th>\n",
       "    </tr>\n",
       "  </thead>\n",
       "  <tbody>\n",
       "    <tr>\n",
       "      <th>count</th>\n",
       "      <td>5856</td>\n",
       "    </tr>\n",
       "    <tr>\n",
       "      <th>mean</th>\n",
       "      <td>15905.4</td>\n",
       "    </tr>\n",
       "    <tr>\n",
       "      <th>std</th>\n",
       "      <td>17359.5</td>\n",
       "    </tr>\n",
       "    <tr>\n",
       "      <th>min</th>\n",
       "      <td>106</td>\n",
       "    </tr>\n",
       "    <tr>\n",
       "      <th>25%</th>\n",
       "      <td>4309.25</td>\n",
       "    </tr>\n",
       "    <tr>\n",
       "      <th>50%</th>\n",
       "      <td>9225</td>\n",
       "    </tr>\n",
       "    <tr>\n",
       "      <th>75%</th>\n",
       "      <td>22305</td>\n",
       "    </tr>\n",
       "    <tr>\n",
       "      <th>max</th>\n",
       "      <td>121668</td>\n",
       "    </tr>\n",
       "    <tr>\n",
       "      <th>counts</th>\n",
       "      <td>5856</td>\n",
       "    </tr>\n",
       "    <tr>\n",
       "      <th>uniques</th>\n",
       "      <td>2741</td>\n",
       "    </tr>\n",
       "    <tr>\n",
       "      <th>missing</th>\n",
       "      <td>0</td>\n",
       "    </tr>\n",
       "    <tr>\n",
       "      <th>missing_perc</th>\n",
       "      <td>0%</td>\n",
       "    </tr>\n",
       "    <tr>\n",
       "      <th>types</th>\n",
       "      <td>numeric</td>\n",
       "    </tr>\n",
       "  </tbody>\n",
       "</table>\n",
       "</div>"
      ],
      "text/plain": [
       "             TOTAL_DISC\n",
       "count              5856\n",
       "mean            15905.4\n",
       "std             17359.5\n",
       "min                 106\n",
       "25%             4309.25\n",
       "50%                9225\n",
       "75%               22305\n",
       "max              121668\n",
       "counts             5856\n",
       "uniques            2741\n",
       "missing               0\n",
       "missing_perc         0%\n",
       "types           numeric"
      ]
     },
     "execution_count": 43,
     "metadata": {},
     "output_type": "execute_result"
    }
   ],
   "source": [
    "DataFrameSummary(totdisc[totdisc.DIED == 1][['TOTAL_DISC']]).summary()"
   ]
  },
  {
   "cell_type": "markdown",
   "metadata": {},
   "source": [
    "#### missing"
   ]
  },
  {
   "cell_type": "code",
   "execution_count": 44,
   "metadata": {},
   "outputs": [
    {
     "data": {
      "text/plain": [
       "0"
      ]
     },
     "execution_count": 44,
     "metadata": {},
     "output_type": "execute_result"
    }
   ],
   "source": [
    "len(totdisc_missing)"
   ]
  },
  {
   "cell_type": "markdown",
   "metadata": {},
   "source": [
    "#### T-test"
   ]
  },
  {
   "cell_type": "code",
   "execution_count": 45,
   "metadata": {},
   "outputs": [
    {
     "data": {
      "text/plain": [
       "Ttest_indResult(statistic=2.240792437305709, pvalue=0.025073531158441516)"
      ]
     },
     "execution_count": 45,
     "metadata": {},
     "output_type": "execute_result"
    }
   ],
   "source": [
    "ttest_ind(totdisc.TOTAL_DISC, totdisc[totdisc.DIED == 1].TOTAL_DISC, equal_var=False)"
   ]
  },
  {
   "cell_type": "code",
   "execution_count": 46,
   "metadata": {},
   "outputs": [
    {
     "data": {
      "text/plain": [
       "0.013004462386917165"
      ]
     },
     "execution_count": 46,
     "metadata": {},
     "output_type": "execute_result"
    }
   ],
   "source": [
    "0.0005911119266780529*22"
   ]
  },
  {
   "cell_type": "markdown",
   "metadata": {},
   "source": [
    "### Age"
   ]
  },
  {
   "cell_type": "code",
   "execution_count": 47,
   "metadata": {},
   "outputs": [
    {
     "data": {
      "text/html": [
       "<div>\n",
       "<style scoped>\n",
       "    .dataframe tbody tr th:only-of-type {\n",
       "        vertical-align: middle;\n",
       "    }\n",
       "\n",
       "    .dataframe tbody tr th {\n",
       "        vertical-align: top;\n",
       "    }\n",
       "\n",
       "    .dataframe thead th {\n",
       "        text-align: right;\n",
       "    }\n",
       "</style>\n",
       "<table border=\"1\" class=\"dataframe\">\n",
       "  <thead>\n",
       "    <tr style=\"text-align: right;\">\n",
       "      <th></th>\n",
       "      <th>AGE</th>\n",
       "    </tr>\n",
       "  </thead>\n",
       "  <tbody>\n",
       "    <tr>\n",
       "      <th>count</th>\n",
       "      <td>126013</td>\n",
       "    </tr>\n",
       "    <tr>\n",
       "      <th>mean</th>\n",
       "      <td>58.5265</td>\n",
       "    </tr>\n",
       "    <tr>\n",
       "      <th>std</th>\n",
       "      <td>15.8922</td>\n",
       "    </tr>\n",
       "    <tr>\n",
       "      <th>min</th>\n",
       "      <td>18</td>\n",
       "    </tr>\n",
       "    <tr>\n",
       "      <th>25%</th>\n",
       "      <td>50</td>\n",
       "    </tr>\n",
       "    <tr>\n",
       "      <th>50%</th>\n",
       "      <td>61</td>\n",
       "    </tr>\n",
       "    <tr>\n",
       "      <th>75%</th>\n",
       "      <td>70</td>\n",
       "    </tr>\n",
       "    <tr>\n",
       "      <th>max</th>\n",
       "      <td>100</td>\n",
       "    </tr>\n",
       "    <tr>\n",
       "      <th>counts</th>\n",
       "      <td>126013</td>\n",
       "    </tr>\n",
       "    <tr>\n",
       "      <th>uniques</th>\n",
       "      <td>83</td>\n",
       "    </tr>\n",
       "    <tr>\n",
       "      <th>missing</th>\n",
       "      <td>0</td>\n",
       "    </tr>\n",
       "    <tr>\n",
       "      <th>missing_perc</th>\n",
       "      <td>0%</td>\n",
       "    </tr>\n",
       "    <tr>\n",
       "      <th>types</th>\n",
       "      <td>numeric</td>\n",
       "    </tr>\n",
       "  </tbody>\n",
       "</table>\n",
       "</div>"
      ],
      "text/plain": [
       "                  AGE\n",
       "count          126013\n",
       "mean          58.5265\n",
       "std           15.8922\n",
       "min                18\n",
       "25%                50\n",
       "50%                61\n",
       "75%                70\n",
       "max               100\n",
       "counts         126013\n",
       "uniques            83\n",
       "missing             0\n",
       "missing_perc       0%\n",
       "types         numeric"
      ]
     },
     "execution_count": 47,
     "metadata": {},
     "output_type": "execute_result"
    }
   ],
   "source": [
    "DataFrameSummary(fn_pt[['AGE']]).summary()"
   ]
  },
  {
   "cell_type": "markdown",
   "metadata": {},
   "source": [
    "#### Alive"
   ]
  },
  {
   "cell_type": "code",
   "execution_count": 48,
   "metadata": {},
   "outputs": [
    {
     "data": {
      "text/html": [
       "<div>\n",
       "<style scoped>\n",
       "    .dataframe tbody tr th:only-of-type {\n",
       "        vertical-align: middle;\n",
       "    }\n",
       "\n",
       "    .dataframe tbody tr th {\n",
       "        vertical-align: top;\n",
       "    }\n",
       "\n",
       "    .dataframe thead th {\n",
       "        text-align: right;\n",
       "    }\n",
       "</style>\n",
       "<table border=\"1\" class=\"dataframe\">\n",
       "  <thead>\n",
       "    <tr style=\"text-align: right;\">\n",
       "      <th></th>\n",
       "      <th>AGE</th>\n",
       "    </tr>\n",
       "  </thead>\n",
       "  <tbody>\n",
       "    <tr>\n",
       "      <th>count</th>\n",
       "      <td>120091</td>\n",
       "    </tr>\n",
       "    <tr>\n",
       "      <th>mean</th>\n",
       "      <td>58.2496</td>\n",
       "    </tr>\n",
       "    <tr>\n",
       "      <th>std</th>\n",
       "      <td>15.9181</td>\n",
       "    </tr>\n",
       "    <tr>\n",
       "      <th>min</th>\n",
       "      <td>18</td>\n",
       "    </tr>\n",
       "    <tr>\n",
       "      <th>25%</th>\n",
       "      <td>49</td>\n",
       "    </tr>\n",
       "    <tr>\n",
       "      <th>50%</th>\n",
       "      <td>61</td>\n",
       "    </tr>\n",
       "    <tr>\n",
       "      <th>75%</th>\n",
       "      <td>70</td>\n",
       "    </tr>\n",
       "    <tr>\n",
       "      <th>max</th>\n",
       "      <td>100</td>\n",
       "    </tr>\n",
       "    <tr>\n",
       "      <th>counts</th>\n",
       "      <td>120091</td>\n",
       "    </tr>\n",
       "    <tr>\n",
       "      <th>uniques</th>\n",
       "      <td>83</td>\n",
       "    </tr>\n",
       "    <tr>\n",
       "      <th>missing</th>\n",
       "      <td>0</td>\n",
       "    </tr>\n",
       "    <tr>\n",
       "      <th>missing_perc</th>\n",
       "      <td>0%</td>\n",
       "    </tr>\n",
       "    <tr>\n",
       "      <th>types</th>\n",
       "      <td>numeric</td>\n",
       "    </tr>\n",
       "  </tbody>\n",
       "</table>\n",
       "</div>"
      ],
      "text/plain": [
       "                  AGE\n",
       "count          120091\n",
       "mean          58.2496\n",
       "std           15.9181\n",
       "min                18\n",
       "25%                49\n",
       "50%                61\n",
       "75%                70\n",
       "max               100\n",
       "counts         120091\n",
       "uniques            83\n",
       "missing             0\n",
       "missing_perc       0%\n",
       "types         numeric"
      ]
     },
     "execution_count": 48,
     "metadata": {},
     "output_type": "execute_result"
    }
   ],
   "source": [
    "DataFrameSummary(alive[['AGE']]).summary()"
   ]
  },
  {
   "cell_type": "markdown",
   "metadata": {},
   "source": [
    "#### Died"
   ]
  },
  {
   "cell_type": "code",
   "execution_count": 49,
   "metadata": {},
   "outputs": [
    {
     "data": {
      "text/html": [
       "<div>\n",
       "<style scoped>\n",
       "    .dataframe tbody tr th:only-of-type {\n",
       "        vertical-align: middle;\n",
       "    }\n",
       "\n",
       "    .dataframe tbody tr th {\n",
       "        vertical-align: top;\n",
       "    }\n",
       "\n",
       "    .dataframe thead th {\n",
       "        text-align: right;\n",
       "    }\n",
       "</style>\n",
       "<table border=\"1\" class=\"dataframe\">\n",
       "  <thead>\n",
       "    <tr style=\"text-align: right;\">\n",
       "      <th></th>\n",
       "      <th>AGE</th>\n",
       "    </tr>\n",
       "  </thead>\n",
       "  <tbody>\n",
       "    <tr>\n",
       "      <th>count</th>\n",
       "      <td>5856</td>\n",
       "    </tr>\n",
       "    <tr>\n",
       "      <th>mean</th>\n",
       "      <td>64.1786</td>\n",
       "    </tr>\n",
       "    <tr>\n",
       "      <th>std</th>\n",
       "      <td>14.2377</td>\n",
       "    </tr>\n",
       "    <tr>\n",
       "      <th>min</th>\n",
       "      <td>18</td>\n",
       "    </tr>\n",
       "    <tr>\n",
       "      <th>25%</th>\n",
       "      <td>57</td>\n",
       "    </tr>\n",
       "    <tr>\n",
       "      <th>50%</th>\n",
       "      <td>66</td>\n",
       "    </tr>\n",
       "    <tr>\n",
       "      <th>75%</th>\n",
       "      <td>75</td>\n",
       "    </tr>\n",
       "    <tr>\n",
       "      <th>max</th>\n",
       "      <td>96</td>\n",
       "    </tr>\n",
       "    <tr>\n",
       "      <th>counts</th>\n",
       "      <td>5856</td>\n",
       "    </tr>\n",
       "    <tr>\n",
       "      <th>uniques</th>\n",
       "      <td>79</td>\n",
       "    </tr>\n",
       "    <tr>\n",
       "      <th>missing</th>\n",
       "      <td>0</td>\n",
       "    </tr>\n",
       "    <tr>\n",
       "      <th>missing_perc</th>\n",
       "      <td>0%</td>\n",
       "    </tr>\n",
       "    <tr>\n",
       "      <th>types</th>\n",
       "      <td>numeric</td>\n",
       "    </tr>\n",
       "  </tbody>\n",
       "</table>\n",
       "</div>"
      ],
      "text/plain": [
       "                  AGE\n",
       "count            5856\n",
       "mean          64.1786\n",
       "std           14.2377\n",
       "min                18\n",
       "25%                57\n",
       "50%                66\n",
       "75%                75\n",
       "max                96\n",
       "counts           5856\n",
       "uniques            79\n",
       "missing             0\n",
       "missing_perc       0%\n",
       "types         numeric"
      ]
     },
     "execution_count": 49,
     "metadata": {},
     "output_type": "execute_result"
    }
   ],
   "source": [
    "DataFrameSummary(died[['AGE']]).summary()"
   ]
  },
  {
   "cell_type": "markdown",
   "metadata": {},
   "source": [
    "#### T-test"
   ]
  },
  {
   "cell_type": "code",
   "execution_count": 50,
   "metadata": {},
   "outputs": [
    {
     "data": {
      "text/plain": [
       "Ttest_indResult(statistic=-29.535738673824767, pvalue=4.17633918042171e-180)"
      ]
     },
     "execution_count": 50,
     "metadata": {},
     "output_type": "execute_result"
    }
   ],
   "source": [
    "ttest_ind(fn_pt.AGE, died.AGE, equal_var=False)"
   ]
  },
  {
   "cell_type": "markdown",
   "metadata": {},
   "source": [
    "### Gender"
   ]
  },
  {
   "cell_type": "code",
   "execution_count": 51,
   "metadata": {},
   "outputs": [],
   "source": [
    "gender = fn_pt[(fn_pt.FEMALE<9999999999999999999) & (fn_pt.FEMALE>=0)]"
   ]
  },
  {
   "cell_type": "code",
   "execution_count": 52,
   "metadata": {},
   "outputs": [],
   "source": [
    "gender_missing = fn_pt[(fn_pt.FEMALE>9999999999999999999) | (fn_pt.FEMALE<0)]"
   ]
  },
  {
   "cell_type": "code",
   "execution_count": 53,
   "metadata": {},
   "outputs": [
    {
     "data": {
      "text/html": [
       "<div>\n",
       "<style scoped>\n",
       "    .dataframe tbody tr th:only-of-type {\n",
       "        vertical-align: middle;\n",
       "    }\n",
       "\n",
       "    .dataframe tbody tr th {\n",
       "        vertical-align: top;\n",
       "    }\n",
       "\n",
       "    .dataframe thead th {\n",
       "        text-align: right;\n",
       "    }\n",
       "</style>\n",
       "<table border=\"1\" class=\"dataframe\">\n",
       "  <thead>\n",
       "    <tr style=\"text-align: right;\">\n",
       "      <th></th>\n",
       "      <th>FEMALE</th>\n",
       "    </tr>\n",
       "  </thead>\n",
       "  <tbody>\n",
       "    <tr>\n",
       "      <th>count</th>\n",
       "      <td>126009</td>\n",
       "    </tr>\n",
       "    <tr>\n",
       "      <th>mean</th>\n",
       "      <td>0.499615</td>\n",
       "    </tr>\n",
       "    <tr>\n",
       "      <th>std</th>\n",
       "      <td>0.500002</td>\n",
       "    </tr>\n",
       "    <tr>\n",
       "      <th>min</th>\n",
       "      <td>0</td>\n",
       "    </tr>\n",
       "    <tr>\n",
       "      <th>25%</th>\n",
       "      <td>0</td>\n",
       "    </tr>\n",
       "    <tr>\n",
       "      <th>50%</th>\n",
       "      <td>0</td>\n",
       "    </tr>\n",
       "    <tr>\n",
       "      <th>75%</th>\n",
       "      <td>1</td>\n",
       "    </tr>\n",
       "    <tr>\n",
       "      <th>max</th>\n",
       "      <td>1</td>\n",
       "    </tr>\n",
       "    <tr>\n",
       "      <th>counts</th>\n",
       "      <td>126009</td>\n",
       "    </tr>\n",
       "    <tr>\n",
       "      <th>uniques</th>\n",
       "      <td>2</td>\n",
       "    </tr>\n",
       "    <tr>\n",
       "      <th>missing</th>\n",
       "      <td>0</td>\n",
       "    </tr>\n",
       "    <tr>\n",
       "      <th>missing_perc</th>\n",
       "      <td>0%</td>\n",
       "    </tr>\n",
       "    <tr>\n",
       "      <th>types</th>\n",
       "      <td>bool</td>\n",
       "    </tr>\n",
       "  </tbody>\n",
       "</table>\n",
       "</div>"
      ],
      "text/plain": [
       "                FEMALE\n",
       "count           126009\n",
       "mean          0.499615\n",
       "std           0.500002\n",
       "min                  0\n",
       "25%                  0\n",
       "50%                  0\n",
       "75%                  1\n",
       "max                  1\n",
       "counts          126009\n",
       "uniques              2\n",
       "missing              0\n",
       "missing_perc        0%\n",
       "types             bool"
      ]
     },
     "execution_count": 53,
     "metadata": {},
     "output_type": "execute_result"
    }
   ],
   "source": [
    "DataFrameSummary(gender[['FEMALE']]).summary()"
   ]
  },
  {
   "cell_type": "code",
   "execution_count": 54,
   "metadata": {},
   "outputs": [
    {
     "data": {
      "text/plain": [
       "62956"
      ]
     },
     "execution_count": 54,
     "metadata": {},
     "output_type": "execute_result"
    }
   ],
   "source": [
    "len(gender[gender.FEMALE == 1])"
   ]
  },
  {
   "cell_type": "code",
   "execution_count": 55,
   "metadata": {},
   "outputs": [
    {
     "data": {
      "text/plain": [
       "63053"
      ]
     },
     "execution_count": 55,
     "metadata": {},
     "output_type": "execute_result"
    }
   ],
   "source": [
    "len(gender[gender.FEMALE == 0])"
   ]
  },
  {
   "cell_type": "code",
   "execution_count": 56,
   "metadata": {},
   "outputs": [
    {
     "data": {
      "text/plain": [
       "4"
      ]
     },
     "execution_count": 56,
     "metadata": {},
     "output_type": "execute_result"
    }
   ],
   "source": [
    "len(gender_missing)"
   ]
  },
  {
   "cell_type": "code",
   "execution_count": 62,
   "metadata": {},
   "outputs": [
    {
     "data": {
      "text/plain": [
       "0"
      ]
     },
     "execution_count": 62,
     "metadata": {},
     "output_type": "execute_result"
    }
   ],
   "source": [
    "len(gender_missing[gender_missing.DIED == 1])"
   ]
  },
  {
   "cell_type": "code",
   "execution_count": 63,
   "metadata": {},
   "outputs": [
    {
     "data": {
      "text/plain": [
       "4"
      ]
     },
     "execution_count": 63,
     "metadata": {},
     "output_type": "execute_result"
    }
   ],
   "source": [
    "len(gender_missing[gender_missing.DIED == 0])"
   ]
  },
  {
   "cell_type": "markdown",
   "metadata": {},
   "source": [
    "#### Alive"
   ]
  },
  {
   "cell_type": "code",
   "execution_count": 57,
   "metadata": {},
   "outputs": [],
   "source": [
    "gender_alive = gender[gender.DIED == 0]"
   ]
  },
  {
   "cell_type": "code",
   "execution_count": 58,
   "metadata": {},
   "outputs": [
    {
     "data": {
      "text/plain": [
       "59755"
      ]
     },
     "execution_count": 58,
     "metadata": {},
     "output_type": "execute_result"
    }
   ],
   "source": [
    "len(gender_alive[gender_alive.FEMALE == 0])"
   ]
  },
  {
   "cell_type": "markdown",
   "metadata": {},
   "source": [
    "#### Died"
   ]
  },
  {
   "cell_type": "code",
   "execution_count": 59,
   "metadata": {},
   "outputs": [],
   "source": [
    "gender_deceased = gender[gender.DIED == 1]"
   ]
  },
  {
   "cell_type": "code",
   "execution_count": 60,
   "metadata": {},
   "outputs": [
    {
     "data": {
      "text/plain": [
       "3259"
      ]
     },
     "execution_count": 60,
     "metadata": {},
     "output_type": "execute_result"
    }
   ],
   "source": [
    "len(gender_deceased[gender_deceased.FEMALE == 0])"
   ]
  },
  {
   "cell_type": "markdown",
   "metadata": {},
   "source": [
    "### Race/ethnicity"
   ]
  },
  {
   "cell_type": "code",
   "execution_count": 64,
   "metadata": {},
   "outputs": [
    {
     "data": {
      "text/html": [
       "<div>\n",
       "<style scoped>\n",
       "    .dataframe tbody tr th:only-of-type {\n",
       "        vertical-align: middle;\n",
       "    }\n",
       "\n",
       "    .dataframe tbody tr th {\n",
       "        vertical-align: top;\n",
       "    }\n",
       "\n",
       "    .dataframe thead th {\n",
       "        text-align: right;\n",
       "    }\n",
       "</style>\n",
       "<table border=\"1\" class=\"dataframe\">\n",
       "  <thead>\n",
       "    <tr style=\"text-align: right;\">\n",
       "      <th></th>\n",
       "      <th>RACE_1</th>\n",
       "      <th>RACE_2</th>\n",
       "      <th>RACE_3</th>\n",
       "      <th>RACE_4</th>\n",
       "      <th>RACE_5</th>\n",
       "      <th>RACE_6</th>\n",
       "    </tr>\n",
       "  </thead>\n",
       "  <tbody>\n",
       "    <tr>\n",
       "      <th>0</th>\n",
       "      <td>1</td>\n",
       "      <td>0</td>\n",
       "      <td>0</td>\n",
       "      <td>0</td>\n",
       "      <td>0</td>\n",
       "      <td>0</td>\n",
       "    </tr>\n",
       "    <tr>\n",
       "      <th>1</th>\n",
       "      <td>1</td>\n",
       "      <td>0</td>\n",
       "      <td>0</td>\n",
       "      <td>0</td>\n",
       "      <td>0</td>\n",
       "      <td>0</td>\n",
       "    </tr>\n",
       "    <tr>\n",
       "      <th>2</th>\n",
       "      <td>1</td>\n",
       "      <td>0</td>\n",
       "      <td>0</td>\n",
       "      <td>0</td>\n",
       "      <td>0</td>\n",
       "      <td>0</td>\n",
       "    </tr>\n",
       "    <tr>\n",
       "      <th>3</th>\n",
       "      <td>1</td>\n",
       "      <td>0</td>\n",
       "      <td>0</td>\n",
       "      <td>0</td>\n",
       "      <td>0</td>\n",
       "      <td>0</td>\n",
       "    </tr>\n",
       "    <tr>\n",
       "      <th>4</th>\n",
       "      <td>1</td>\n",
       "      <td>0</td>\n",
       "      <td>0</td>\n",
       "      <td>0</td>\n",
       "      <td>0</td>\n",
       "      <td>0</td>\n",
       "    </tr>\n",
       "  </tbody>\n",
       "</table>\n",
       "</div>"
      ],
      "text/plain": [
       "   RACE_1  RACE_2  RACE_3  RACE_4  RACE_5  RACE_6\n",
       "0       1       0       0       0       0       0\n",
       "1       1       0       0       0       0       0\n",
       "2       1       0       0       0       0       0\n",
       "3       1       0       0       0       0       0\n",
       "4       1       0       0       0       0       0"
      ]
     },
     "execution_count": 64,
     "metadata": {},
     "output_type": "execute_result"
    }
   ],
   "source": [
    "fn_pt.filter(regex = 'RACE').head()"
   ]
  },
  {
   "cell_type": "code",
   "execution_count": 65,
   "metadata": {},
   "outputs": [
    {
     "data": {
      "text/plain": [
       "126013"
      ]
     },
     "execution_count": 65,
     "metadata": {},
     "output_type": "execute_result"
    }
   ],
   "source": [
    "len(fn_pt)"
   ]
  },
  {
   "cell_type": "code",
   "execution_count": 66,
   "metadata": {},
   "outputs": [
    {
     "data": {
      "text/plain": [
       "83079"
      ]
     },
     "execution_count": 66,
     "metadata": {},
     "output_type": "execute_result"
    }
   ],
   "source": [
    "list(fn_pt['RACE_1']).count(1)"
   ]
  },
  {
   "cell_type": "code",
   "execution_count": 67,
   "metadata": {},
   "outputs": [
    {
     "data": {
      "text/plain": [
       "10792"
      ]
     },
     "execution_count": 67,
     "metadata": {},
     "output_type": "execute_result"
    }
   ],
   "source": [
    "list(fn_pt['RACE_2']).count(1)"
   ]
  },
  {
   "cell_type": "code",
   "execution_count": 68,
   "metadata": {},
   "outputs": [
    {
     "data": {
      "text/plain": [
       "11109"
      ]
     },
     "execution_count": 68,
     "metadata": {},
     "output_type": "execute_result"
    }
   ],
   "source": [
    "list(fn_pt['RACE_3']).count(1)"
   ]
  },
  {
   "cell_type": "code",
   "execution_count": 69,
   "metadata": {},
   "outputs": [
    {
     "data": {
      "text/plain": [
       "3702"
      ]
     },
     "execution_count": 69,
     "metadata": {},
     "output_type": "execute_result"
    }
   ],
   "source": [
    "list(fn_pt['RACE_4']).count(1)"
   ]
  },
  {
   "cell_type": "code",
   "execution_count": 70,
   "metadata": {},
   "outputs": [
    {
     "data": {
      "text/plain": [
       "444"
      ]
     },
     "execution_count": 70,
     "metadata": {},
     "output_type": "execute_result"
    }
   ],
   "source": [
    "list(fn_pt['RACE_5']).count(1)"
   ]
  },
  {
   "cell_type": "code",
   "execution_count": 71,
   "metadata": {},
   "outputs": [
    {
     "data": {
      "text/plain": [
       "3462"
      ]
     },
     "execution_count": 71,
     "metadata": {},
     "output_type": "execute_result"
    }
   ],
   "source": [
    "list(fn_pt['RACE_6']).count(1)"
   ]
  },
  {
   "cell_type": "markdown",
   "metadata": {},
   "source": [
    "#### Alive"
   ]
  },
  {
   "cell_type": "code",
   "execution_count": 72,
   "metadata": {},
   "outputs": [
    {
     "data": {
      "text/plain": [
       "79194"
      ]
     },
     "execution_count": 72,
     "metadata": {},
     "output_type": "execute_result"
    }
   ],
   "source": [
    "list(fn_pt[fn_pt.DIED == 0]['RACE_1']).count(1)"
   ]
  },
  {
   "cell_type": "code",
   "execution_count": 73,
   "metadata": {},
   "outputs": [
    {
     "data": {
      "text/plain": [
       "10235"
      ]
     },
     "execution_count": 73,
     "metadata": {},
     "output_type": "execute_result"
    }
   ],
   "source": [
    "list(fn_pt[fn_pt.DIED == 0]['RACE_2']).count(1)"
   ]
  },
  {
   "cell_type": "code",
   "execution_count": 74,
   "metadata": {},
   "outputs": [
    {
     "data": {
      "text/plain": [
       "10564"
      ]
     },
     "execution_count": 74,
     "metadata": {},
     "output_type": "execute_result"
    }
   ],
   "source": [
    "list(fn_pt[fn_pt.DIED == 0]['RACE_3']).count(1)"
   ]
  },
  {
   "cell_type": "code",
   "execution_count": 75,
   "metadata": {},
   "outputs": [
    {
     "data": {
      "text/plain": [
       "3497"
      ]
     },
     "execution_count": 75,
     "metadata": {},
     "output_type": "execute_result"
    }
   ],
   "source": [
    "list(fn_pt[fn_pt.DIED == 0]['RACE_4']).count(1)"
   ]
  },
  {
   "cell_type": "code",
   "execution_count": 76,
   "metadata": {},
   "outputs": [
    {
     "data": {
      "text/plain": [
       "418"
      ]
     },
     "execution_count": 76,
     "metadata": {},
     "output_type": "execute_result"
    }
   ],
   "source": [
    "list(fn_pt[fn_pt.DIED == 0]['RACE_5']).count(1)"
   ]
  },
  {
   "cell_type": "code",
   "execution_count": 77,
   "metadata": {},
   "outputs": [
    {
     "data": {
      "text/plain": [
       "3281"
      ]
     },
     "execution_count": 77,
     "metadata": {},
     "output_type": "execute_result"
    }
   ],
   "source": [
    "list(fn_pt[fn_pt.DIED == 0]['RACE_6']).count(1)"
   ]
  },
  {
   "cell_type": "markdown",
   "metadata": {},
   "source": [
    "#### Died"
   ]
  },
  {
   "cell_type": "code",
   "execution_count": 78,
   "metadata": {},
   "outputs": [
    {
     "data": {
      "text/plain": [
       "3858"
      ]
     },
     "execution_count": 78,
     "metadata": {},
     "output_type": "execute_result"
    }
   ],
   "source": [
    "list(fn_pt[fn_pt.DIED == 1]['RACE_1']).count(1)"
   ]
  },
  {
   "cell_type": "code",
   "execution_count": 79,
   "metadata": {},
   "outputs": [
    {
     "data": {
      "text/plain": [
       "552"
      ]
     },
     "execution_count": 79,
     "metadata": {},
     "output_type": "execute_result"
    }
   ],
   "source": [
    "list(fn_pt[fn_pt.DIED == 1]['RACE_2']).count(1)"
   ]
  },
  {
   "cell_type": "code",
   "execution_count": 80,
   "metadata": {},
   "outputs": [
    {
     "data": {
      "text/plain": [
       "542"
      ]
     },
     "execution_count": 80,
     "metadata": {},
     "output_type": "execute_result"
    }
   ],
   "source": [
    "list(fn_pt[fn_pt.DIED == 1]['RACE_3']).count(1)"
   ]
  },
  {
   "cell_type": "code",
   "execution_count": 81,
   "metadata": {},
   "outputs": [
    {
     "data": {
      "text/plain": [
       "204"
      ]
     },
     "execution_count": 81,
     "metadata": {},
     "output_type": "execute_result"
    }
   ],
   "source": [
    "list(fn_pt[fn_pt.DIED == 1]['RACE_4']).count(1)"
   ]
  },
  {
   "cell_type": "code",
   "execution_count": 82,
   "metadata": {},
   "outputs": [
    {
     "data": {
      "text/plain": [
       "26"
      ]
     },
     "execution_count": 82,
     "metadata": {},
     "output_type": "execute_result"
    }
   ],
   "source": [
    "list(fn_pt[fn_pt.DIED == 1]['RACE_5']).count(1)"
   ]
  },
  {
   "cell_type": "code",
   "execution_count": 83,
   "metadata": {},
   "outputs": [
    {
     "data": {
      "text/plain": [
       "181"
      ]
     },
     "execution_count": 83,
     "metadata": {},
     "output_type": "execute_result"
    }
   ],
   "source": [
    "list(fn_pt[fn_pt.DIED == 1]['RACE_6']).count(1)"
   ]
  },
  {
   "cell_type": "markdown",
   "metadata": {},
   "source": [
    "### Charlson's Comorbidiy Index"
   ]
  },
  {
   "cell_type": "code",
   "execution_count": 84,
   "metadata": {},
   "outputs": [
    {
     "data": {
      "text/html": [
       "<div>\n",
       "<style scoped>\n",
       "    .dataframe tbody tr th:only-of-type {\n",
       "        vertical-align: middle;\n",
       "    }\n",
       "\n",
       "    .dataframe tbody tr th {\n",
       "        vertical-align: top;\n",
       "    }\n",
       "\n",
       "    .dataframe thead th {\n",
       "        text-align: right;\n",
       "    }\n",
       "</style>\n",
       "<table border=\"1\" class=\"dataframe\">\n",
       "  <thead>\n",
       "    <tr style=\"text-align: right;\">\n",
       "      <th></th>\n",
       "      <th>CCI</th>\n",
       "    </tr>\n",
       "  </thead>\n",
       "  <tbody>\n",
       "    <tr>\n",
       "      <th>count</th>\n",
       "      <td>126013</td>\n",
       "    </tr>\n",
       "    <tr>\n",
       "      <th>mean</th>\n",
       "      <td>4.39957</td>\n",
       "    </tr>\n",
       "    <tr>\n",
       "      <th>std</th>\n",
       "      <td>4.54665</td>\n",
       "    </tr>\n",
       "    <tr>\n",
       "      <th>min</th>\n",
       "      <td>0</td>\n",
       "    </tr>\n",
       "    <tr>\n",
       "      <th>25%</th>\n",
       "      <td>2</td>\n",
       "    </tr>\n",
       "    <tr>\n",
       "      <th>50%</th>\n",
       "      <td>2</td>\n",
       "    </tr>\n",
       "    <tr>\n",
       "      <th>75%</th>\n",
       "      <td>5</td>\n",
       "    </tr>\n",
       "    <tr>\n",
       "      <th>max</th>\n",
       "      <td>62</td>\n",
       "    </tr>\n",
       "    <tr>\n",
       "      <th>counts</th>\n",
       "      <td>126013</td>\n",
       "    </tr>\n",
       "    <tr>\n",
       "      <th>uniques</th>\n",
       "      <td>49</td>\n",
       "    </tr>\n",
       "    <tr>\n",
       "      <th>missing</th>\n",
       "      <td>0</td>\n",
       "    </tr>\n",
       "    <tr>\n",
       "      <th>missing_perc</th>\n",
       "      <td>0%</td>\n",
       "    </tr>\n",
       "    <tr>\n",
       "      <th>types</th>\n",
       "      <td>numeric</td>\n",
       "    </tr>\n",
       "  </tbody>\n",
       "</table>\n",
       "</div>"
      ],
      "text/plain": [
       "                  CCI\n",
       "count          126013\n",
       "mean          4.39957\n",
       "std           4.54665\n",
       "min                 0\n",
       "25%                 2\n",
       "50%                 2\n",
       "75%                 5\n",
       "max                62\n",
       "counts         126013\n",
       "uniques            49\n",
       "missing             0\n",
       "missing_perc       0%\n",
       "types         numeric"
      ]
     },
     "execution_count": 84,
     "metadata": {},
     "output_type": "execute_result"
    }
   ],
   "source": [
    "DataFrameSummary(fn_pt[['CCI']]).summary()"
   ]
  },
  {
   "cell_type": "code",
   "execution_count": 85,
   "metadata": {},
   "outputs": [
    {
     "data": {
      "text/html": [
       "<div>\n",
       "<style scoped>\n",
       "    .dataframe tbody tr th:only-of-type {\n",
       "        vertical-align: middle;\n",
       "    }\n",
       "\n",
       "    .dataframe tbody tr th {\n",
       "        vertical-align: top;\n",
       "    }\n",
       "\n",
       "    .dataframe thead th {\n",
       "        text-align: right;\n",
       "    }\n",
       "</style>\n",
       "<table border=\"1\" class=\"dataframe\">\n",
       "  <thead>\n",
       "    <tr style=\"text-align: right;\">\n",
       "      <th></th>\n",
       "      <th>CCI</th>\n",
       "    </tr>\n",
       "  </thead>\n",
       "  <tbody>\n",
       "    <tr>\n",
       "      <th>count</th>\n",
       "      <td>120091</td>\n",
       "    </tr>\n",
       "    <tr>\n",
       "      <th>mean</th>\n",
       "      <td>4.3436</td>\n",
       "    </tr>\n",
       "    <tr>\n",
       "      <th>std</th>\n",
       "      <td>4.49591</td>\n",
       "    </tr>\n",
       "    <tr>\n",
       "      <th>min</th>\n",
       "      <td>0</td>\n",
       "    </tr>\n",
       "    <tr>\n",
       "      <th>25%</th>\n",
       "      <td>2</td>\n",
       "    </tr>\n",
       "    <tr>\n",
       "      <th>50%</th>\n",
       "      <td>2</td>\n",
       "    </tr>\n",
       "    <tr>\n",
       "      <th>75%</th>\n",
       "      <td>5</td>\n",
       "    </tr>\n",
       "    <tr>\n",
       "      <th>max</th>\n",
       "      <td>62</td>\n",
       "    </tr>\n",
       "    <tr>\n",
       "      <th>counts</th>\n",
       "      <td>120091</td>\n",
       "    </tr>\n",
       "    <tr>\n",
       "      <th>uniques</th>\n",
       "      <td>49</td>\n",
       "    </tr>\n",
       "    <tr>\n",
       "      <th>missing</th>\n",
       "      <td>0</td>\n",
       "    </tr>\n",
       "    <tr>\n",
       "      <th>missing_perc</th>\n",
       "      <td>0%</td>\n",
       "    </tr>\n",
       "    <tr>\n",
       "      <th>types</th>\n",
       "      <td>numeric</td>\n",
       "    </tr>\n",
       "  </tbody>\n",
       "</table>\n",
       "</div>"
      ],
      "text/plain": [
       "                  CCI\n",
       "count          120091\n",
       "mean           4.3436\n",
       "std           4.49591\n",
       "min                 0\n",
       "25%                 2\n",
       "50%                 2\n",
       "75%                 5\n",
       "max                62\n",
       "counts         120091\n",
       "uniques            49\n",
       "missing             0\n",
       "missing_perc       0%\n",
       "types         numeric"
      ]
     },
     "execution_count": 85,
     "metadata": {},
     "output_type": "execute_result"
    }
   ],
   "source": [
    "DataFrameSummary(alive[['CCI']]).summary()"
   ]
  },
  {
   "cell_type": "code",
   "execution_count": 86,
   "metadata": {},
   "outputs": [
    {
     "data": {
      "text/html": [
       "<div>\n",
       "<style scoped>\n",
       "    .dataframe tbody tr th:only-of-type {\n",
       "        vertical-align: middle;\n",
       "    }\n",
       "\n",
       "    .dataframe tbody tr th {\n",
       "        vertical-align: top;\n",
       "    }\n",
       "\n",
       "    .dataframe thead th {\n",
       "        text-align: right;\n",
       "    }\n",
       "</style>\n",
       "<table border=\"1\" class=\"dataframe\">\n",
       "  <thead>\n",
       "    <tr style=\"text-align: right;\">\n",
       "      <th></th>\n",
       "      <th>CCI</th>\n",
       "    </tr>\n",
       "  </thead>\n",
       "  <tbody>\n",
       "    <tr>\n",
       "      <th>count</th>\n",
       "      <td>5856</td>\n",
       "    </tr>\n",
       "    <tr>\n",
       "      <th>mean</th>\n",
       "      <td>5.54355</td>\n",
       "    </tr>\n",
       "    <tr>\n",
       "      <th>std</th>\n",
       "      <td>5.35291</td>\n",
       "    </tr>\n",
       "    <tr>\n",
       "      <th>min</th>\n",
       "      <td>0</td>\n",
       "    </tr>\n",
       "    <tr>\n",
       "      <th>25%</th>\n",
       "      <td>2</td>\n",
       "    </tr>\n",
       "    <tr>\n",
       "      <th>50%</th>\n",
       "      <td>3</td>\n",
       "    </tr>\n",
       "    <tr>\n",
       "      <th>75%</th>\n",
       "      <td>7</td>\n",
       "    </tr>\n",
       "    <tr>\n",
       "      <th>max</th>\n",
       "      <td>56</td>\n",
       "    </tr>\n",
       "    <tr>\n",
       "      <th>counts</th>\n",
       "      <td>5856</td>\n",
       "    </tr>\n",
       "    <tr>\n",
       "      <th>uniques</th>\n",
       "      <td>38</td>\n",
       "    </tr>\n",
       "    <tr>\n",
       "      <th>missing</th>\n",
       "      <td>0</td>\n",
       "    </tr>\n",
       "    <tr>\n",
       "      <th>missing_perc</th>\n",
       "      <td>0%</td>\n",
       "    </tr>\n",
       "    <tr>\n",
       "      <th>types</th>\n",
       "      <td>numeric</td>\n",
       "    </tr>\n",
       "  </tbody>\n",
       "</table>\n",
       "</div>"
      ],
      "text/plain": [
       "                  CCI\n",
       "count            5856\n",
       "mean          5.54355\n",
       "std           5.35291\n",
       "min                 0\n",
       "25%                 2\n",
       "50%                 3\n",
       "75%                 7\n",
       "max                56\n",
       "counts           5856\n",
       "uniques            38\n",
       "missing             0\n",
       "missing_perc       0%\n",
       "types         numeric"
      ]
     },
     "execution_count": 86,
     "metadata": {},
     "output_type": "execute_result"
    }
   ],
   "source": [
    "DataFrameSummary(died[['CCI']]).summary()"
   ]
  },
  {
   "cell_type": "code",
   "execution_count": 87,
   "metadata": {},
   "outputs": [
    {
     "data": {
      "text/plain": [
       "Ttest_indResult(statistic=-16.086687379765056, pvalue=4.36951249911837e-57)"
      ]
     },
     "execution_count": 87,
     "metadata": {},
     "output_type": "execute_result"
    }
   ],
   "source": [
    "ttest_ind(fn_pt.CCI, died.CCI, equal_var=False)"
   ]
  },
  {
   "cell_type": "markdown",
   "metadata": {},
   "source": [
    "### Number of diagnoses"
   ]
  },
  {
   "cell_type": "code",
   "execution_count": 14,
   "metadata": {},
   "outputs": [
    {
     "data": {
      "text/html": [
       "<div>\n",
       "<style scoped>\n",
       "    .dataframe tbody tr th:only-of-type {\n",
       "        vertical-align: middle;\n",
       "    }\n",
       "\n",
       "    .dataframe tbody tr th {\n",
       "        vertical-align: top;\n",
       "    }\n",
       "\n",
       "    .dataframe thead th {\n",
       "        text-align: right;\n",
       "    }\n",
       "</style>\n",
       "<table border=\"1\" class=\"dataframe\">\n",
       "  <thead>\n",
       "    <tr style=\"text-align: right;\">\n",
       "      <th></th>\n",
       "      <th>NDX</th>\n",
       "    </tr>\n",
       "  </thead>\n",
       "  <tbody>\n",
       "    <tr>\n",
       "      <th>count</th>\n",
       "      <td>138932</td>\n",
       "    </tr>\n",
       "    <tr>\n",
       "      <th>mean</th>\n",
       "      <td>13.411</td>\n",
       "    </tr>\n",
       "    <tr>\n",
       "      <th>std</th>\n",
       "      <td>5.64126</td>\n",
       "    </tr>\n",
       "    <tr>\n",
       "      <th>min</th>\n",
       "      <td>3</td>\n",
       "    </tr>\n",
       "    <tr>\n",
       "      <th>25%</th>\n",
       "      <td>9</td>\n",
       "    </tr>\n",
       "    <tr>\n",
       "      <th>50%</th>\n",
       "      <td>13</td>\n",
       "    </tr>\n",
       "    <tr>\n",
       "      <th>75%</th>\n",
       "      <td>17</td>\n",
       "    </tr>\n",
       "    <tr>\n",
       "      <th>max</th>\n",
       "      <td>50</td>\n",
       "    </tr>\n",
       "    <tr>\n",
       "      <th>counts</th>\n",
       "      <td>138932</td>\n",
       "    </tr>\n",
       "    <tr>\n",
       "      <th>uniques</th>\n",
       "      <td>40</td>\n",
       "    </tr>\n",
       "    <tr>\n",
       "      <th>missing</th>\n",
       "      <td>0</td>\n",
       "    </tr>\n",
       "    <tr>\n",
       "      <th>missing_perc</th>\n",
       "      <td>0%</td>\n",
       "    </tr>\n",
       "    <tr>\n",
       "      <th>types</th>\n",
       "      <td>numeric</td>\n",
       "    </tr>\n",
       "  </tbody>\n",
       "</table>\n",
       "</div>"
      ],
      "text/plain": [
       "                  NDX\n",
       "count          138932\n",
       "mean           13.411\n",
       "std           5.64126\n",
       "min                 3\n",
       "25%                 9\n",
       "50%                13\n",
       "75%                17\n",
       "max                50\n",
       "counts         138932\n",
       "uniques            40\n",
       "missing             0\n",
       "missing_perc       0%\n",
       "types         numeric"
      ]
     },
     "execution_count": 14,
     "metadata": {},
     "output_type": "execute_result"
    }
   ],
   "source": [
    "DataFrameSummary(fn_pt[['NDX']]).summary()"
   ]
  },
  {
   "cell_type": "code",
   "execution_count": 15,
   "metadata": {},
   "outputs": [
    {
     "data": {
      "text/html": [
       "<div>\n",
       "<style scoped>\n",
       "    .dataframe tbody tr th:only-of-type {\n",
       "        vertical-align: middle;\n",
       "    }\n",
       "\n",
       "    .dataframe tbody tr th {\n",
       "        vertical-align: top;\n",
       "    }\n",
       "\n",
       "    .dataframe thead th {\n",
       "        text-align: right;\n",
       "    }\n",
       "</style>\n",
       "<table border=\"1\" class=\"dataframe\">\n",
       "  <thead>\n",
       "    <tr style=\"text-align: right;\">\n",
       "      <th></th>\n",
       "      <th>NDX</th>\n",
       "    </tr>\n",
       "  </thead>\n",
       "  <tbody>\n",
       "    <tr>\n",
       "      <th>count</th>\n",
       "      <td>132423</td>\n",
       "    </tr>\n",
       "    <tr>\n",
       "      <th>mean</th>\n",
       "      <td>13.1548</td>\n",
       "    </tr>\n",
       "    <tr>\n",
       "      <th>std</th>\n",
       "      <td>5.51007</td>\n",
       "    </tr>\n",
       "    <tr>\n",
       "      <th>min</th>\n",
       "      <td>3</td>\n",
       "    </tr>\n",
       "    <tr>\n",
       "      <th>25%</th>\n",
       "      <td>9</td>\n",
       "    </tr>\n",
       "    <tr>\n",
       "      <th>50%</th>\n",
       "      <td>12</td>\n",
       "    </tr>\n",
       "    <tr>\n",
       "      <th>75%</th>\n",
       "      <td>16</td>\n",
       "    </tr>\n",
       "    <tr>\n",
       "      <th>max</th>\n",
       "      <td>50</td>\n",
       "    </tr>\n",
       "    <tr>\n",
       "      <th>counts</th>\n",
       "      <td>132423</td>\n",
       "    </tr>\n",
       "    <tr>\n",
       "      <th>uniques</th>\n",
       "      <td>40</td>\n",
       "    </tr>\n",
       "    <tr>\n",
       "      <th>missing</th>\n",
       "      <td>0</td>\n",
       "    </tr>\n",
       "    <tr>\n",
       "      <th>missing_perc</th>\n",
       "      <td>0%</td>\n",
       "    </tr>\n",
       "    <tr>\n",
       "      <th>types</th>\n",
       "      <td>numeric</td>\n",
       "    </tr>\n",
       "  </tbody>\n",
       "</table>\n",
       "</div>"
      ],
      "text/plain": [
       "                  NDX\n",
       "count          132423\n",
       "mean          13.1548\n",
       "std           5.51007\n",
       "min                 3\n",
       "25%                 9\n",
       "50%                12\n",
       "75%                16\n",
       "max                50\n",
       "counts         132423\n",
       "uniques            40\n",
       "missing             0\n",
       "missing_perc       0%\n",
       "types         numeric"
      ]
     },
     "execution_count": 15,
     "metadata": {},
     "output_type": "execute_result"
    }
   ],
   "source": [
    "DataFrameSummary(alive[['NDX']]).summary()"
   ]
  },
  {
   "cell_type": "code",
   "execution_count": 16,
   "metadata": {},
   "outputs": [
    {
     "data": {
      "text/html": [
       "<div>\n",
       "<style scoped>\n",
       "    .dataframe tbody tr th:only-of-type {\n",
       "        vertical-align: middle;\n",
       "    }\n",
       "\n",
       "    .dataframe tbody tr th {\n",
       "        vertical-align: top;\n",
       "    }\n",
       "\n",
       "    .dataframe thead th {\n",
       "        text-align: right;\n",
       "    }\n",
       "</style>\n",
       "<table border=\"1\" class=\"dataframe\">\n",
       "  <thead>\n",
       "    <tr style=\"text-align: right;\">\n",
       "      <th></th>\n",
       "      <th>NDX</th>\n",
       "    </tr>\n",
       "  </thead>\n",
       "  <tbody>\n",
       "    <tr>\n",
       "      <th>count</th>\n",
       "      <td>6509</td>\n",
       "    </tr>\n",
       "    <tr>\n",
       "      <th>mean</th>\n",
       "      <td>18.6244</td>\n",
       "    </tr>\n",
       "    <tr>\n",
       "      <th>std</th>\n",
       "      <td>5.7512</td>\n",
       "    </tr>\n",
       "    <tr>\n",
       "      <th>min</th>\n",
       "      <td>3</td>\n",
       "    </tr>\n",
       "    <tr>\n",
       "      <th>25%</th>\n",
       "      <td>15</td>\n",
       "    </tr>\n",
       "    <tr>\n",
       "      <th>50%</th>\n",
       "      <td>18</td>\n",
       "    </tr>\n",
       "    <tr>\n",
       "      <th>75%</th>\n",
       "      <td>24</td>\n",
       "    </tr>\n",
       "    <tr>\n",
       "      <th>max</th>\n",
       "      <td>50</td>\n",
       "    </tr>\n",
       "    <tr>\n",
       "      <th>counts</th>\n",
       "      <td>6509</td>\n",
       "    </tr>\n",
       "    <tr>\n",
       "      <th>uniques</th>\n",
       "      <td>33</td>\n",
       "    </tr>\n",
       "    <tr>\n",
       "      <th>missing</th>\n",
       "      <td>0</td>\n",
       "    </tr>\n",
       "    <tr>\n",
       "      <th>missing_perc</th>\n",
       "      <td>0%</td>\n",
       "    </tr>\n",
       "    <tr>\n",
       "      <th>types</th>\n",
       "      <td>numeric</td>\n",
       "    </tr>\n",
       "  </tbody>\n",
       "</table>\n",
       "</div>"
      ],
      "text/plain": [
       "                  NDX\n",
       "count            6509\n",
       "mean          18.6244\n",
       "std            5.7512\n",
       "min                 3\n",
       "25%                15\n",
       "50%                18\n",
       "75%                24\n",
       "max                50\n",
       "counts           6509\n",
       "uniques            33\n",
       "missing             0\n",
       "missing_perc       0%\n",
       "types         numeric"
      ]
     },
     "execution_count": 16,
     "metadata": {},
     "output_type": "execute_result"
    }
   ],
   "source": [
    "DataFrameSummary(died[['NDX']]).summary()"
   ]
  },
  {
   "cell_type": "code",
   "execution_count": 17,
   "metadata": {},
   "outputs": [
    {
     "data": {
      "text/plain": [
       "Ttest_indResult(statistic=-71.53872016879725, pvalue=0.0)"
      ]
     },
     "execution_count": 17,
     "metadata": {},
     "output_type": "execute_result"
    }
   ],
   "source": [
    "ttest_ind(fn_pt.NDX, died.NDX, equal_var=False)"
   ]
  },
  {
   "cell_type": "markdown",
   "metadata": {},
   "source": [
    "### Number of procedures"
   ]
  },
  {
   "cell_type": "code",
   "execution_count": 18,
   "metadata": {},
   "outputs": [
    {
     "data": {
      "text/html": [
       "<div>\n",
       "<style scoped>\n",
       "    .dataframe tbody tr th:only-of-type {\n",
       "        vertical-align: middle;\n",
       "    }\n",
       "\n",
       "    .dataframe tbody tr th {\n",
       "        vertical-align: top;\n",
       "    }\n",
       "\n",
       "    .dataframe thead th {\n",
       "        text-align: right;\n",
       "    }\n",
       "</style>\n",
       "<table border=\"1\" class=\"dataframe\">\n",
       "  <thead>\n",
       "    <tr style=\"text-align: right;\">\n",
       "      <th></th>\n",
       "      <th>NPR</th>\n",
       "    </tr>\n",
       "  </thead>\n",
       "  <tbody>\n",
       "    <tr>\n",
       "      <th>count</th>\n",
       "      <td>138932</td>\n",
       "    </tr>\n",
       "    <tr>\n",
       "      <th>mean</th>\n",
       "      <td>2.20067</td>\n",
       "    </tr>\n",
       "    <tr>\n",
       "      <th>std</th>\n",
       "      <td>2.71563</td>\n",
       "    </tr>\n",
       "    <tr>\n",
       "      <th>min</th>\n",
       "      <td>0</td>\n",
       "    </tr>\n",
       "    <tr>\n",
       "      <th>25%</th>\n",
       "      <td>0</td>\n",
       "    </tr>\n",
       "    <tr>\n",
       "      <th>50%</th>\n",
       "      <td>1</td>\n",
       "    </tr>\n",
       "    <tr>\n",
       "      <th>75%</th>\n",
       "      <td>3</td>\n",
       "    </tr>\n",
       "    <tr>\n",
       "      <th>max</th>\n",
       "      <td>31</td>\n",
       "    </tr>\n",
       "    <tr>\n",
       "      <th>counts</th>\n",
       "      <td>138932</td>\n",
       "    </tr>\n",
       "    <tr>\n",
       "      <th>uniques</th>\n",
       "      <td>32</td>\n",
       "    </tr>\n",
       "    <tr>\n",
       "      <th>missing</th>\n",
       "      <td>0</td>\n",
       "    </tr>\n",
       "    <tr>\n",
       "      <th>missing_perc</th>\n",
       "      <td>0%</td>\n",
       "    </tr>\n",
       "    <tr>\n",
       "      <th>types</th>\n",
       "      <td>numeric</td>\n",
       "    </tr>\n",
       "  </tbody>\n",
       "</table>\n",
       "</div>"
      ],
      "text/plain": [
       "                  NPR\n",
       "count          138932\n",
       "mean          2.20067\n",
       "std           2.71563\n",
       "min                 0\n",
       "25%                 0\n",
       "50%                 1\n",
       "75%                 3\n",
       "max                31\n",
       "counts         138932\n",
       "uniques            32\n",
       "missing             0\n",
       "missing_perc       0%\n",
       "types         numeric"
      ]
     },
     "execution_count": 18,
     "metadata": {},
     "output_type": "execute_result"
    }
   ],
   "source": [
    "DataFrameSummary(fn_pt[['NPR']]).summary()"
   ]
  },
  {
   "cell_type": "code",
   "execution_count": 19,
   "metadata": {},
   "outputs": [
    {
     "data": {
      "text/html": [
       "<div>\n",
       "<style scoped>\n",
       "    .dataframe tbody tr th:only-of-type {\n",
       "        vertical-align: middle;\n",
       "    }\n",
       "\n",
       "    .dataframe tbody tr th {\n",
       "        vertical-align: top;\n",
       "    }\n",
       "\n",
       "    .dataframe thead th {\n",
       "        text-align: right;\n",
       "    }\n",
       "</style>\n",
       "<table border=\"1\" class=\"dataframe\">\n",
       "  <thead>\n",
       "    <tr style=\"text-align: right;\">\n",
       "      <th></th>\n",
       "      <th>NPR</th>\n",
       "    </tr>\n",
       "  </thead>\n",
       "  <tbody>\n",
       "    <tr>\n",
       "      <th>count</th>\n",
       "      <td>132423</td>\n",
       "    </tr>\n",
       "    <tr>\n",
       "      <th>mean</th>\n",
       "      <td>2.083</td>\n",
       "    </tr>\n",
       "    <tr>\n",
       "      <th>std</th>\n",
       "      <td>2.58088</td>\n",
       "    </tr>\n",
       "    <tr>\n",
       "      <th>min</th>\n",
       "      <td>0</td>\n",
       "    </tr>\n",
       "    <tr>\n",
       "      <th>25%</th>\n",
       "      <td>0</td>\n",
       "    </tr>\n",
       "    <tr>\n",
       "      <th>50%</th>\n",
       "      <td>1</td>\n",
       "    </tr>\n",
       "    <tr>\n",
       "      <th>75%</th>\n",
       "      <td>3</td>\n",
       "    </tr>\n",
       "    <tr>\n",
       "      <th>max</th>\n",
       "      <td>30</td>\n",
       "    </tr>\n",
       "    <tr>\n",
       "      <th>counts</th>\n",
       "      <td>132423</td>\n",
       "    </tr>\n",
       "    <tr>\n",
       "      <th>uniques</th>\n",
       "      <td>31</td>\n",
       "    </tr>\n",
       "    <tr>\n",
       "      <th>missing</th>\n",
       "      <td>0</td>\n",
       "    </tr>\n",
       "    <tr>\n",
       "      <th>missing_perc</th>\n",
       "      <td>0%</td>\n",
       "    </tr>\n",
       "    <tr>\n",
       "      <th>types</th>\n",
       "      <td>numeric</td>\n",
       "    </tr>\n",
       "  </tbody>\n",
       "</table>\n",
       "</div>"
      ],
      "text/plain": [
       "                  NPR\n",
       "count          132423\n",
       "mean            2.083\n",
       "std           2.58088\n",
       "min                 0\n",
       "25%                 0\n",
       "50%                 1\n",
       "75%                 3\n",
       "max                30\n",
       "counts         132423\n",
       "uniques            31\n",
       "missing             0\n",
       "missing_perc       0%\n",
       "types         numeric"
      ]
     },
     "execution_count": 19,
     "metadata": {},
     "output_type": "execute_result"
    }
   ],
   "source": [
    "DataFrameSummary(alive[['NPR']]).summary()"
   ]
  },
  {
   "cell_type": "code",
   "execution_count": 20,
   "metadata": {},
   "outputs": [
    {
     "data": {
      "text/html": [
       "<div>\n",
       "<style scoped>\n",
       "    .dataframe tbody tr th:only-of-type {\n",
       "        vertical-align: middle;\n",
       "    }\n",
       "\n",
       "    .dataframe tbody tr th {\n",
       "        vertical-align: top;\n",
       "    }\n",
       "\n",
       "    .dataframe thead th {\n",
       "        text-align: right;\n",
       "    }\n",
       "</style>\n",
       "<table border=\"1\" class=\"dataframe\">\n",
       "  <thead>\n",
       "    <tr style=\"text-align: right;\">\n",
       "      <th></th>\n",
       "      <th>NPR</th>\n",
       "    </tr>\n",
       "  </thead>\n",
       "  <tbody>\n",
       "    <tr>\n",
       "      <th>count</th>\n",
       "      <td>6509</td>\n",
       "    </tr>\n",
       "    <tr>\n",
       "      <th>mean</th>\n",
       "      <td>4.59472</td>\n",
       "    </tr>\n",
       "    <tr>\n",
       "      <th>std</th>\n",
       "      <td>3.98551</td>\n",
       "    </tr>\n",
       "    <tr>\n",
       "      <th>min</th>\n",
       "      <td>0</td>\n",
       "    </tr>\n",
       "    <tr>\n",
       "      <th>25%</th>\n",
       "      <td>2</td>\n",
       "    </tr>\n",
       "    <tr>\n",
       "      <th>50%</th>\n",
       "      <td>4</td>\n",
       "    </tr>\n",
       "    <tr>\n",
       "      <th>75%</th>\n",
       "      <td>6</td>\n",
       "    </tr>\n",
       "    <tr>\n",
       "      <th>max</th>\n",
       "      <td>31</td>\n",
       "    </tr>\n",
       "    <tr>\n",
       "      <th>counts</th>\n",
       "      <td>6509</td>\n",
       "    </tr>\n",
       "    <tr>\n",
       "      <th>uniques</th>\n",
       "      <td>27</td>\n",
       "    </tr>\n",
       "    <tr>\n",
       "      <th>missing</th>\n",
       "      <td>0</td>\n",
       "    </tr>\n",
       "    <tr>\n",
       "      <th>missing_perc</th>\n",
       "      <td>0%</td>\n",
       "    </tr>\n",
       "    <tr>\n",
       "      <th>types</th>\n",
       "      <td>numeric</td>\n",
       "    </tr>\n",
       "  </tbody>\n",
       "</table>\n",
       "</div>"
      ],
      "text/plain": [
       "                  NPR\n",
       "count            6509\n",
       "mean          4.59472\n",
       "std           3.98551\n",
       "min                 0\n",
       "25%                 2\n",
       "50%                 4\n",
       "75%                 6\n",
       "max                31\n",
       "counts           6509\n",
       "uniques            27\n",
       "missing             0\n",
       "missing_perc       0%\n",
       "types         numeric"
      ]
     },
     "execution_count": 20,
     "metadata": {},
     "output_type": "execute_result"
    }
   ],
   "source": [
    "DataFrameSummary(died[['NPR']]).summary()"
   ]
  },
  {
   "cell_type": "code",
   "execution_count": 22,
   "metadata": {},
   "outputs": [
    {
     "data": {
      "text/plain": [
       "Ttest_indResult(statistic=-47.943802523760276, pvalue=0.0)"
      ]
     },
     "execution_count": 22,
     "metadata": {},
     "output_type": "execute_result"
    }
   ],
   "source": [
    "ttest_ind(fn_pt.NPR, died.NPR, equal_var=False)"
   ]
  },
  {
   "cell_type": "markdown",
   "metadata": {},
   "source": [
    "### Number of chronic conditions"
   ]
  },
  {
   "cell_type": "code",
   "execution_count": 23,
   "metadata": {},
   "outputs": [
    {
     "data": {
      "text/html": [
       "<div>\n",
       "<style scoped>\n",
       "    .dataframe tbody tr th:only-of-type {\n",
       "        vertical-align: middle;\n",
       "    }\n",
       "\n",
       "    .dataframe tbody tr th {\n",
       "        vertical-align: top;\n",
       "    }\n",
       "\n",
       "    .dataframe thead th {\n",
       "        text-align: right;\n",
       "    }\n",
       "</style>\n",
       "<table border=\"1\" class=\"dataframe\">\n",
       "  <thead>\n",
       "    <tr style=\"text-align: right;\">\n",
       "      <th></th>\n",
       "      <th>NCHRONIC</th>\n",
       "    </tr>\n",
       "  </thead>\n",
       "  <tbody>\n",
       "    <tr>\n",
       "      <th>count</th>\n",
       "      <td>138932</td>\n",
       "    </tr>\n",
       "    <tr>\n",
       "      <th>mean</th>\n",
       "      <td>5.93227</td>\n",
       "    </tr>\n",
       "    <tr>\n",
       "      <th>std</th>\n",
       "      <td>2.51184</td>\n",
       "    </tr>\n",
       "    <tr>\n",
       "      <th>min</th>\n",
       "      <td>0</td>\n",
       "    </tr>\n",
       "    <tr>\n",
       "      <th>25%</th>\n",
       "      <td>4</td>\n",
       "    </tr>\n",
       "    <tr>\n",
       "      <th>50%</th>\n",
       "      <td>6</td>\n",
       "    </tr>\n",
       "    <tr>\n",
       "      <th>75%</th>\n",
       "      <td>7</td>\n",
       "    </tr>\n",
       "    <tr>\n",
       "      <th>max</th>\n",
       "      <td>22</td>\n",
       "    </tr>\n",
       "    <tr>\n",
       "      <th>counts</th>\n",
       "      <td>138932</td>\n",
       "    </tr>\n",
       "    <tr>\n",
       "      <th>uniques</th>\n",
       "      <td>22</td>\n",
       "    </tr>\n",
       "    <tr>\n",
       "      <th>missing</th>\n",
       "      <td>0</td>\n",
       "    </tr>\n",
       "    <tr>\n",
       "      <th>missing_perc</th>\n",
       "      <td>0%</td>\n",
       "    </tr>\n",
       "    <tr>\n",
       "      <th>types</th>\n",
       "      <td>numeric</td>\n",
       "    </tr>\n",
       "  </tbody>\n",
       "</table>\n",
       "</div>"
      ],
      "text/plain": [
       "             NCHRONIC\n",
       "count          138932\n",
       "mean          5.93227\n",
       "std           2.51184\n",
       "min                 0\n",
       "25%                 4\n",
       "50%                 6\n",
       "75%                 7\n",
       "max                22\n",
       "counts         138932\n",
       "uniques            22\n",
       "missing             0\n",
       "missing_perc       0%\n",
       "types         numeric"
      ]
     },
     "execution_count": 23,
     "metadata": {},
     "output_type": "execute_result"
    }
   ],
   "source": [
    "DataFrameSummary(fn_pt[['NCHRONIC']]).summary()"
   ]
  },
  {
   "cell_type": "code",
   "execution_count": 24,
   "metadata": {},
   "outputs": [
    {
     "data": {
      "text/html": [
       "<div>\n",
       "<style scoped>\n",
       "    .dataframe tbody tr th:only-of-type {\n",
       "        vertical-align: middle;\n",
       "    }\n",
       "\n",
       "    .dataframe tbody tr th {\n",
       "        vertical-align: top;\n",
       "    }\n",
       "\n",
       "    .dataframe thead th {\n",
       "        text-align: right;\n",
       "    }\n",
       "</style>\n",
       "<table border=\"1\" class=\"dataframe\">\n",
       "  <thead>\n",
       "    <tr style=\"text-align: right;\">\n",
       "      <th></th>\n",
       "      <th>NCHRONIC</th>\n",
       "    </tr>\n",
       "  </thead>\n",
       "  <tbody>\n",
       "    <tr>\n",
       "      <th>count</th>\n",
       "      <td>132423</td>\n",
       "    </tr>\n",
       "    <tr>\n",
       "      <th>mean</th>\n",
       "      <td>5.88428</td>\n",
       "    </tr>\n",
       "    <tr>\n",
       "      <th>std</th>\n",
       "      <td>2.49663</td>\n",
       "    </tr>\n",
       "    <tr>\n",
       "      <th>min</th>\n",
       "      <td>0</td>\n",
       "    </tr>\n",
       "    <tr>\n",
       "      <th>25%</th>\n",
       "      <td>4</td>\n",
       "    </tr>\n",
       "    <tr>\n",
       "      <th>50%</th>\n",
       "      <td>6</td>\n",
       "    </tr>\n",
       "    <tr>\n",
       "      <th>75%</th>\n",
       "      <td>7</td>\n",
       "    </tr>\n",
       "    <tr>\n",
       "      <th>max</th>\n",
       "      <td>22</td>\n",
       "    </tr>\n",
       "    <tr>\n",
       "      <th>counts</th>\n",
       "      <td>132423</td>\n",
       "    </tr>\n",
       "    <tr>\n",
       "      <th>uniques</th>\n",
       "      <td>22</td>\n",
       "    </tr>\n",
       "    <tr>\n",
       "      <th>missing</th>\n",
       "      <td>0</td>\n",
       "    </tr>\n",
       "    <tr>\n",
       "      <th>missing_perc</th>\n",
       "      <td>0%</td>\n",
       "    </tr>\n",
       "    <tr>\n",
       "      <th>types</th>\n",
       "      <td>numeric</td>\n",
       "    </tr>\n",
       "  </tbody>\n",
       "</table>\n",
       "</div>"
      ],
      "text/plain": [
       "             NCHRONIC\n",
       "count          132423\n",
       "mean          5.88428\n",
       "std           2.49663\n",
       "min                 0\n",
       "25%                 4\n",
       "50%                 6\n",
       "75%                 7\n",
       "max                22\n",
       "counts         132423\n",
       "uniques            22\n",
       "missing             0\n",
       "missing_perc       0%\n",
       "types         numeric"
      ]
     },
     "execution_count": 24,
     "metadata": {},
     "output_type": "execute_result"
    }
   ],
   "source": [
    "DataFrameSummary(alive[['NCHRONIC']]).summary()"
   ]
  },
  {
   "cell_type": "code",
   "execution_count": 25,
   "metadata": {},
   "outputs": [
    {
     "data": {
      "text/html": [
       "<div>\n",
       "<style scoped>\n",
       "    .dataframe tbody tr th:only-of-type {\n",
       "        vertical-align: middle;\n",
       "    }\n",
       "\n",
       "    .dataframe tbody tr th {\n",
       "        vertical-align: top;\n",
       "    }\n",
       "\n",
       "    .dataframe thead th {\n",
       "        text-align: right;\n",
       "    }\n",
       "</style>\n",
       "<table border=\"1\" class=\"dataframe\">\n",
       "  <thead>\n",
       "    <tr style=\"text-align: right;\">\n",
       "      <th></th>\n",
       "      <th>NCHRONIC</th>\n",
       "    </tr>\n",
       "  </thead>\n",
       "  <tbody>\n",
       "    <tr>\n",
       "      <th>count</th>\n",
       "      <td>6509</td>\n",
       "    </tr>\n",
       "    <tr>\n",
       "      <th>mean</th>\n",
       "      <td>6.90859</td>\n",
       "    </tr>\n",
       "    <tr>\n",
       "      <th>std</th>\n",
       "      <td>2.61927</td>\n",
       "    </tr>\n",
       "    <tr>\n",
       "      <th>min</th>\n",
       "      <td>1</td>\n",
       "    </tr>\n",
       "    <tr>\n",
       "      <th>25%</th>\n",
       "      <td>5</td>\n",
       "    </tr>\n",
       "    <tr>\n",
       "      <th>50%</th>\n",
       "      <td>7</td>\n",
       "    </tr>\n",
       "    <tr>\n",
       "      <th>75%</th>\n",
       "      <td>8</td>\n",
       "    </tr>\n",
       "    <tr>\n",
       "      <th>max</th>\n",
       "      <td>20</td>\n",
       "    </tr>\n",
       "    <tr>\n",
       "      <th>counts</th>\n",
       "      <td>6509</td>\n",
       "    </tr>\n",
       "    <tr>\n",
       "      <th>uniques</th>\n",
       "      <td>20</td>\n",
       "    </tr>\n",
       "    <tr>\n",
       "      <th>missing</th>\n",
       "      <td>0</td>\n",
       "    </tr>\n",
       "    <tr>\n",
       "      <th>missing_perc</th>\n",
       "      <td>0%</td>\n",
       "    </tr>\n",
       "    <tr>\n",
       "      <th>types</th>\n",
       "      <td>numeric</td>\n",
       "    </tr>\n",
       "  </tbody>\n",
       "</table>\n",
       "</div>"
      ],
      "text/plain": [
       "             NCHRONIC\n",
       "count            6509\n",
       "mean          6.90859\n",
       "std           2.61927\n",
       "min                 1\n",
       "25%                 5\n",
       "50%                 7\n",
       "75%                 8\n",
       "max                20\n",
       "counts           6509\n",
       "uniques            20\n",
       "missing             0\n",
       "missing_perc       0%\n",
       "types         numeric"
      ]
     },
     "execution_count": 25,
     "metadata": {},
     "output_type": "execute_result"
    }
   ],
   "source": [
    "DataFrameSummary(died[['NCHRONIC']]).summary()"
   ]
  },
  {
   "cell_type": "code",
   "execution_count": 26,
   "metadata": {},
   "outputs": [
    {
     "data": {
      "text/plain": [
       "Ttest_indResult(statistic=-29.444803024452206, pvalue=7.180738347854068e-180)"
      ]
     },
     "execution_count": 26,
     "metadata": {},
     "output_type": "execute_result"
    }
   ],
   "source": [
    "ttest_ind(fn_pt.NCHRONIC, died.NCHRONIC, equal_var=False)"
   ]
  },
  {
   "cell_type": "markdown",
   "metadata": {},
   "source": [
    "### Insurance type"
   ]
  },
  {
   "cell_type": "code",
   "execution_count": 88,
   "metadata": {},
   "outputs": [
    {
     "data": {
      "text/html": [
       "<div>\n",
       "<style scoped>\n",
       "    .dataframe tbody tr th:only-of-type {\n",
       "        vertical-align: middle;\n",
       "    }\n",
       "\n",
       "    .dataframe tbody tr th {\n",
       "        vertical-align: top;\n",
       "    }\n",
       "\n",
       "    .dataframe thead th {\n",
       "        text-align: right;\n",
       "    }\n",
       "</style>\n",
       "<table border=\"1\" class=\"dataframe\">\n",
       "  <thead>\n",
       "    <tr style=\"text-align: right;\">\n",
       "      <th></th>\n",
       "      <th>PAY1_1</th>\n",
       "      <th>PAY1_2</th>\n",
       "      <th>PAY1_3</th>\n",
       "      <th>PAY1_4</th>\n",
       "      <th>PAY1_5</th>\n",
       "      <th>PAY1_6</th>\n",
       "    </tr>\n",
       "  </thead>\n",
       "  <tbody>\n",
       "    <tr>\n",
       "      <th>0</th>\n",
       "      <td>0</td>\n",
       "      <td>0</td>\n",
       "      <td>1</td>\n",
       "      <td>0</td>\n",
       "      <td>0</td>\n",
       "      <td>0</td>\n",
       "    </tr>\n",
       "    <tr>\n",
       "      <th>1</th>\n",
       "      <td>1</td>\n",
       "      <td>0</td>\n",
       "      <td>0</td>\n",
       "      <td>0</td>\n",
       "      <td>0</td>\n",
       "      <td>0</td>\n",
       "    </tr>\n",
       "    <tr>\n",
       "      <th>2</th>\n",
       "      <td>0</td>\n",
       "      <td>0</td>\n",
       "      <td>1</td>\n",
       "      <td>0</td>\n",
       "      <td>0</td>\n",
       "      <td>0</td>\n",
       "    </tr>\n",
       "    <tr>\n",
       "      <th>3</th>\n",
       "      <td>0</td>\n",
       "      <td>0</td>\n",
       "      <td>1</td>\n",
       "      <td>0</td>\n",
       "      <td>0</td>\n",
       "      <td>0</td>\n",
       "    </tr>\n",
       "    <tr>\n",
       "      <th>4</th>\n",
       "      <td>1</td>\n",
       "      <td>0</td>\n",
       "      <td>0</td>\n",
       "      <td>0</td>\n",
       "      <td>0</td>\n",
       "      <td>0</td>\n",
       "    </tr>\n",
       "  </tbody>\n",
       "</table>\n",
       "</div>"
      ],
      "text/plain": [
       "   PAY1_1  PAY1_2  PAY1_3  PAY1_4  PAY1_5  PAY1_6\n",
       "0       0       0       1       0       0       0\n",
       "1       1       0       0       0       0       0\n",
       "2       0       0       1       0       0       0\n",
       "3       0       0       1       0       0       0\n",
       "4       1       0       0       0       0       0"
      ]
     },
     "execution_count": 88,
     "metadata": {},
     "output_type": "execute_result"
    }
   ],
   "source": [
    "fn_pt.filter(regex = 'PAY1').head()"
   ]
  },
  {
   "cell_type": "code",
   "execution_count": 89,
   "metadata": {},
   "outputs": [
    {
     "data": {
      "text/plain": [
       "51570"
      ]
     },
     "execution_count": 89,
     "metadata": {},
     "output_type": "execute_result"
    }
   ],
   "source": [
    "list(fn_pt['PAY1_1']).count(1)"
   ]
  },
  {
   "cell_type": "code",
   "execution_count": 90,
   "metadata": {},
   "outputs": [
    {
     "data": {
      "text/plain": [
       "14639"
      ]
     },
     "execution_count": 90,
     "metadata": {},
     "output_type": "execute_result"
    }
   ],
   "source": [
    "list(fn_pt['PAY1_2']).count(1)"
   ]
  },
  {
   "cell_type": "code",
   "execution_count": 91,
   "metadata": {},
   "outputs": [
    {
     "data": {
      "text/plain": [
       "52950"
      ]
     },
     "execution_count": 91,
     "metadata": {},
     "output_type": "execute_result"
    }
   ],
   "source": [
    "list(fn_pt['PAY1_3']).count(1)"
   ]
  },
  {
   "cell_type": "code",
   "execution_count": 92,
   "metadata": {},
   "outputs": [
    {
     "data": {
      "text/plain": [
       "2623"
      ]
     },
     "execution_count": 92,
     "metadata": {},
     "output_type": "execute_result"
    }
   ],
   "source": [
    "list(fn_pt['PAY1_4']).count(1)"
   ]
  },
  {
   "cell_type": "code",
   "execution_count": 93,
   "metadata": {},
   "outputs": [
    {
     "data": {
      "text/plain": [
       "353"
      ]
     },
     "execution_count": 93,
     "metadata": {},
     "output_type": "execute_result"
    }
   ],
   "source": [
    "list(fn_pt['PAY1_5']).count(1)"
   ]
  },
  {
   "cell_type": "code",
   "execution_count": 94,
   "metadata": {},
   "outputs": [
    {
     "data": {
      "text/plain": [
       "3606"
      ]
     },
     "execution_count": 94,
     "metadata": {},
     "output_type": "execute_result"
    }
   ],
   "source": [
    "list(fn_pt['PAY1_6']).count(1)"
   ]
  },
  {
   "cell_type": "markdown",
   "metadata": {},
   "source": [
    "#### Alive "
   ]
  },
  {
   "cell_type": "code",
   "execution_count": 95,
   "metadata": {},
   "outputs": [
    {
     "data": {
      "text/plain": [
       "48390"
      ]
     },
     "execution_count": 95,
     "metadata": {},
     "output_type": "execute_result"
    }
   ],
   "source": [
    "list(alive['PAY1_1']).count(1)"
   ]
  },
  {
   "cell_type": "code",
   "execution_count": 96,
   "metadata": {},
   "outputs": [
    {
     "data": {
      "text/plain": [
       "14038"
      ]
     },
     "execution_count": 96,
     "metadata": {},
     "output_type": "execute_result"
    }
   ],
   "source": [
    "list(alive['PAY1_2']).count(1)"
   ]
  },
  {
   "cell_type": "code",
   "execution_count": 97,
   "metadata": {},
   "outputs": [
    {
     "data": {
      "text/plain": [
       "51118"
      ]
     },
     "execution_count": 97,
     "metadata": {},
     "output_type": "execute_result"
    }
   ],
   "source": [
    "list(alive['PAY1_3']).count(1)"
   ]
  },
  {
   "cell_type": "code",
   "execution_count": 98,
   "metadata": {},
   "outputs": [
    {
     "data": {
      "text/plain": [
       "2503"
      ]
     },
     "execution_count": 98,
     "metadata": {},
     "output_type": "execute_result"
    }
   ],
   "source": [
    "list(alive['PAY1_4']).count(1)"
   ]
  },
  {
   "cell_type": "code",
   "execution_count": 99,
   "metadata": {},
   "outputs": [
    {
     "data": {
      "text/plain": [
       "340"
      ]
     },
     "execution_count": 99,
     "metadata": {},
     "output_type": "execute_result"
    }
   ],
   "source": [
    "list(alive['PAY1_5']).count(1)"
   ]
  },
  {
   "cell_type": "code",
   "execution_count": 100,
   "metadata": {},
   "outputs": [
    {
     "data": {
      "text/plain": [
       "3442"
      ]
     },
     "execution_count": 100,
     "metadata": {},
     "output_type": "execute_result"
    }
   ],
   "source": [
    "list(alive['PAY1_6']).count(1)"
   ]
  },
  {
   "cell_type": "markdown",
   "metadata": {},
   "source": [
    "#### Died"
   ]
  },
  {
   "cell_type": "code",
   "execution_count": 101,
   "metadata": {},
   "outputs": [
    {
     "data": {
      "text/plain": [
       "3149"
      ]
     },
     "execution_count": 101,
     "metadata": {},
     "output_type": "execute_result"
    }
   ],
   "source": [
    "list(died['PAY1_1']).count(1)"
   ]
  },
  {
   "cell_type": "code",
   "execution_count": 102,
   "metadata": {},
   "outputs": [
    {
     "data": {
      "text/plain": [
       "598"
      ]
     },
     "execution_count": 102,
     "metadata": {},
     "output_type": "execute_result"
    }
   ],
   "source": [
    "list(died['PAY1_2']).count(1)"
   ]
  },
  {
   "cell_type": "code",
   "execution_count": 103,
   "metadata": {},
   "outputs": [
    {
     "data": {
      "text/plain": [
       "1816"
      ]
     },
     "execution_count": 103,
     "metadata": {},
     "output_type": "execute_result"
    }
   ],
   "source": [
    "list(died['PAY1_3']).count(1)"
   ]
  },
  {
   "cell_type": "code",
   "execution_count": 104,
   "metadata": {},
   "outputs": [
    {
     "data": {
      "text/plain": [
       "120"
      ]
     },
     "execution_count": 104,
     "metadata": {},
     "output_type": "execute_result"
    }
   ],
   "source": [
    "list(died['PAY1_4']).count(1)"
   ]
  },
  {
   "cell_type": "code",
   "execution_count": 105,
   "metadata": {},
   "outputs": [
    {
     "data": {
      "text/plain": [
       "13"
      ]
     },
     "execution_count": 105,
     "metadata": {},
     "output_type": "execute_result"
    }
   ],
   "source": [
    "list(died['PAY1_5']).count(1)"
   ]
  },
  {
   "cell_type": "code",
   "execution_count": 106,
   "metadata": {},
   "outputs": [
    {
     "data": {
      "text/plain": [
       "148"
      ]
     },
     "execution_count": 106,
     "metadata": {},
     "output_type": "execute_result"
    }
   ],
   "source": [
    "list(died['PAY1_6']).count(1)"
   ]
  },
  {
   "cell_type": "markdown",
   "metadata": {},
   "source": [
    "### Mean household income per ZIP code"
   ]
  },
  {
   "cell_type": "code",
   "execution_count": 107,
   "metadata": {},
   "outputs": [
    {
     "data": {
      "text/html": [
       "<div>\n",
       "<style scoped>\n",
       "    .dataframe tbody tr th:only-of-type {\n",
       "        vertical-align: middle;\n",
       "    }\n",
       "\n",
       "    .dataframe tbody tr th {\n",
       "        vertical-align: top;\n",
       "    }\n",
       "\n",
       "    .dataframe thead th {\n",
       "        text-align: right;\n",
       "    }\n",
       "</style>\n",
       "<table border=\"1\" class=\"dataframe\">\n",
       "  <thead>\n",
       "    <tr style=\"text-align: right;\">\n",
       "      <th></th>\n",
       "      <th>ZIPINC_QRTL_1</th>\n",
       "      <th>ZIPINC_QRTL_2</th>\n",
       "      <th>ZIPINC_QRTL_3</th>\n",
       "      <th>ZIPINC_QRTL_4</th>\n",
       "    </tr>\n",
       "  </thead>\n",
       "  <tbody>\n",
       "    <tr>\n",
       "      <th>0</th>\n",
       "      <td>1</td>\n",
       "      <td>0</td>\n",
       "      <td>0</td>\n",
       "      <td>0</td>\n",
       "    </tr>\n",
       "    <tr>\n",
       "      <th>1</th>\n",
       "      <td>1</td>\n",
       "      <td>0</td>\n",
       "      <td>0</td>\n",
       "      <td>0</td>\n",
       "    </tr>\n",
       "    <tr>\n",
       "      <th>2</th>\n",
       "      <td>0</td>\n",
       "      <td>0</td>\n",
       "      <td>1</td>\n",
       "      <td>0</td>\n",
       "    </tr>\n",
       "    <tr>\n",
       "      <th>3</th>\n",
       "      <td>0</td>\n",
       "      <td>1</td>\n",
       "      <td>0</td>\n",
       "      <td>0</td>\n",
       "    </tr>\n",
       "    <tr>\n",
       "      <th>4</th>\n",
       "      <td>0</td>\n",
       "      <td>1</td>\n",
       "      <td>0</td>\n",
       "      <td>0</td>\n",
       "    </tr>\n",
       "  </tbody>\n",
       "</table>\n",
       "</div>"
      ],
      "text/plain": [
       "   ZIPINC_QRTL_1  ZIPINC_QRTL_2  ZIPINC_QRTL_3  ZIPINC_QRTL_4\n",
       "0              1              0              0              0\n",
       "1              1              0              0              0\n",
       "2              0              0              1              0\n",
       "3              0              1              0              0\n",
       "4              0              1              0              0"
      ]
     },
     "execution_count": 107,
     "metadata": {},
     "output_type": "execute_result"
    }
   ],
   "source": [
    "fn_pt.filter(regex = 'ZIPINC_QRTL').head()"
   ]
  },
  {
   "cell_type": "code",
   "execution_count": 108,
   "metadata": {},
   "outputs": [
    {
     "data": {
      "text/plain": [
       "28198"
      ]
     },
     "execution_count": 108,
     "metadata": {},
     "output_type": "execute_result"
    }
   ],
   "source": [
    "list(fn_pt['ZIPINC_QRTL_1']).count(1)"
   ]
  },
  {
   "cell_type": "code",
   "execution_count": 109,
   "metadata": {},
   "outputs": [
    {
     "data": {
      "text/plain": [
       "30023"
      ]
     },
     "execution_count": 109,
     "metadata": {},
     "output_type": "execute_result"
    }
   ],
   "source": [
    "list(fn_pt['ZIPINC_QRTL_2']).count(1)"
   ]
  },
  {
   "cell_type": "code",
   "execution_count": 110,
   "metadata": {},
   "outputs": [
    {
     "data": {
      "text/plain": [
       "31874"
      ]
     },
     "execution_count": 110,
     "metadata": {},
     "output_type": "execute_result"
    }
   ],
   "source": [
    "list(fn_pt['ZIPINC_QRTL_3']).count(1)"
   ]
  },
  {
   "cell_type": "code",
   "execution_count": 111,
   "metadata": {},
   "outputs": [
    {
     "data": {
      "text/plain": [
       "32975"
      ]
     },
     "execution_count": 111,
     "metadata": {},
     "output_type": "execute_result"
    }
   ],
   "source": [
    "list(fn_pt['ZIPINC_QRTL_4']).count(1)"
   ]
  },
  {
   "cell_type": "markdown",
   "metadata": {},
   "source": [
    "#### Alive"
   ]
  },
  {
   "cell_type": "code",
   "execution_count": 112,
   "metadata": {},
   "outputs": [
    {
     "data": {
      "text/plain": [
       "26802"
      ]
     },
     "execution_count": 112,
     "metadata": {},
     "output_type": "execute_result"
    }
   ],
   "source": [
    "list(alive['ZIPINC_QRTL_1']).count(1)"
   ]
  },
  {
   "cell_type": "code",
   "execution_count": 113,
   "metadata": {},
   "outputs": [
    {
     "data": {
      "text/plain": [
       "28665"
      ]
     },
     "execution_count": 113,
     "metadata": {},
     "output_type": "execute_result"
    }
   ],
   "source": [
    "list(alive['ZIPINC_QRTL_2']).count(1)"
   ]
  },
  {
   "cell_type": "code",
   "execution_count": 114,
   "metadata": {},
   "outputs": [
    {
     "data": {
      "text/plain": [
       "30334"
      ]
     },
     "execution_count": 114,
     "metadata": {},
     "output_type": "execute_result"
    }
   ],
   "source": [
    "list(alive['ZIPINC_QRTL_3']).count(1)"
   ]
  },
  {
   "cell_type": "code",
   "execution_count": 115,
   "metadata": {},
   "outputs": [
    {
     "data": {
      "text/plain": [
       "31484"
      ]
     },
     "execution_count": 115,
     "metadata": {},
     "output_type": "execute_result"
    }
   ],
   "source": [
    "list(alive['ZIPINC_QRTL_4']).count(1)"
   ]
  },
  {
   "cell_type": "markdown",
   "metadata": {},
   "source": [
    "#### Died"
   ]
  },
  {
   "cell_type": "code",
   "execution_count": 116,
   "metadata": {},
   "outputs": [
    {
     "data": {
      "text/plain": [
       "1384"
      ]
     },
     "execution_count": 116,
     "metadata": {},
     "output_type": "execute_result"
    }
   ],
   "source": [
    "list(died['ZIPINC_QRTL_1']).count(1)"
   ]
  },
  {
   "cell_type": "code",
   "execution_count": 117,
   "metadata": {},
   "outputs": [
    {
     "data": {
      "text/plain": [
       "1345"
      ]
     },
     "execution_count": 117,
     "metadata": {},
     "output_type": "execute_result"
    }
   ],
   "source": [
    "list(died['ZIPINC_QRTL_2']).count(1)"
   ]
  },
  {
   "cell_type": "code",
   "execution_count": 118,
   "metadata": {},
   "outputs": [
    {
     "data": {
      "text/plain": [
       "1515"
      ]
     },
     "execution_count": 118,
     "metadata": {},
     "output_type": "execute_result"
    }
   ],
   "source": [
    "list(died['ZIPINC_QRTL_3']).count(1)"
   ]
  },
  {
   "cell_type": "code",
   "execution_count": 119,
   "metadata": {},
   "outputs": [
    {
     "data": {
      "text/plain": [
       "1481"
      ]
     },
     "execution_count": 119,
     "metadata": {},
     "output_type": "execute_result"
    }
   ],
   "source": [
    "list(died['ZIPINC_QRTL_4']).count(1)"
   ]
  },
  {
   "cell_type": "markdown",
   "metadata": {},
   "source": [
    "### Hospital location, Teaching status"
   ]
  },
  {
   "cell_type": "code",
   "execution_count": 70,
   "metadata": {},
   "outputs": [
    {
     "data": {
      "text/html": [
       "<div>\n",
       "<style scoped>\n",
       "    .dataframe tbody tr th:only-of-type {\n",
       "        vertical-align: middle;\n",
       "    }\n",
       "\n",
       "    .dataframe tbody tr th {\n",
       "        vertical-align: top;\n",
       "    }\n",
       "\n",
       "    .dataframe thead th {\n",
       "        text-align: right;\n",
       "    }\n",
       "</style>\n",
       "<table border=\"1\" class=\"dataframe\">\n",
       "  <thead>\n",
       "    <tr style=\"text-align: right;\">\n",
       "      <th></th>\n",
       "      <th>HOSP_LOCTEACH_1</th>\n",
       "      <th>HOSP_LOCTEACH_2</th>\n",
       "      <th>HOSP_LOCTEACH_3</th>\n",
       "    </tr>\n",
       "  </thead>\n",
       "  <tbody>\n",
       "    <tr>\n",
       "      <th>0</th>\n",
       "      <td>0</td>\n",
       "      <td>1</td>\n",
       "      <td>0</td>\n",
       "    </tr>\n",
       "    <tr>\n",
       "      <th>1</th>\n",
       "      <td>1</td>\n",
       "      <td>0</td>\n",
       "      <td>0</td>\n",
       "    </tr>\n",
       "    <tr>\n",
       "      <th>2</th>\n",
       "      <td>0</td>\n",
       "      <td>1</td>\n",
       "      <td>0</td>\n",
       "    </tr>\n",
       "    <tr>\n",
       "      <th>3</th>\n",
       "      <td>0</td>\n",
       "      <td>1</td>\n",
       "      <td>0</td>\n",
       "    </tr>\n",
       "    <tr>\n",
       "      <th>4</th>\n",
       "      <td>0</td>\n",
       "      <td>0</td>\n",
       "      <td>1</td>\n",
       "    </tr>\n",
       "  </tbody>\n",
       "</table>\n",
       "</div>"
      ],
      "text/plain": [
       "   HOSP_LOCTEACH_1  HOSP_LOCTEACH_2  HOSP_LOCTEACH_3\n",
       "0                0                1                0\n",
       "1                1                0                0\n",
       "2                0                1                0\n",
       "3                0                1                0\n",
       "4                0                0                1"
      ]
     },
     "execution_count": 70,
     "metadata": {},
     "output_type": "execute_result"
    }
   ],
   "source": [
    "fn_pt.filter(regex = 'HOSP_LOCTEACH').head()"
   ]
  },
  {
   "cell_type": "code",
   "execution_count": 71,
   "metadata": {},
   "outputs": [
    {
     "data": {
      "text/plain": [
       "9584"
      ]
     },
     "execution_count": 71,
     "metadata": {},
     "output_type": "execute_result"
    }
   ],
   "source": [
    "list(fn_pt['HOSP_LOCTEACH_1']).count(1)"
   ]
  },
  {
   "cell_type": "code",
   "execution_count": 72,
   "metadata": {},
   "outputs": [
    {
     "data": {
      "text/plain": [
       "35804"
      ]
     },
     "execution_count": 72,
     "metadata": {},
     "output_type": "execute_result"
    }
   ],
   "source": [
    "list(fn_pt['HOSP_LOCTEACH_2']).count(1)"
   ]
  },
  {
   "cell_type": "code",
   "execution_count": 73,
   "metadata": {},
   "outputs": [
    {
     "data": {
      "text/plain": [
       "92781"
      ]
     },
     "execution_count": 73,
     "metadata": {},
     "output_type": "execute_result"
    }
   ],
   "source": [
    "list(fn_pt['HOSP_LOCTEACH_3']).count(1)"
   ]
  },
  {
   "cell_type": "markdown",
   "metadata": {},
   "source": [
    "#### Alive"
   ]
  },
  {
   "cell_type": "code",
   "execution_count": 74,
   "metadata": {},
   "outputs": [
    {
     "data": {
      "text/plain": [
       "9195"
      ]
     },
     "execution_count": 74,
     "metadata": {},
     "output_type": "execute_result"
    }
   ],
   "source": [
    "list(alive['HOSP_LOCTEACH_1']).count(1)"
   ]
  },
  {
   "cell_type": "code",
   "execution_count": 75,
   "metadata": {},
   "outputs": [
    {
     "data": {
      "text/plain": [
       "34013"
      ]
     },
     "execution_count": 75,
     "metadata": {},
     "output_type": "execute_result"
    }
   ],
   "source": [
    "list(alive['HOSP_LOCTEACH_2']).count(1)"
   ]
  },
  {
   "cell_type": "code",
   "execution_count": 76,
   "metadata": {},
   "outputs": [
    {
     "data": {
      "text/plain": [
       "88488"
      ]
     },
     "execution_count": 76,
     "metadata": {},
     "output_type": "execute_result"
    }
   ],
   "source": [
    "list(alive['HOSP_LOCTEACH_3']).count(1)"
   ]
  },
  {
   "cell_type": "markdown",
   "metadata": {},
   "source": [
    "#### Died"
   ]
  },
  {
   "cell_type": "code",
   "execution_count": 8,
   "metadata": {},
   "outputs": [
    {
     "data": {
      "text/plain": [
       "389"
      ]
     },
     "execution_count": 8,
     "metadata": {},
     "output_type": "execute_result"
    }
   ],
   "source": [
    "list(died['HOSP_LOCTEACH_1']).count(1)"
   ]
  },
  {
   "cell_type": "code",
   "execution_count": 9,
   "metadata": {},
   "outputs": [
    {
     "data": {
      "text/plain": [
       "1791"
      ]
     },
     "execution_count": 9,
     "metadata": {},
     "output_type": "execute_result"
    }
   ],
   "source": [
    "list(died['HOSP_LOCTEACH_2']).count(1)"
   ]
  },
  {
   "cell_type": "code",
   "execution_count": 10,
   "metadata": {},
   "outputs": [
    {
     "data": {
      "text/plain": [
       "4293"
      ]
     },
     "execution_count": 10,
     "metadata": {},
     "output_type": "execute_result"
    }
   ],
   "source": [
    "list(died['HOSP_LOCTEACH_3']).count(1)"
   ]
  },
  {
   "cell_type": "markdown",
   "metadata": {},
   "source": [
    "### Hospital Region"
   ]
  },
  {
   "cell_type": "code",
   "execution_count": 12,
   "metadata": {},
   "outputs": [
    {
     "data": {
      "text/html": [
       "<div>\n",
       "<style scoped>\n",
       "    .dataframe tbody tr th:only-of-type {\n",
       "        vertical-align: middle;\n",
       "    }\n",
       "\n",
       "    .dataframe tbody tr th {\n",
       "        vertical-align: top;\n",
       "    }\n",
       "\n",
       "    .dataframe thead th {\n",
       "        text-align: right;\n",
       "    }\n",
       "</style>\n",
       "<table border=\"1\" class=\"dataframe\">\n",
       "  <thead>\n",
       "    <tr style=\"text-align: right;\">\n",
       "      <th></th>\n",
       "      <th>HOSP_REGION_1</th>\n",
       "      <th>HOSP_REGION_2</th>\n",
       "      <th>HOSP_REGION_3</th>\n",
       "      <th>HOSP_REGION_4</th>\n",
       "    </tr>\n",
       "  </thead>\n",
       "  <tbody>\n",
       "    <tr>\n",
       "      <th>0</th>\n",
       "      <td>0</td>\n",
       "      <td>0</td>\n",
       "      <td>0</td>\n",
       "      <td>1</td>\n",
       "    </tr>\n",
       "    <tr>\n",
       "      <th>1</th>\n",
       "      <td>0</td>\n",
       "      <td>0</td>\n",
       "      <td>0</td>\n",
       "      <td>1</td>\n",
       "    </tr>\n",
       "    <tr>\n",
       "      <th>2</th>\n",
       "      <td>0</td>\n",
       "      <td>0</td>\n",
       "      <td>0</td>\n",
       "      <td>1</td>\n",
       "    </tr>\n",
       "    <tr>\n",
       "      <th>3</th>\n",
       "      <td>0</td>\n",
       "      <td>0</td>\n",
       "      <td>0</td>\n",
       "      <td>1</td>\n",
       "    </tr>\n",
       "    <tr>\n",
       "      <th>4</th>\n",
       "      <td>0</td>\n",
       "      <td>0</td>\n",
       "      <td>0</td>\n",
       "      <td>1</td>\n",
       "    </tr>\n",
       "  </tbody>\n",
       "</table>\n",
       "</div>"
      ],
      "text/plain": [
       "   HOSP_REGION_1  HOSP_REGION_2  HOSP_REGION_3  HOSP_REGION_4\n",
       "0              0              0              0              1\n",
       "1              0              0              0              1\n",
       "2              0              0              0              1\n",
       "3              0              0              0              1\n",
       "4              0              0              0              1"
      ]
     },
     "execution_count": 12,
     "metadata": {},
     "output_type": "execute_result"
    }
   ],
   "source": [
    "fn_pt.filter(regex = 'HOSP_REGION').head()"
   ]
  },
  {
   "cell_type": "code",
   "execution_count": 13,
   "metadata": {},
   "outputs": [
    {
     "data": {
      "text/plain": [
       "25445"
      ]
     },
     "execution_count": 13,
     "metadata": {},
     "output_type": "execute_result"
    }
   ],
   "source": [
    "list(fn_pt['HOSP_REGION_1']).count(1)"
   ]
  },
  {
   "cell_type": "code",
   "execution_count": 14,
   "metadata": {},
   "outputs": [
    {
     "data": {
      "text/plain": [
       "33384"
      ]
     },
     "execution_count": 14,
     "metadata": {},
     "output_type": "execute_result"
    }
   ],
   "source": [
    "list(fn_pt['HOSP_REGION_2']).count(1)"
   ]
  },
  {
   "cell_type": "code",
   "execution_count": 15,
   "metadata": {},
   "outputs": [
    {
     "data": {
      "text/plain": [
       "53240"
      ]
     },
     "execution_count": 15,
     "metadata": {},
     "output_type": "execute_result"
    }
   ],
   "source": [
    "list(fn_pt['HOSP_REGION_3']).count(1)"
   ]
  },
  {
   "cell_type": "code",
   "execution_count": 16,
   "metadata": {},
   "outputs": [
    {
     "data": {
      "text/plain": [
       "26863"
      ]
     },
     "execution_count": 16,
     "metadata": {},
     "output_type": "execute_result"
    }
   ],
   "source": [
    "list(fn_pt['HOSP_REGION_4']).count(1)"
   ]
  },
  {
   "cell_type": "markdown",
   "metadata": {},
   "source": [
    "#### Alive"
   ]
  },
  {
   "cell_type": "code",
   "execution_count": 18,
   "metadata": {},
   "outputs": [
    {
     "data": {
      "text/plain": [
       "24275"
      ]
     },
     "execution_count": 18,
     "metadata": {},
     "output_type": "execute_result"
    }
   ],
   "source": [
    "list(alive['HOSP_REGION_1']).count(1)"
   ]
  },
  {
   "cell_type": "code",
   "execution_count": 19,
   "metadata": {},
   "outputs": [
    {
     "data": {
      "text/plain": [
       "31904"
      ]
     },
     "execution_count": 19,
     "metadata": {},
     "output_type": "execute_result"
    }
   ],
   "source": [
    "list(alive['HOSP_REGION_2']).count(1)"
   ]
  },
  {
   "cell_type": "code",
   "execution_count": 20,
   "metadata": {},
   "outputs": [
    {
     "data": {
      "text/plain": [
       "50754"
      ]
     },
     "execution_count": 20,
     "metadata": {},
     "output_type": "execute_result"
    }
   ],
   "source": [
    "list(alive['HOSP_REGION_3']).count(1)"
   ]
  },
  {
   "cell_type": "code",
   "execution_count": 21,
   "metadata": {},
   "outputs": [
    {
     "data": {
      "text/plain": [
       "25490"
      ]
     },
     "execution_count": 21,
     "metadata": {},
     "output_type": "execute_result"
    }
   ],
   "source": [
    "list(alive['HOSP_REGION_4']).count(1)"
   ]
  },
  {
   "cell_type": "markdown",
   "metadata": {},
   "source": [
    "#### Died"
   ]
  },
  {
   "cell_type": "code",
   "execution_count": 22,
   "metadata": {},
   "outputs": [
    {
     "data": {
      "text/plain": [
       "1170"
      ]
     },
     "execution_count": 22,
     "metadata": {},
     "output_type": "execute_result"
    }
   ],
   "source": [
    "list(died['HOSP_REGION_1']).count(1)"
   ]
  },
  {
   "cell_type": "code",
   "execution_count": 23,
   "metadata": {},
   "outputs": [
    {
     "data": {
      "text/plain": [
       "1480"
      ]
     },
     "execution_count": 23,
     "metadata": {},
     "output_type": "execute_result"
    }
   ],
   "source": [
    "list(died['HOSP_REGION_2']).count(1)"
   ]
  },
  {
   "cell_type": "code",
   "execution_count": 24,
   "metadata": {},
   "outputs": [
    {
     "data": {
      "text/plain": [
       "2486"
      ]
     },
     "execution_count": 24,
     "metadata": {},
     "output_type": "execute_result"
    }
   ],
   "source": [
    "list(died['HOSP_REGION_3']).count(1)"
   ]
  },
  {
   "cell_type": "code",
   "execution_count": 25,
   "metadata": {},
   "outputs": [
    {
     "data": {
      "text/plain": [
       "1373"
      ]
     },
     "execution_count": 25,
     "metadata": {},
     "output_type": "execute_result"
    }
   ],
   "source": [
    "list(died['HOSP_REGION_4']).count(1)"
   ]
  },
  {
   "cell_type": "markdown",
   "metadata": {},
   "source": [
    "### Acute Leukemia"
   ]
  },
  {
   "cell_type": "code",
   "execution_count": 21,
   "metadata": {},
   "outputs": [
    {
     "data": {
      "text/plain": [
       "Index(['DX_20401', 'DX_20402', 'DX_20400'], dtype='object')"
      ]
     },
     "execution_count": 21,
     "metadata": {},
     "output_type": "execute_result"
    }
   ],
   "source": [
    "alive.columns[alive.columns.str.startswith(\"DX_2040\")]"
   ]
  },
  {
   "cell_type": "code",
   "execution_count": 22,
   "metadata": {},
   "outputs": [
    {
     "data": {
      "text/plain": [
       "Index(['DX_20502', 'DX_20500', 'DX_20501'], dtype='object')"
      ]
     },
     "execution_count": 22,
     "metadata": {},
     "output_type": "execute_result"
    }
   ],
   "source": [
    "alive.columns[alive.columns.str.startswith(\"DX_2050\")]"
   ]
  },
  {
   "cell_type": "code",
   "execution_count": 23,
   "metadata": {},
   "outputs": [
    {
     "data": {
      "text/plain": [
       "Index(['DX_20600', 'DX_20601', 'DX_20602'], dtype='object')"
      ]
     },
     "execution_count": 23,
     "metadata": {},
     "output_type": "execute_result"
    }
   ],
   "source": [
    "alive.columns[alive.columns.str.startswith(\"DX_2060\")]"
   ]
  },
  {
   "cell_type": "code",
   "execution_count": 24,
   "metadata": {},
   "outputs": [
    {
     "data": {
      "text/plain": [
       "Index(['DX_20701', 'DX_20700', 'DX_20702'], dtype='object')"
      ]
     },
     "execution_count": 24,
     "metadata": {},
     "output_type": "execute_result"
    }
   ],
   "source": [
    "alive.columns[alive.columns.str.startswith(\"DX_2070\")]"
   ]
  },
  {
   "cell_type": "code",
   "execution_count": 25,
   "metadata": {},
   "outputs": [
    {
     "data": {
      "text/plain": [
       "Index(['DX_20801', 'DX_20800', 'DX_20802'], dtype='object')"
      ]
     },
     "execution_count": 25,
     "metadata": {},
     "output_type": "execute_result"
    }
   ],
   "source": [
    "alive.columns[alive.columns.str.startswith(\"DX_2080\")]"
   ]
  },
  {
   "cell_type": "code",
   "execution_count": 31,
   "metadata": {},
   "outputs": [
    {
     "name": "stderr",
     "output_type": "stream",
     "text": [
      "/apps/python3/3.6.5/lib/python3.6/site-packages/ipykernel_launcher.py:1: FutureWarning: Method .as_matrix will be removed in a future version. Use .values instead.\n",
      "  \"\"\"Entry point for launching an IPython kernel.\n"
     ]
    },
    {
     "data": {
      "text/plain": [
       "33716"
      ]
     },
     "execution_count": 31,
     "metadata": {},
     "output_type": "execute_result"
    }
   ],
   "source": [
    "list(fn_pt.DX_20400.as_matrix()|fn_pt.DX_20401.as_matrix()|fn_pt.DX_20402.as_matrix()|fn_pt.DX_20500.as_matrix()\\\n",
    "|fn_pt.DX_20501.as_matrix()|fn_pt.DX_20502.as_matrix()|fn_pt.DX_20600.as_matrix()|fn_pt.DX_20601.as_matrix()\\\n",
    "|fn_pt.DX_20602.as_matrix()|fn_pt.DX_20700.as_matrix()|fn_pt.DX_20701.as_matrix()|fn_pt.DX_20702.as_matrix()\\\n",
    "|fn_pt.DX_20800.as_matrix()|fn_pt.DX_20801.as_matrix()|fn_pt.DX_20802.as_matrix()).count(1)"
   ]
  },
  {
   "cell_type": "markdown",
   "metadata": {},
   "source": [
    "#### Alive"
   ]
  },
  {
   "cell_type": "code",
   "execution_count": 28,
   "metadata": {},
   "outputs": [
    {
     "name": "stderr",
     "output_type": "stream",
     "text": [
      "/apps/python3/3.6.5/lib/python3.6/site-packages/ipykernel_launcher.py:1: FutureWarning: Method .as_matrix will be removed in a future version. Use .values instead.\n",
      "  \"\"\"Entry point for launching an IPython kernel.\n"
     ]
    },
    {
     "data": {
      "text/plain": [
       "31512"
      ]
     },
     "execution_count": 28,
     "metadata": {},
     "output_type": "execute_result"
    }
   ],
   "source": [
    "list(alive.DX_20400.as_matrix()|alive.DX_20401.as_matrix()|alive.DX_20402.as_matrix()|alive.DX_20500.as_matrix()\\\n",
    "|alive.DX_20501.as_matrix()|alive.DX_20502.as_matrix()|alive.DX_20600.as_matrix()|alive.DX_20601.as_matrix()\\\n",
    "|alive.DX_20602.as_matrix()|alive.DX_20700.as_matrix()|alive.DX_20701.as_matrix()|alive.DX_20702.as_matrix()\\\n",
    "|alive.DX_20800.as_matrix()|alive.DX_20801.as_matrix()|alive.DX_20802.as_matrix()).count(1)"
   ]
  },
  {
   "cell_type": "markdown",
   "metadata": {},
   "source": [
    "#### Died"
   ]
  },
  {
   "cell_type": "code",
   "execution_count": 30,
   "metadata": {},
   "outputs": [
    {
     "name": "stderr",
     "output_type": "stream",
     "text": [
      "/apps/python3/3.6.5/lib/python3.6/site-packages/ipykernel_launcher.py:1: FutureWarning: Method .as_matrix will be removed in a future version. Use .values instead.\n",
      "  \"\"\"Entry point for launching an IPython kernel.\n"
     ]
    },
    {
     "data": {
      "text/plain": [
       "4305"
      ]
     },
     "execution_count": 30,
     "metadata": {},
     "output_type": "execute_result"
    }
   ],
   "source": [
    "list(died.DX_20400.as_matrix()|died.DX_20401.as_matrix()|died.DX_20402.as_matrix()|died.DX_20500.as_matrix()\\\n",
    "|died.DX_20501.as_matrix()|died.DX_20502.as_matrix()|died.DX_20600.as_matrix()|died.DX_20601.as_matrix()\\\n",
    "|died.DX_20602.as_matrix()|died.DX_20700.as_matrix()|died.DX_20701.as_matrix()|died.DX_20702.as_matrix()\\\n",
    "|died.DX_20800.as_matrix()|died.DX_20801.as_matrix()|died.DX_20802.as_matrix()).count(0)"
   ]
  },
  {
   "cell_type": "code",
   "execution_count": null,
   "metadata": {},
   "outputs": [],
   "source": []
  },
  {
   "cell_type": "markdown",
   "metadata": {},
   "source": [
    "### Mortality"
   ]
  },
  {
   "cell_type": "code",
   "execution_count": 26,
   "metadata": {},
   "outputs": [
    {
     "data": {
      "text/plain": [
       "6509"
      ]
     },
     "execution_count": 26,
     "metadata": {},
     "output_type": "execute_result"
    }
   ],
   "source": [
    "len(died)"
   ]
  },
  {
   "cell_type": "code",
   "execution_count": null,
   "metadata": {
    "collapsed": true
   },
   "outputs": [],
   "source": []
  }
 ],
 "metadata": {
  "kernelspec": {
   "display_name": "Python 3",
   "language": "python",
   "name": "python3"
  },
  "language_info": {
   "codemirror_mode": {
    "name": "ipython",
    "version": 3
   },
   "file_extension": ".py",
   "mimetype": "text/x-python",
   "name": "python",
   "nbconvert_exporter": "python",
   "pygments_lexer": "ipython3",
   "version": "3.6.5"
  }
 },
 "nbformat": 4,
 "nbformat_minor": 2
}
