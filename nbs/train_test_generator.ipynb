{
 "cells": [
  {
   "cell_type": "markdown",
   "metadata": {},
   "source": [
    "# Generate Training and Testing files, as well as doing trend analysis"
   ]
  },
  {
   "cell_type": "code",
   "execution_count": 1,
   "metadata": {},
   "outputs": [],
   "source": [
    "from sklearn.model_selection import train_test_split\n",
    "import pandas as pd\n",
    "import numpy as np\n",
    "import csv"
   ]
  },
  {
   "cell_type": "code",
   "execution_count": 184,
   "metadata": {},
   "outputs": [],
   "source": [
    "# icd9 for fever identification\n",
    "fever_icd9 = ['7806']\n",
    "# icd9s for neutropenia identification (reference: \"Fever and neutropenia hospital discharges in children with cancer: A 2012 update\")\n",
    "# neu_icd9 = ['2880', '2841', '1125']\n",
    "neu_icd9 = ['2880']\n",
    "# ccs for cancer identification\n",
    "cancer_ccs = list(range(11,46))\n",
    "cancer_ccs = [str(x) for x in cancer_ccs]\n",
    "# path of the file of all discharges of a certain year\n",
    "path = '../../../data/hcup/nis/NIS_2015/total.csv'"
   ]
  },
  {
   "cell_type": "code",
   "execution_count": 185,
   "metadata": {},
   "outputs": [],
   "source": [
    "# load all discharges of a particular year\n",
    "data = pd.read_csv(path, dtype = object, quoting = csv.QUOTE_ALL)"
   ]
  },
  {
   "cell_type": "code",
   "execution_count": 186,
   "metadata": {},
   "outputs": [],
   "source": [
    "data.reset_index(drop = True, inplace = True)"
   ]
  },
  {
   "cell_type": "markdown",
   "metadata": {},
   "source": [
    "## Load trend weight for years before 2012 (for 2012 or later, use DISCWT directly)"
   ]
  },
  {
   "cell_type": "markdown",
   "metadata": {},
   "source": [
    "reference: https://www.hcup-us.ahrq.gov/reports/methods/2006_05_NISTrendsReport_1988-2004.pdf"
   ]
  },
  {
   "cell_type": "markdown",
   "metadata": {},
   "source": [
    "#### DO NOT RUN THE FOLLOWING CELLS FOR 2012 OR LATER YEARS"
   ]
  },
  {
   "cell_type": "code",
   "execution_count": 114,
   "metadata": {},
   "outputs": [],
   "source": [
    "# load trend weights file from url\n",
    "target_url = 'https://www.hcup-us.ahrq.gov/db/nation/nis/weights/NIS_2011_HOSPITAL_TrendWt.ASC'\n",
    "import urllib\n",
    "content=urllib.request.urlopen(target_url)\n",
    "hospids = []\n",
    "trendwts = []\n",
    "for line in content:\n",
    "    # hospital id\n",
    "    hospids.append(int(line[4:10].strip()))\n",
    "    # trend weight \n",
    "    trendwts.append(float(line[10:].strip()))"
   ]
  },
  {
   "cell_type": "code",
   "execution_count": 115,
   "metadata": {},
   "outputs": [],
   "source": [
    "def get_trendwt(row):\n",
    "    return trendwts[hospids.index(int(row['HOSPID']))]"
   ]
  },
  {
   "cell_type": "code",
   "execution_count": 116,
   "metadata": {},
   "outputs": [],
   "source": [
    "data['DISCWT'] = data.apply(lambda row: get_trendwt(row),axis=1)"
   ]
  },
  {
   "cell_type": "markdown",
   "metadata": {},
   "source": [
    "#### THE FOLLOWING CELL IS ONLY FOR 2015"
   ]
  },
  {
   "cell_type": "code",
   "execution_count": 187,
   "metadata": {},
   "outputs": [],
   "source": [
    "# For 2015, there is only one core file and one hospital file, but two severity files and two DX_PR_GRPS files;\n",
    "# since we do not use Q4, we only need one severity file and one DX_PR_GRPS file. So, after merging Q1Q3's severity/DX_PR_GRPS file,\n",
    "# there would be some redundancy in the merged file (i.e. some discharges belongs to Q4). Those redundancies would have Nan values.\n",
    "# So, remove them.\n",
    "\n",
    "data.dropna(subset = ['CM_LYMPH', 'CM_LIVER', 'CM_PARA', 'CM_RENLFAIL', 'CM_AIDS', 'CM_ALCOHOL', 'CM_ANEMDEF',\n",
    "            'CM_ARTH', 'CM_BLDLOSS', 'CM_CHF', 'CM_CHRNLUNG', 'CM_COAG', 'CM_DEPRESS', 'CM_DM', 'CM_DMCX', 'CM_DRUG',\n",
    "            'CM_HTN_C', 'CM_HYPOTHY', 'CM_LYTES', 'CM_METS', 'CM_OBESE', 'CM_NEURO', 'CM_PERIVASC', 'CM_PSYCH',\n",
    "            'CM_PULMCIRC', 'CM_ULCER', 'CM_VALVE', 'CM_WGHTLOSS', 'CM_TUMOR', 'APRDRG', 'APRDRG_Severity', 'APRDRG_Risk_Mortality'], \n",
    "               how = 'all', inplace = True)"
   ]
  },
  {
   "cell_type": "markdown",
   "metadata": {},
   "source": [
    "#### RUN THE FOLLOWING CELLS FOR ALL YEARS DATA"
   ]
  },
  {
   "cell_type": "code",
   "execution_count": 188,
   "metadata": {},
   "outputs": [
    {
     "data": {
      "text/plain": [
       "5377720"
      ]
     },
     "execution_count": 188,
     "metadata": {},
     "output_type": "execute_result"
    }
   ],
   "source": [
    "len(data)"
   ]
  },
  {
   "cell_type": "code",
   "execution_count": 189,
   "metadata": {},
   "outputs": [
    {
     "data": {
      "text/plain": [
       "26888597.691980608"
      ]
     },
     "execution_count": 189,
     "metadata": {},
     "output_type": "execute_result"
    }
   ],
   "source": [
    "# The output of this cell can be verified with HCUPnet (https://hcupnet.ahrq.gov/#setup)\n",
    "\n",
    "np.sum(data.DISCWT.values.astype(float))"
   ]
  },
  {
   "cell_type": "code",
   "execution_count": 190,
   "metadata": {},
   "outputs": [],
   "source": [
    "# missing or invalid/inconsistant data are represented by alphabats or negative numbers\n",
    "\n",
    "data_missingage = data[(data.AGE.isnull()) |(data.AGE=='A') | (data.AGE=='B') | (data.AGE=='C') | (data.AGE < '0')]\n",
    "data = data.drop(index = data_missingage.index)\n",
    "data.AGE = data.AGE.astype(float)\n",
    "data_adult = data[data.AGE>=18]\n",
    "data_young = data[data.AGE<18]"
   ]
  },
  {
   "cell_type": "code",
   "execution_count": 191,
   "metadata": {},
   "outputs": [
    {
     "name": "stdout",
     "output_type": "stream",
     "text": [
      "number of adult discharges:  22682217.71335061\n",
      "number of young discharges:  4193790.0971502014\n",
      "number of missing age discharges:  12589.8814798\n"
     ]
    }
   ],
   "source": [
    "print('number of adult discharges: ', np.sum(data_adult.DISCWT.values.astype(float)))\n",
    "print('number of young discharges: ', np.sum(data_young.DISCWT.values.astype(float)))\n",
    "print('number of missing age discharges: ', np.sum(data_missingage.DISCWT.values.astype(float)))"
   ]
  },
  {
   "cell_type": "code",
   "execution_count": 192,
   "metadata": {},
   "outputs": [
    {
     "data": {
      "text/plain": [
       "5375202"
      ]
     },
     "execution_count": 192,
     "metadata": {},
     "output_type": "execute_result"
    }
   ],
   "source": [
    "len(data)"
   ]
  },
  {
   "cell_type": "code",
   "execution_count": 193,
   "metadata": {},
   "outputs": [
    {
     "data": {
      "text/plain": [
       "2518"
      ]
     },
     "execution_count": 193,
     "metadata": {},
     "output_type": "execute_result"
    }
   ],
   "source": [
    "len(data_missingage)"
   ]
  },
  {
   "cell_type": "code",
   "execution_count": 194,
   "metadata": {},
   "outputs": [],
   "source": [
    "# columns for diagnoses; for years before 2009, there are 15 columns, there are 25 for 2009-2013, 30 for 2014 and 2015\n",
    "\n",
    "dx_cols = ['DX1',\n",
    " 'DX2',\n",
    " 'DX3',\n",
    " 'DX4',\n",
    " 'DX5',\n",
    " 'DX6',\n",
    " 'DX7',\n",
    " 'DX8',\n",
    " 'DX9',\n",
    " 'DX10',\n",
    " 'DX11',\n",
    " 'DX12',\n",
    " 'DX13',\n",
    " 'DX14',\n",
    " 'DX15',\n",
    " 'DX16',\n",
    " 'DX17',\n",
    " 'DX18',\n",
    " 'DX19',\n",
    " 'DX20',\n",
    " 'DX21',\n",
    " 'DX22',\n",
    " 'DX23',\n",
    " 'DX24',\n",
    " 'DX25',\n",
    " 'DX26',\n",
    " 'DX27',\n",
    " 'DX28',\n",
    " 'DX29',\n",
    " 'DX30']"
   ]
  },
  {
   "cell_type": "code",
   "execution_count": 195,
   "metadata": {},
   "outputs": [],
   "source": [
    "# columns for CCS; for years before 2009, there are 15 columns, there are 25 for 2009-2013, 30 for 2014 and 2015\n",
    "\n",
    "ccs_cols = ['DXCCS1',\n",
    " 'DXCCS2',\n",
    " 'DXCCS3',\n",
    " 'DXCCS4',\n",
    " 'DXCCS5',\n",
    " 'DXCCS6',\n",
    " 'DXCCS7',\n",
    " 'DXCCS8',\n",
    " 'DXCCS9',\n",
    " 'DXCCS10',\n",
    " 'DXCCS11',\n",
    " 'DXCCS12',\n",
    " 'DXCCS13',\n",
    " 'DXCCS14',\n",
    " 'DXCCS15',\n",
    " 'DXCCS16',\n",
    " 'DXCCS17',\n",
    " 'DXCCS18',\n",
    " 'DXCCS19',\n",
    " 'DXCCS20',\n",
    " 'DXCCS21',\n",
    " 'DXCCS22',\n",
    " 'DXCCS23',\n",
    " 'DXCCS24',\n",
    " 'DXCCS25',\n",
    " 'DXCCS26',\n",
    " 'DXCCS27',\n",
    " 'DXCCS28',\n",
    " 'DXCCS29',\n",
    " 'DXCCS30']"
   ]
  },
  {
   "cell_type": "code",
   "execution_count": 196,
   "metadata": {},
   "outputs": [],
   "source": [
    "# columns for chronic condition identifier; for years before 2009, there are 15 columns, there are 25 for 2009-2013, 30 for 2014 and 2015\n",
    "\n",
    "chron_cols = ['CHRON1',\n",
    " 'CHRON2',\n",
    " 'CHRON3',\n",
    " 'CHRON4',\n",
    " 'CHRON5',\n",
    " 'CHRON6',\n",
    " 'CHRON7',\n",
    " 'CHRON8',\n",
    " 'CHRON9',\n",
    " 'CHRON10',\n",
    " 'CHRON11',\n",
    " 'CHRON12',\n",
    " 'CHRON13',\n",
    " 'CHRON14',\n",
    " 'CHRON15',\n",
    " 'CHRON16',\n",
    " 'CHRON17',\n",
    " 'CHRON18',\n",
    " 'CHRON19',\n",
    " 'CHRON20',\n",
    " 'CHRON21',\n",
    " 'CHRON22',\n",
    " 'CHRON23',\n",
    " 'CHRON24',\n",
    " 'CHRON25',\n",
    " 'CHRON26',\n",
    " 'CHRON27',\n",
    " 'CHRON28',\n",
    " 'CHRON29',\n",
    " 'CHRON30']"
   ]
  },
  {
   "cell_type": "code",
   "execution_count": 197,
   "metadata": {},
   "outputs": [],
   "source": [
    "# function for selecting discharges with certain icd9 codes\n",
    "\n",
    "def icd9_selection(df, cols, icd9s):   \n",
    "    pt = pd.DataFrame(data=None, columns=df.columns)   \n",
    "    for col in cols:        \n",
    "        for icd9 in icd9s:        \n",
    "            pt = pt.append(df[df[col].str.startswith(icd9, na = False)])\n",
    "    return pt.drop_duplicates()"
   ]
  },
  {
   "cell_type": "code",
   "execution_count": 198,
   "metadata": {},
   "outputs": [],
   "source": [
    "# function for selecting discharges with certain CCS codes\n",
    "\n",
    "def ccs_selection(df, cols, ccs_codes):   \n",
    "    pt = pd.DataFrame(data=None, columns=df.columns)   \n",
    "    for col in cols:       \n",
    "        pt = pt.append(df[df[col].isin(cancer_ccs)])\n",
    "    return pt.drop_duplicates()"
   ]
  },
  {
   "cell_type": "markdown",
   "metadata": {},
   "source": [
    "#### Stats for cancer admissions"
   ]
  },
  {
   "cell_type": "code",
   "execution_count": 199,
   "metadata": {},
   "outputs": [
    {
     "name": "stdout",
     "output_type": "stream",
     "text": [
      "number of adult cancer patient:  3737865.228388001\n",
      "number of young cancer patient:  76954.9916835\n",
      "number of missing age cancer patient:  424.9968154\n"
     ]
    }
   ],
   "source": [
    "cancer = ccs_selection(data, ccs_cols, cancer_ccs)\n",
    "cancer_adult = ccs_selection(data_adult, ccs_cols, cancer_ccs)\n",
    "cancer_young = ccs_selection(data_young, ccs_cols, cancer_ccs)\n",
    "cancer_missing = ccs_selection(data_missingage, ccs_cols, cancer_ccs)\n",
    "print('number of adult cancer patient: ', np.sum(cancer_adult.DISCWT.values.astype(float)))\n",
    "print('number of young cancer patient: ', np.sum(cancer_young.DISCWT.values.astype(float)))\n",
    "print('number of missing age cancer patient: ', np.sum(cancer_missing.DISCWT.values.astype(float)))"
   ]
  },
  {
   "cell_type": "markdown",
   "metadata": {},
   "source": [
    "#### Stats for fever and neutropenia admissions"
   ]
  },
  {
   "cell_type": "code",
   "execution_count": 49,
   "metadata": {},
   "outputs": [
    {
     "name": "stdout",
     "output_type": "stream",
     "text": [
      "number of adult fever patient:  127774.59735640002\n",
      "number of young fever patient:  18763.5816579\n",
      "number of missing fever patient:  3.138045\n",
      "number of adult Neutraphenia patient:  109378.84070260002\n",
      "number of young Neutraphenia patient:  17117.301849099997\n",
      "number of missing Neutraphenia patient:  3.77492\n"
     ]
    }
   ],
   "source": [
    "fever_adult = icd9_selection(cancer_adult, dx_cols, fever_icd9)\n",
    "fever_young = icd9_selection(cancer_young, dx_cols, fever_icd9)\n",
    "fever_missing = icd9_selection(cancer_missing, dx_cols, fever_icd9)\n",
    "neu_adult = icd9_selection(cancer_adult, dx_cols, neu_icd9)\n",
    "neu_young = icd9_selection(cancer_young, dx_cols, neu_icd9)\n",
    "neu_missing = icd9_selection(cancer_missing, dx_cols, neu_icd9)\n",
    "print('number of adult fever patient: ', np.sum(fever_adult.DISCWT.values.astype(float)))\n",
    "print('number of young fever patient: ', np.sum(fever_young.DISCWT.values.astype(float)))\n",
    "print('number of missing fever patient: ', np.sum(fever_missing.DISCWT.values.astype(float)))\n",
    "print('number of adult Neutraphenia patient: ', np.sum(neu_adult.DISCWT.values.astype(float)))\n",
    "print('number of young Neutraphenia patient: ', np.sum(neu_young.DISCWT.values.astype(float)))\n",
    "print('number of missing Neutraphenia patient: ', np.sum(neu_missing.DISCWT.values.astype(float)))"
   ]
  },
  {
   "cell_type": "markdown",
   "metadata": {},
   "source": [
    "#### Stats for febrile neutropenia admissions"
   ]
  },
  {
   "cell_type": "code",
   "execution_count": 50,
   "metadata": {},
   "outputs": [
    {
     "name": "stdout",
     "output_type": "stream",
     "text": [
      "number of adult Febrile Neutraphenia patient:  56406.799010400005\n",
      "number of young Febrile Neutraphenia patient:  12000.6342123\n",
      "number of missing Febrile Neutraphenia patient:  0.0\n"
     ]
    }
   ],
   "source": [
    "#fn_pt = pd.merge(fever_pt, neu_pt, how = 'inner')\n",
    "#no_fn_pt = len(fn_pt)\n",
    "#print(fn_pt.iloc[0:3])\n",
    "fn_adult = icd9_selection(fever_adult, dx_cols, neu_icd9)\n",
    "fn_young = icd9_selection(fever_young, dx_cols, neu_icd9)\n",
    "fn_missing = icd9_selection(fever_missing, dx_cols, neu_icd9)\n",
    "\n",
    "#no_fn_pt = len(fn_pt)\n",
    "#no_fn_pt_2 = len(fn_pt_2)\n",
    "print('number of adult Febrile Neutraphenia patient: ', np.sum(fn_adult.DISCWT.values.astype(float)))\n",
    "print('number of young Febrile Neutraphenia patient: ', np.sum(fn_young.DISCWT.values.astype(float)))\n",
    "print('number of missing Febrile Neutraphenia patient: ', np.sum(fn_missing.DISCWT.values.astype(float)))"
   ]
  },
  {
   "cell_type": "code",
   "execution_count": 51,
   "metadata": {},
   "outputs": [
    {
     "data": {
      "text/plain": [
       "11662"
      ]
     },
     "execution_count": 51,
     "metadata": {},
     "output_type": "execute_result"
    }
   ],
   "source": [
    "len(fn_adult)"
   ]
  },
  {
   "cell_type": "markdown",
   "metadata": {},
   "source": [
    "#### Stats for died febrile neutropenia admissions"
   ]
  },
  {
   "cell_type": "code",
   "execution_count": 52,
   "metadata": {},
   "outputs": [
    {
     "name": "stdout",
     "output_type": "stream",
     "text": [
      "number of died adult Febrile Neutraphenia patient:  1908.7448290999998\n",
      "number of died young Febrile Neutraphenia patient:  60.4881243\n",
      "number of died missing Febrile Neutraphenia patient:  0.0\n"
     ]
    }
   ],
   "source": [
    "#fn_pt = pd.merge(fever_pt, neu_pt, how = 'inner')\n",
    "#no_fn_pt = len(fn_pt)\n",
    "#print(fn_pt.iloc[0:3])\n",
    "fn_adult_died = fn_adult[fn_adult.DIED == '1']\n",
    "fn_young_died = fn_young[fn_young.DIED == '1']\n",
    "fn_missing_died = fn_missing[fn_missing.DIED == '1']\n",
    "\n",
    "#no_fn_pt = len(fn_pt)\n",
    "#no_fn_pt_2 = len(fn_pt_2)\n",
    "print('number of died adult Febrile Neutraphenia patient: ', np.sum(fn_adult_died.DISCWT.values.astype(float)))\n",
    "print('number of died young Febrile Neutraphenia patient: ', np.sum(fn_young_died.DISCWT.values.astype(float)))\n",
    "print('number of died missing Febrile Neutraphenia patient: ', np.sum(fn_missing_died.DISCWT.values.astype(float)))"
   ]
  },
  {
   "cell_type": "markdown",
   "metadata": {},
   "source": [
    "## Generate training and testing data for FN admissions"
   ]
  },
  {
   "cell_type": "code",
   "execution_count": 53,
   "metadata": {},
   "outputs": [],
   "source": [
    "# identify target variable\n",
    "\n",
    "target_vars = ['DIED']"
   ]
  },
  {
   "cell_type": "code",
   "execution_count": 54,
   "metadata": {},
   "outputs": [],
   "source": [
    "# remove discharges with missing diad information\n",
    "\n",
    "fn_adult_withdied=fn_adult[fn_adult.DIED.isin(['0','1'])]"
   ]
  },
  {
   "cell_type": "code",
   "execution_count": 55,
   "metadata": {},
   "outputs": [],
   "source": [
    "fn_adult_missingdied=fn_adult[~fn_adult.DIED.isin(['0','1'])]"
   ]
  },
  {
   "cell_type": "code",
   "execution_count": 56,
   "metadata": {},
   "outputs": [
    {
     "data": {
      "text/plain": [
       "2"
      ]
     },
     "execution_count": 56,
     "metadata": {},
     "output_type": "execute_result"
    }
   ],
   "source": [
    "len(fn_adult_missingdied)"
   ]
  },
  {
   "cell_type": "markdown",
   "metadata": {},
   "source": [
    "#### RUN THE FOLLOWING CELL ONLY FOR 2007"
   ]
  },
  {
   "cell_type": "code",
   "execution_count": 57,
   "metadata": {},
   "outputs": [],
   "source": [
    "# for 2007, run this cell to create NCHRONIC (number of chronic conditions) variable, since 2007 do not have it.\n",
    "# reference: https://www.hcup-us.ahrq.gov/db/vars/nchronic/nisnote.jsp\n",
    "\n",
    "def NCHRONIC(row):\n",
    "    ccs=[]\n",
    "    n = 0\n",
    "    for i in range(15):\n",
    "        if row[chron_cols[i]] == '1' and row[ccs_cols[i]] not in ccs:\n",
    "            n += 1\n",
    "            ccs.append(row[ccs_cols[i]])\n",
    "    return n\n",
    "fn_adult['NCHRONIC'] = fn_adult.apply(lambda row: NCHRONIC(row),axis=1)"
   ]
  },
  {
   "cell_type": "markdown",
   "metadata": {},
   "source": [
    "#### RUN THE FOLLOWING CELLS FOR ALL YEAR DATA"
   ]
  },
  {
   "cell_type": "code",
   "execution_count": 58,
   "metadata": {},
   "outputs": [],
   "source": [
    "train_x, val_x, _, _ = train_test_split(fn_adult, fn_adult.DIED, test_size=0.2, random_state=None, shuffle = True)"
   ]
  },
  {
   "cell_type": "code",
   "execution_count": 200,
   "metadata": {},
   "outputs": [],
   "source": [
    "# the output file paths\n",
    "\n",
    "path_fn_adult_missingdied = '../../../data/hcup/nis/2007/fn_adult_missingdied_2007.csv'\n",
    "path_data_withage = '../../../data/hcup/nis/2007/total_withage_2007.csv'\n",
    "path_data_missingage = '../../../data/hcup/nis/2007/total_missingage_2007.csv'\n",
    "path_cancer = '../../../data/hcup/nis/NIS_2015/cancer_2015.csv'\n",
    "path_train_and_test = '../../../data/hcup/nis/2007/train_test_2007.csv'\n",
    "path_train = '../../../data/hcup/nis/2007/train_2007.csv'\n",
    "path_test = '../../../data/hcup/nis/2007/test_2007.csv'"
   ]
  },
  {
   "cell_type": "code",
   "execution_count": 60,
   "metadata": {},
   "outputs": [],
   "source": [
    "fn_adult_missingdied.to_csv(path_fn_adult_missingdied, quoting = csv.QUOTE_ALL, index = False)"
   ]
  },
  {
   "cell_type": "code",
   "execution_count": 61,
   "metadata": {},
   "outputs": [],
   "source": [
    "data.to_csv(path_data_withage, quoting = csv.QUOTE_ALL, index = False)"
   ]
  },
  {
   "cell_type": "code",
   "execution_count": 77,
   "metadata": {},
   "outputs": [],
   "source": [
    "data_missingage.to_csv(path_data_missingage, quoting = csv.QUOTE_ALL, index = False)"
   ]
  },
  {
   "cell_type": "code",
   "execution_count": 201,
   "metadata": {},
   "outputs": [],
   "source": [
    "cancer_adult.to_csv(path_cancer, quoting = csv.QUOTE_ALL, index = False)"
   ]
  },
  {
   "cell_type": "code",
   "execution_count": 63,
   "metadata": {},
   "outputs": [],
   "source": [
    "fn_adult.to_csv(path_train_and_test, quoting = csv.QUOTE_ALL, index = False)"
   ]
  },
  {
   "cell_type": "code",
   "execution_count": 64,
   "metadata": {},
   "outputs": [],
   "source": [
    "train_x.to_csv(path_train, quoting = csv.QUOTE_ALL, index = False)"
   ]
  },
  {
   "cell_type": "code",
   "execution_count": 65,
   "metadata": {},
   "outputs": [],
   "source": [
    "val_x.to_csv(path_test, quoting = csv.QUOTE_ALL, index = False)"
   ]
  },
  {
   "cell_type": "code",
   "execution_count": null,
   "metadata": {},
   "outputs": [],
   "source": []
  }
 ],
 "metadata": {
  "kernelspec": {
   "display_name": "Python 3",
   "language": "python",
   "name": "python3"
  },
  "language_info": {
   "codemirror_mode": {
    "name": "ipython",
    "version": 3
   },
   "file_extension": ".py",
   "mimetype": "text/x-python",
   "name": "python",
   "nbconvert_exporter": "python",
   "pygments_lexer": "ipython3",
   "version": "3.6.8"
  }
 },
 "nbformat": 4,
 "nbformat_minor": 2
}
