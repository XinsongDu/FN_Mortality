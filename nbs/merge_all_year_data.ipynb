{
 "cells": [
  {
   "cell_type": "code",
   "execution_count": 6,
   "metadata": {},
   "outputs": [],
   "source": [
    "import pandas as pd\n",
    "import numpy as np\n",
    "import csv"
   ]
  },
  {
   "cell_type": "markdown",
   "metadata": {},
   "source": [
    "## Merge The Whole Data"
   ]
  },
  {
   "cell_type": "code",
   "execution_count": null,
   "metadata": {},
   "outputs": [],
   "source": []
  },
  {
   "cell_type": "markdown",
   "metadata": {},
   "source": [
    "## Merge original FN data"
   ]
  },
  {
   "cell_type": "code",
   "execution_count": 2,
   "metadata": {},
   "outputs": [],
   "source": [
    "# Merge all year's adult FN samples which with no missing age or died information.\n",
    "\n",
    "data07 = pd.read_csv('/ufrc/djlemas/xinsongdu/jupyter_notebook/data/hcup/nis/2007/train_test_2007.csv', dtype = str, quoting = csv.QUOTE_ALL)\n",
    "data07.rename(index = str, columns = {'PL_NCHS2006': 'PL_NCHS'}, inplace = True)\n",
    "data07.rename(index = str, columns = {'HOSP_CONTROL': 'H_CONTRL'}, inplace = True)\n",
    "data08 = pd.read_csv('/ufrc/djlemas/xinsongdu/jupyter_notebook/data/hcup/nis/2008/train_test_2008.csv', dtype = str, quoting = csv.QUOTE_ALL)\n",
    "data08.rename(index = str, columns = {'PL_NCHS2006': 'PL_NCHS'}, inplace = True)\n",
    "data09 = pd.read_csv('/ufrc/djlemas/xinsongdu/jupyter_notebook/data/hcup/nis/2009/train_test_2009.csv', dtype = str, quoting = csv.QUOTE_ALL)\n",
    "data09.rename(index = str, columns = {'PL_NCHS2006': 'PL_NCHS'}, inplace = True)\n",
    "data10 = pd.read_csv('/ufrc/djlemas/xinsongdu/jupyter_notebook/data/hcup/nis/2010/train_test_2010.csv', dtype = str, quoting = csv.QUOTE_ALL)\n",
    "data10.rename(index = str, columns = {'PL_NCHS2006': 'PL_NCHS'}, inplace = True)\n",
    "data11 = pd.read_csv('/ufrc/djlemas/xinsongdu/jupyter_notebook/data/hcup/nis/2011/train_test_2011.csv', dtype = str, quoting = csv.QUOTE_ALL)\n",
    "data11.rename(index = str, columns = {'PL_NCHS2006': 'PL_NCHS'}, inplace = True)\n",
    "data12 = pd.read_csv('/ufrc/djlemas/xinsongdu/jupyter_notebook/data/hcup/nis/2012/train_test_2012.csv', dtype = str, quoting = csv.QUOTE_ALL)\n",
    "data12.rename(index = str, columns = {'PL_NCHS2006': 'PL_NCHS'}, inplace = True)\n",
    "data13 = pd.read_csv('/ufrc/djlemas/xinsongdu/jupyter_notebook/data/hcup/nis/2013/train_test_2013.csv', dtype = str, quoting = csv.QUOTE_ALL)\n",
    "data14 = pd.read_csv('/ufrc/djlemas/xinsongdu/jupyter_notebook/data/hcup/nis/NIS2014/train_test_2014.csv', dtype = str, quoting = csv.QUOTE_ALL)\n",
    "data15 = pd.read_csv('/ufrc/djlemas/xinsongdu/jupyter_notebook/data/hcup/nis/NIS_2015/train_test_2015.csv', dtype = str, quoting = csv.QUOTE_ALL)"
   ]
  },
  {
   "cell_type": "code",
   "execution_count": 12,
   "metadata": {},
   "outputs": [],
   "source": [
    "# Merge all year's data with missing age information.\n",
    "\n",
    "data07_missingage = pd.read_csv('/ufrc/djlemas/xinsongdu/jupyter_notebook/data/hcup/nis/2007/total_missingage_2007.csv', dtype = str, quoting = csv.QUOTE_ALL)\n",
    "data07_missingage.rename(index = str, columns = {'PL_NCHS2006': 'PL_NCHS'}, inplace = True)\n",
    "data07_missingage.rename(index = str, columns = {'HOSP_CONTROL': 'H_CONTRL'}, inplace = True)\n",
    "data08_missingage = pd.read_csv('/ufrc/djlemas/xinsongdu/jupyter_notebook/data/hcup/nis/2008/total_missingage_2008.csv', dtype = str, quoting = csv.QUOTE_ALL)\n",
    "data08_missingage.rename(index = str, columns = {'PL_NCHS2006': 'PL_NCHS'}, inplace = True)\n",
    "data09_missingage = pd.read_csv('/ufrc/djlemas/xinsongdu/jupyter_notebook/data/hcup/nis/2009/total_missingage_2009.csv', dtype = str, quoting = csv.QUOTE_ALL)\n",
    "data09_missingage.rename(index = str, columns = {'PL_NCHS2006': 'PL_NCHS'}, inplace = True)\n",
    "data10_missingage = pd.read_csv('/ufrc/djlemas/xinsongdu/jupyter_notebook/data/hcup/nis/2010/total_missingage_2010.csv', dtype = str, quoting = csv.QUOTE_ALL)\n",
    "data10_missingage.rename(index = str, columns = {'PL_NCHS2006': 'PL_NCHS'}, inplace = True)\n",
    "data11_missingage = pd.read_csv('/ufrc/djlemas/xinsongdu/jupyter_notebook/data/hcup/nis/2011/total_missingage_2011.csv', dtype = str, quoting = csv.QUOTE_ALL)\n",
    "data11_missingage.rename(index = str, columns = {'PL_NCHS2006': 'PL_NCHS'}, inplace = True)\n",
    "data12_missingage = pd.read_csv('/ufrc/djlemas/xinsongdu/jupyter_notebook/data/hcup/nis/2012/total_missingage_2012.csv', dtype = str, quoting = csv.QUOTE_ALL)\n",
    "data12_missingage.rename(index = str, columns = {'PL_NCHS2006': 'PL_NCHS'}, inplace = True)\n",
    "data13_missingage = pd.read_csv('/ufrc/djlemas/xinsongdu/jupyter_notebook/data/hcup/nis/2013/total_missingage_2013.csv', dtype = str, quoting = csv.QUOTE_ALL)\n",
    "data14_missingage = pd.read_csv('/ufrc/djlemas/xinsongdu/jupyter_notebook/data/hcup/nis/NIS2014/total_missingage_2014.csv', dtype = str, quoting = csv.QUOTE_ALL)\n",
    "data15_missingage = pd.read_csv('/ufrc/djlemas/xinsongdu/jupyter_notebook/data/hcup/nis/NIS_2015/total_missingage_2015.csv', dtype = str, quoting = csv.QUOTE_ALL)"
   ]
  },
  {
   "cell_type": "code",
   "execution_count": null,
   "metadata": {},
   "outputs": [],
   "source": [
    "# Merge all year's adult FN samples with missing died information.\n",
    "\n",
    "data07_missingdied = pd.read_csv('/ufrc/djlemas/xinsongdu/jupyter_notebook/data/hcup/nis/2007/fn_adult_missingdied_2007.csv', dtype = str, quoting = csv.QUOTE_ALL)\n",
    "data07_missingdied.rename(index = str, columns = {'PL_NCHS2006': 'PL_NCHS'}, inplace = True)\n",
    "data07_missingdied.rename(index = str, columns = {'HOSP_CONTROL': 'H_CONTRL'}, inplace = True)\n",
    "data08_missingdied = pd.read_csv('/ufrc/djlemas/xinsongdu/jupyter_notebook/data/hcup/nis/2008/fn_adult_missingdied_2008.csv', dtype = str, quoting = csv.QUOTE_ALL)\n",
    "data08_missingdied.rename(index = str, columns = {'PL_NCHS2006': 'PL_NCHS'}, inplace = True)\n",
    "data09_missingdied = pd.read_csv('/ufrc/djlemas/xinsongdu/jupyter_notebook/data/hcup/nis/2009/fn_adult_missingdied_2009.csv', dtype = str, quoting = csv.QUOTE_ALL)\n",
    "data09_missingdied.rename(index = str, columns = {'PL_NCHS2006': 'PL_NCHS'}, inplace = True)\n",
    "data10_missingdied = pd.read_csv('/ufrc/djlemas/xinsongdu/jupyter_notebook/data/hcup/nis/2010/fn_adult_missingdied_2010.csv', dtype = str, quoting = csv.QUOTE_ALL)\n",
    "data10_missingdied.rename(index = str, columns = {'PL_NCHS2006': 'PL_NCHS'}, inplace = True)\n",
    "data11_missingdied = pd.read_csv('/ufrc/djlemas/xinsongdu/jupyter_notebook/data/hcup/nis/2011/fn_adult_missingdied_2011.csv', dtype = str, quoting = csv.QUOTE_ALL)\n",
    "data11_missingdied.rename(index = str, columns = {'PL_NCHS2006': 'PL_NCHS'}, inplace = True)\n",
    "data12_missingdied = pd.read_csv('/ufrc/djlemas/xinsongdu/jupyter_notebook/data/hcup/nis/2012/fn_adult_missingdied_2012.csv', dtype = str, quoting = csv.QUOTE_ALL)\n",
    "data12_missingdied.rename(index = str, columns = {'PL_NCHS2006': 'PL_NCHS'}, inplace = True)\n",
    "data13_missingdied = pd.read_csv('/ufrc/djlemas/xinsongdu/jupyter_notebook/data/hcup/nis/2013/fn_adult_missingdied_2013.csv', dtype = str, quoting = csv.QUOTE_ALL)\n",
    "data14_missingdied = pd.read_csv('/ufrc/djlemas/xinsongdu/jupyter_notebook/data/hcup/nis/NIS2014/fn_adult_missingdied_2014.csv', dtype = str, quoting = csv.QUOTE_ALL)\n",
    "data15_missingdied = pd.read_csv('/ufrc/djlemas/xinsongdu/jupyter_notebook/data/hcup/nis/NIS_2015/fn_adult_missingdied_2015.csv', dtype = str, quoting = csv.QUOTE_ALL)"
   ]
  },
  {
   "cell_type": "code",
   "execution_count": 4,
   "metadata": {},
   "outputs": [],
   "source": [
    "# Drop 2015 fourth quarter samples\n",
    "\n",
    "data15.dropna(subset = ['CM_LYMPH', 'CM_LIVER', 'CM_PARA', 'CM_RENLFAIL', 'CM_AIDS', 'CM_ALCOHOL', 'CM_ANEMDEF',\n",
    "            'CM_ARTH', 'CM_BLDLOSS', 'CM_CHF', 'CM_CHRNLUNG', 'CM_COAG', 'CM_DEPRESS', 'CM_DM', 'CM_DMCX', 'CM_DRUG',\n",
    "            'CM_HTN_C', 'CM_HYPOTHY', 'CM_LYTES', 'CM_METS', 'CM_OBESE', 'CM_NEURO', 'CM_PERIVASC', 'CM_PSYCH',\n",
    "            'CM_PULMCIRC', 'CM_ULCER', 'CM_VALVE', 'CM_WGHTLOSS', 'CM_TUMOR', 'APRDRG', 'APRDRG_Severity', 'APRDRG_Risk_Mortality'], \n",
    "               how = 'all', inplace = True)\n",
    "data15_missingage.dropna(subset = ['CM_LYMPH', 'CM_LIVER', 'CM_PARA', 'CM_RENLFAIL', 'CM_AIDS', 'CM_ALCOHOL', 'CM_ANEMDEF',\n",
    "            'CM_ARTH', 'CM_BLDLOSS', 'CM_CHF', 'CM_CHRNLUNG', 'CM_COAG', 'CM_DEPRESS', 'CM_DM', 'CM_DMCX', 'CM_DRUG',\n",
    "            'CM_HTN_C', 'CM_HYPOTHY', 'CM_LYTES', 'CM_METS', 'CM_OBESE', 'CM_NEURO', 'CM_PERIVASC', 'CM_PSYCH',\n",
    "            'CM_PULMCIRC', 'CM_ULCER', 'CM_VALVE', 'CM_WGHTLOSS', 'CM_TUMOR', 'APRDRG', 'APRDRG_Severity', 'APRDRG_Risk_Mortality'], \n",
    "               how = 'all', inplace = True)\n",
    "data15_missingdied.dropna(subset = ['CM_LYMPH', 'CM_LIVER', 'CM_PARA', 'CM_RENLFAIL', 'CM_AIDS', 'CM_ALCOHOL', 'CM_ANEMDEF',\n",
    "            'CM_ARTH', 'CM_BLDLOSS', 'CM_CHF', 'CM_CHRNLUNG', 'CM_COAG', 'CM_DEPRESS', 'CM_DM', 'CM_DMCX', 'CM_DRUG',\n",
    "            'CM_HTN_C', 'CM_HYPOTHY', 'CM_LYTES', 'CM_METS', 'CM_OBESE', 'CM_NEURO', 'CM_PERIVASC', 'CM_PSYCH',\n",
    "            'CM_PULMCIRC', 'CM_ULCER', 'CM_VALVE', 'CM_WGHTLOSS', 'CM_TUMOR', 'APRDRG', 'APRDRG_Severity', 'APRDRG_Risk_Mortality'], \n",
    "               how = 'all', inplace = True)"
   ]
  },
  {
   "cell_type": "code",
   "execution_count": 13,
   "metadata": {},
   "outputs": [
    {
     "name": "stderr",
     "output_type": "stream",
     "text": [
      "/apps/python3/3.6.5/lib/python3.6/site-packages/pandas/core/frame.py:6211: FutureWarning: Sorting because non-concatenation axis is not aligned. A future version\n",
      "of pandas will change to not sort by default.\n",
      "\n",
      "To accept the future behavior, pass 'sort=False'.\n",
      "\n",
      "To retain the current behavior and silence the warning, pass 'sort=True'.\n",
      "\n",
      "  sort=sort)\n"
     ]
    }
   ],
   "source": [
    "data = data07.append(data08).append(data09).append(data10).append(data11).append(data12).append(data13).append(data14).append(data15)\n",
    "data_missingage = data07_missingage.append(data08_missingage).append(data09_missingage).append(data10_missingage).append(data11_missingage).append(data12_missingage).append(data13_missingage).append(data14_missingage).append(data15_missingage)\n",
    "data_missingdied = data07_missingdied.append(data08_missingdied).append(data09_missingdied).append(data10_missingdied).append(data11_missingdied).append(data12_missingdied).append(data13_missingdied).append(data14_missingdied).append(data15_missingdied)"
   ]
  },
  {
   "cell_type": "code",
   "execution_count": 15,
   "metadata": {},
   "outputs": [],
   "source": [
    "path_merged = '/ufrc/djlemas/xinsongdu/jupyter_notebook/data/hcup/nis/all_year_combination/train_test.csv'\n",
    "path_merged_missingage = '/ufrc/djlemas/xinsongdu/jupyter_notebook/data/hcup/nis/all_year_combination/total_missingage.csv'\n",
    "path_merged_missingdied = '/ufrc/djlemas/xinsongdu/jupyter_notebook/data/hcup/nis/all_year_combination/total_missingdied.csv'"
   ]
  },
  {
   "cell_type": "code",
   "execution_count": 16,
   "metadata": {},
   "outputs": [],
   "source": [
    "data.to_csv(path_merged, index = False, quoting = csv.QUOTE_ALL)\n",
    "data_missingage.to_csv(path_merged_missingage, index = False, quoting = csv.QUOTE_ALL)\n",
    "data_missingdied.to_csv(path_merged_missingdied, index = False, quoting = csv.QUOTE_ALL)"
   ]
  }
 ],
 "metadata": {
  "kernelspec": {
   "display_name": "Python 3",
   "language": "python",
   "name": "python3"
  },
  "language_info": {
   "codemirror_mode": {
    "name": "ipython",
    "version": 3
   },
   "file_extension": ".py",
   "mimetype": "text/x-python",
   "name": "python",
   "nbconvert_exporter": "python",
   "pygments_lexer": "ipython3",
   "version": "3.6.8"
  }
 },
 "nbformat": 4,
 "nbformat_minor": 2
}
