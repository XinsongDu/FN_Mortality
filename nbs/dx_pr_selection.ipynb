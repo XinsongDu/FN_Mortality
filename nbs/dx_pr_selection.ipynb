{
 "cells": [
  {
   "cell_type": "code",
   "execution_count": 1,
   "metadata": {},
   "outputs": [],
   "source": [
    "import pickle\n",
    "import pandas as pd\n",
    "import numpy as np\n",
    "import csv\n",
    "from sklearn import svm\n",
    "from sklearn.ensemble import RandomForestClassifier, GradientBoostingClassifier\n",
    "from sklearn.svm import LinearSVC\n",
    "from sklearn.linear_model import LogisticRegression, SGDClassifier\n",
    "from sklearn.model_selection import train_test_split, StratifiedKFold, cross_validate, KFold, GridSearchCV\n",
    "from sklearn.feature_selection import VarianceThreshold\n",
    "from sklearn import preprocessing\n",
    "pd.set_option('display.max_columns', 5000)"
   ]
  },
  {
   "cell_type": "markdown",
   "metadata": {},
   "source": [
    "## Random forests for diagnose/procedure coding system evaluation"
   ]
  },
  {
   "cell_type": "code",
   "execution_count": 2,
   "metadata": {},
   "outputs": [],
   "source": [
    "eva = 'roc_auc'"
   ]
  },
  {
   "cell_type": "code",
   "execution_count": 3,
   "metadata": {},
   "outputs": [],
   "source": [
    "param_grid = {\"n_estimators\": [500],\n",
    "                    \"max_features\": [\"sqrt\", \"log2\"]}"
   ]
  },
  {
   "cell_type": "code",
   "execution_count": 4,
   "metadata": {},
   "outputs": [],
   "source": [
    "gs_rf = GridSearchCV(RandomForestClassifier(), param_grid, cv=3,\n",
    "                       scoring=eva)"
   ]
  },
  {
   "cell_type": "code",
   "execution_count": 5,
   "metadata": {},
   "outputs": [],
   "source": [
    "rf_clf = RandomForestClassifier(n_estimators = 10)"
   ]
  },
  {
   "cell_type": "markdown",
   "metadata": {},
   "source": [
    "#### Decide the best number of variables"
   ]
  },
  {
   "cell_type": "code",
   "execution_count": 6,
   "metadata": {},
   "outputs": [],
   "source": [
    "n_variables = [10, 20, 40, 80, 160, 320, 640, 1000, 1500, 2000, 2500, 3000, 3500, 4000, 4500, 5000, 5500, 6000]"
   ]
  },
  {
   "cell_type": "code",
   "execution_count": 7,
   "metadata": {},
   "outputs": [],
   "source": [
    "def n_variable_selection(var_name, n_variables):\n",
    "    best_score = 0\n",
    "    best_n = 0\n",
    "    path = '../../../data/hcup/nis/all_year_combination/' + var_name.lower() + '.pickle'\n",
    "    data = pd.read_pickle(path)\n",
    "    X = data.filter(regex = var_name).values\n",
    "    y = data.DIED.values\n",
    "    names = data.filter(regex = var_name).columns.tolist()\n",
    "    rf_clf.fit(X,y)\n",
    "    d = {'names': names, 'importance': rf_clf.feature_importances_}\n",
    "    df = pd.DataFrame(data = d).sort_values(by = ['importance'], ascending = False)\n",
    "    for n in n_variables:\n",
    "        if n <= len(names):\n",
    "            print(n)\n",
    "            selected_names = df.iloc[0:n].names.tolist()\n",
    "            x = data[selected_names].values\n",
    "            new_score = np.mean(cross_validate(rf_clf, x, y, cv = 3, return_train_score=False, scoring = eva)['test_score'])\n",
    "            print('score: %.6f, best score: %.6f' %(new_score, best_score))\n",
    "            if new_score > best_score:\n",
    "                best_n = n\n",
    "                best_score = new_score\n",
    "                with open('../tests/feature_selection/' + var_name.lower() + '.pkl', 'wb') as f:\n",
    "                    pickle.dump(selected_names, f)\n",
    "    return best_score, best_n"
   ]
  },
  {
   "cell_type": "code",
   "execution_count": 8,
   "metadata": {},
   "outputs": [
    {
     "name": "stdout",
     "output_type": "stream",
     "text": [
      "10\n",
      "score: 0.851278, best score: 0.000000\n",
      "20\n",
      "score: 0.770032, best score: 0.851278\n",
      "40\n",
      "score: 0.796432, best score: 0.851278\n",
      "80\n",
      "score: 0.823613, best score: 0.851278\n",
      "160\n",
      "score: 0.832228, best score: 0.851278\n",
      "320\n",
      "score: 0.835947, best score: 0.851278\n",
      "640\n",
      "score: 0.834768, best score: 0.851278\n",
      "1000\n",
      "score: 0.837324, best score: 0.851278\n",
      "1500\n",
      "score: 0.830878, best score: 0.851278\n",
      "2000\n",
      "score: 0.830664, best score: 0.851278\n",
      "2500\n",
      "score: 0.830730, best score: 0.851278\n",
      "3000\n",
      "score: 0.832669, best score: 0.851278\n",
      "3500\n",
      "score: 0.831255, best score: 0.851278\n",
      "4000\n",
      "score: 0.833486, best score: 0.851278\n",
      "4500\n",
      "score: 0.834037, best score: 0.851278\n",
      "5000\n",
      "score: 0.832470, best score: 0.851278\n",
      "5500\n",
      "score: 0.832773, best score: 0.851278\n",
      "6000\n",
      "score: 0.836116, best score: 0.851278\n"
     ]
    },
    {
     "data": {
      "text/plain": [
       "(0.8512779988655526, 10)"
      ]
     },
     "execution_count": 8,
     "metadata": {},
     "output_type": "execute_result"
    }
   ],
   "source": [
    "n_variable_selection('DX', n_variables)"
   ]
  },
  {
   "cell_type": "code",
   "execution_count": 18,
   "metadata": {},
   "outputs": [
    {
     "name": "stdout",
     "output_type": "stream",
     "text": [
      "10\n",
      "score: 0.873568, best score: 0.000000\n",
      "20\n",
      "score: 0.784707, best score: 0.873568\n",
      "40\n",
      "score: 0.829978, best score: 0.873568\n",
      "80\n",
      "score: 0.836891, best score: 0.873568\n",
      "160\n",
      "score: 0.831999, best score: 0.873568\n"
     ]
    },
    {
     "data": {
      "text/plain": [
       "(0.873567513771076, 10)"
      ]
     },
     "execution_count": 18,
     "metadata": {},
     "output_type": "execute_result"
    }
   ],
   "source": [
    "n_variable_selection('DXCCS', n_variables)"
   ]
  },
  {
   "cell_type": "code",
   "execution_count": 19,
   "metadata": {},
   "outputs": [
    {
     "name": "stdout",
     "output_type": "stream",
     "text": [
      "10\n",
      "score: 0.762840, best score: 0.000000\n",
      "20\n",
      "score: 0.784034, best score: 0.762840\n",
      "40\n",
      "score: 0.807873, best score: 0.784034\n",
      "80\n",
      "score: 0.852703, best score: 0.807873\n",
      "160\n",
      "score: 0.852563, best score: 0.852703\n",
      "320\n",
      "score: 0.852009, best score: 0.852703\n",
      "640\n",
      "score: 0.818913, best score: 0.852703\n",
      "1000\n",
      "score: 0.818894, best score: 0.852703\n",
      "1500\n",
      "score: 0.818825, best score: 0.852703\n"
     ]
    },
    {
     "data": {
      "text/plain": [
       "(0.852703272752111, 80)"
      ]
     },
     "execution_count": 19,
     "metadata": {},
     "output_type": "execute_result"
    }
   ],
   "source": [
    "n_variable_selection('APRDRG', n_variables)"
   ]
  },
  {
   "cell_type": "code",
   "execution_count": 20,
   "metadata": {},
   "outputs": [
    {
     "name": "stdout",
     "output_type": "stream",
     "text": [
      "10\n",
      "score: 0.729857, best score: 0.000000\n",
      "20\n",
      "score: 0.754265, best score: 0.729857\n",
      "40\n",
      "score: 0.781972, best score: 0.754265\n",
      "80\n",
      "score: 0.791635, best score: 0.781972\n",
      "160\n",
      "score: 0.793962, best score: 0.791635\n",
      "320\n",
      "score: 0.761699, best score: 0.793962\n",
      "640\n",
      "score: 0.761213, best score: 0.793962\n"
     ]
    },
    {
     "data": {
      "text/plain": [
       "(0.7939620655138034, 160)"
      ]
     },
     "execution_count": 20,
     "metadata": {},
     "output_type": "execute_result"
    }
   ],
   "source": [
    "n_variable_selection('DRG', n_variables)"
   ]
  },
  {
   "cell_type": "code",
   "execution_count": 21,
   "metadata": {},
   "outputs": [
    {
     "name": "stdout",
     "output_type": "stream",
     "text": [
      "10\n",
      "score: 0.693621, best score: 0.000000\n",
      "20\n",
      "score: 0.692855, best score: 0.693621\n"
     ]
    },
    {
     "data": {
      "text/plain": [
       "(0.6936205137806063, 10)"
      ]
     },
     "execution_count": 21,
     "metadata": {},
     "output_type": "execute_result"
    }
   ],
   "source": [
    "n_variable_selection('MDC', n_variables)"
   ]
  },
  {
   "cell_type": "code",
   "execution_count": 22,
   "metadata": {},
   "outputs": [
    {
     "name": "stdout",
     "output_type": "stream",
     "text": [
      "10\n",
      "score: 0.768206, best score: 0.000000\n",
      "20\n",
      "score: 0.763855, best score: 0.768206\n",
      "40\n",
      "score: 0.766910, best score: 0.768206\n",
      "80\n",
      "score: 0.761691, best score: 0.768206\n",
      "160\n",
      "score: 0.763485, best score: 0.768206\n",
      "320\n",
      "score: 0.765924, best score: 0.768206\n",
      "640\n",
      "score: 0.766651, best score: 0.768206\n",
      "1000\n",
      "score: 0.764226, best score: 0.768206\n",
      "1500\n",
      "score: 0.762697, best score: 0.768206\n"
     ]
    },
    {
     "data": {
      "text/plain": [
       "(0.7682055760681994, 10)"
      ]
     },
     "execution_count": 22,
     "metadata": {},
     "output_type": "execute_result"
    }
   ],
   "source": [
    "n_variable_selection('PR', n_variables)"
   ]
  },
  {
   "cell_type": "code",
   "execution_count": 23,
   "metadata": {},
   "outputs": [
    {
     "name": "stdout",
     "output_type": "stream",
     "text": [
      "10\n",
      "score: 0.765511, best score: 0.000000\n",
      "20\n",
      "score: 0.768102, best score: 0.765511\n",
      "40\n",
      "score: 0.757898, best score: 0.768102\n",
      "80\n",
      "score: 0.757135, best score: 0.768102\n",
      "160\n",
      "score: 0.759164, best score: 0.768102\n"
     ]
    },
    {
     "data": {
      "text/plain": [
       "(0.7681018135522689, 20)"
      ]
     },
     "execution_count": 23,
     "metadata": {},
     "output_type": "execute_result"
    }
   ],
   "source": [
    "n_variable_selection('PRCCS', n_variables)"
   ]
  },
  {
   "cell_type": "code",
   "execution_count": 24,
   "metadata": {},
   "outputs": [],
   "source": [
    "def para_tune_dxpx(var_name):\n",
    "    path = '../../../data/hcup/nis/all_year_combination/' + var_name.lower() + '.pickle'\n",
    "    data = pd.read_pickle(path)\n",
    "    with open('../tests/feature_selection/' + var_name.lower() + '.pkl', 'rb') as f:\n",
    "        names = pickle.load(f)\n",
    "    X = data[names]\n",
    "    y = data.DIED.values\n",
    "    print(X.shape)\n",
    "    print('parameter tuning...')\n",
    "    gs_rf.fit(X,y)\n",
    "    print(gs_rf.best_params_)"
   ]
  },
  {
   "cell_type": "code",
   "execution_count": 25,
   "metadata": {},
   "outputs": [
    {
     "name": "stdout",
     "output_type": "stream",
     "text": [
      "(138932, 10)\n",
      "parameter tuning...\n",
      "{'max_features': 'log2', 'n_estimators': 500}\n"
     ]
    }
   ],
   "source": [
    "para_tune_dxpx('DX')"
   ]
  },
  {
   "cell_type": "code",
   "execution_count": 26,
   "metadata": {},
   "outputs": [
    {
     "name": "stdout",
     "output_type": "stream",
     "text": [
      "(138932, 10)\n",
      "parameter tuning...\n",
      "{'max_features': 'sqrt', 'n_estimators': 500}\n"
     ]
    }
   ],
   "source": [
    "para_tune_dxpx('DXCCS')"
   ]
  },
  {
   "cell_type": "code",
   "execution_count": 27,
   "metadata": {},
   "outputs": [
    {
     "name": "stdout",
     "output_type": "stream",
     "text": [
      "(138932, 160)\n",
      "parameter tuning...\n",
      "{'max_features': 'sqrt', 'n_estimators': 500}\n"
     ]
    }
   ],
   "source": [
    "para_tune_dxpx('DRG')"
   ]
  },
  {
   "cell_type": "code",
   "execution_count": 28,
   "metadata": {},
   "outputs": [
    {
     "name": "stdout",
     "output_type": "stream",
     "text": [
      "(138932, 80)\n",
      "parameter tuning...\n",
      "{'max_features': 'sqrt', 'n_estimators': 500}\n"
     ]
    }
   ],
   "source": [
    "para_tune_dxpx('APRDRG')"
   ]
  },
  {
   "cell_type": "code",
   "execution_count": 29,
   "metadata": {},
   "outputs": [
    {
     "name": "stdout",
     "output_type": "stream",
     "text": [
      "(138932, 10)\n",
      "parameter tuning...\n",
      "{'max_features': 'log2', 'n_estimators': 500}\n"
     ]
    }
   ],
   "source": [
    "para_tune_dxpx('MDC')"
   ]
  },
  {
   "cell_type": "code",
   "execution_count": 30,
   "metadata": {},
   "outputs": [
    {
     "name": "stdout",
     "output_type": "stream",
     "text": [
      "(138932, 10)\n",
      "parameter tuning...\n",
      "{'max_features': 'sqrt', 'n_estimators': 500}\n"
     ]
    }
   ],
   "source": [
    "para_tune_dxpx('PR')"
   ]
  },
  {
   "cell_type": "code",
   "execution_count": 31,
   "metadata": {},
   "outputs": [
    {
     "name": "stdout",
     "output_type": "stream",
     "text": [
      "(138932, 20)\n",
      "parameter tuning...\n",
      "{'max_features': 'log2', 'n_estimators': 500}\n"
     ]
    }
   ],
   "source": [
    "para_tune_dxpx('PRCCS')"
   ]
  },
  {
   "cell_type": "code",
   "execution_count": 32,
   "metadata": {},
   "outputs": [
    {
     "name": "stdout",
     "output_type": "stream",
     "text": [
      "(138932, 4)\n",
      "parameter tuning...\n",
      "{'max_features': 'sqrt', 'n_estimators': 500}\n"
     ]
    }
   ],
   "source": [
    "para_tune_dxpx('PCLASS')"
   ]
  },
  {
   "cell_type": "code",
   "execution_count": null,
   "metadata": {},
   "outputs": [],
   "source": []
  }
 ],
 "metadata": {
  "kernelspec": {
   "display_name": "Python 3",
   "language": "python",
   "name": "python3"
  },
  "language_info": {
   "codemirror_mode": {
    "name": "ipython",
    "version": 3
   },
   "file_extension": ".py",
   "mimetype": "text/x-python",
   "name": "python",
   "nbconvert_exporter": "python",
   "pygments_lexer": "ipython3",
   "version": "3.6.5"
  }
 },
 "nbformat": 4,
 "nbformat_minor": 2
}
