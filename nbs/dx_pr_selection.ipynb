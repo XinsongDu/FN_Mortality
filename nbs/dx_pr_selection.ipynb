{
 "cells": [
  {
   "cell_type": "code",
   "execution_count": 1,
   "metadata": {},
   "outputs": [],
   "source": [
    "import pickle\n",
    "import pandas as pd\n",
    "import numpy as np\n",
    "import csv\n",
    "from sklearn import svm\n",
    "from sklearn.ensemble import RandomForestClassifier, GradientBoostingClassifier\n",
    "from sklearn.svm import LinearSVC\n",
    "from sklearn.linear_model import LogisticRegression, SGDClassifier\n",
    "from sklearn.model_selection import train_test_split, StratifiedKFold, cross_validate, KFold, GridSearchCV\n",
    "from sklearn.feature_selection import VarianceThreshold\n",
    "from sklearn import preprocessing\n",
    "pd.set_option('display.max_columns', 5000)"
   ]
  },
  {
   "cell_type": "markdown",
   "metadata": {},
   "source": [
    "## Random forests for diagnose/procedure coding system evaluation"
   ]
  },
  {
   "cell_type": "code",
   "execution_count": 2,
   "metadata": {},
   "outputs": [],
   "source": [
    "eva = 'roc_auc'"
   ]
  },
  {
   "cell_type": "code",
   "execution_count": 5,
   "metadata": {},
   "outputs": [],
   "source": [
    "rf_clf = RandomForestClassifier(n_estimators = 10)"
   ]
  },
  {
   "cell_type": "markdown",
   "metadata": {},
   "source": [
    "#### Decide the best number of variables"
   ]
  },
  {
   "cell_type": "code",
   "execution_count": 6,
   "metadata": {},
   "outputs": [],
   "source": [
    "n_variables = [10, 20, 40, 80, 160, 320, 640, 1000, 1500, 2000, 2500, 3000, 3500, 4000, 4500, 5000, 5500, 6000]"
   ]
  },
  {
   "cell_type": "code",
   "execution_count": 7,
   "metadata": {},
   "outputs": [],
   "source": [
    "def n_variable_selection(var_name, n_variables):\n",
    "    best_score = 0\n",
    "    best_n = 0\n",
    "    path = '../../../data/hcup/nis/all_year_combination/' + var_name.lower() + '.pickle'\n",
    "    data = pd.read_pickle(path)\n",
    "    X = data.filter(regex = var_name).values\n",
    "    y = data.DIED.values\n",
    "    names = data.filter(regex = var_name).columns.tolist()\n",
    "    rf_clf.fit(X,y)\n",
    "    d = {'names': names, 'importance': rf_clf.feature_importances_}\n",
    "    df = pd.DataFrame(data = d).sort_values(by = ['importance'], ascending = False)\n",
    "    for n in n_variables:\n",
    "        if n <= len(names):\n",
    "            print(n)\n",
    "            selected_names = df.iloc[0:n].names.tolist()\n",
    "            x = data[selected_names].values\n",
    "            new_score = np.mean(cross_validate(rf_clf, x, y, cv = 3, return_train_score=False, scoring = eva)['test_score'])\n",
    "            print('score: %.6f, best score: %.6f' %(new_score, best_score))\n",
    "            if new_score > best_score:\n",
    "                best_n = n\n",
    "                best_score = new_score\n",
    "                with open('../tests/feature_selection/' + var_name.lower() + '.pkl', 'wb') as f:\n",
    "                    pickle.dump(selected_names, f)\n",
    "    return best_score, best_n"
   ]
  },
  {
   "cell_type": "code",
   "execution_count": 8,
   "metadata": {},
   "outputs": [
    {
     "name": "stdout",
     "output_type": "stream",
     "text": [
      "10\n",
      "score: 0.851278, best score: 0.000000\n",
      "20\n",
      "score: 0.770032, best score: 0.851278\n",
      "40\n",
      "score: 0.796432, best score: 0.851278\n",
      "80\n",
      "score: 0.823613, best score: 0.851278\n",
      "160\n",
      "score: 0.832228, best score: 0.851278\n",
      "320\n",
      "score: 0.835947, best score: 0.851278\n",
      "640\n",
      "score: 0.834768, best score: 0.851278\n",
      "1000\n",
      "score: 0.837324, best score: 0.851278\n",
      "1500\n",
      "score: 0.830878, best score: 0.851278\n",
      "2000\n",
      "score: 0.830664, best score: 0.851278\n",
      "2500\n",
      "score: 0.830730, best score: 0.851278\n",
      "3000\n",
      "score: 0.832669, best score: 0.851278\n",
      "3500\n",
      "score: 0.831255, best score: 0.851278\n",
      "4000\n",
      "score: 0.833486, best score: 0.851278\n",
      "4500\n",
      "score: 0.834037, best score: 0.851278\n",
      "5000\n",
      "score: 0.832470, best score: 0.851278\n",
      "5500\n",
      "score: 0.832773, best score: 0.851278\n",
      "6000\n",
      "score: 0.836116, best score: 0.851278\n"
     ]
    },
    {
     "data": {
      "text/plain": [
       "(0.8512779988655526, 10)"
      ]
     },
     "execution_count": 8,
     "metadata": {},
     "output_type": "execute_result"
    }
   ],
   "source": [
    "n_variable_selection('DX', n_variables)"
   ]
  },
  {
   "cell_type": "code",
   "execution_count": 18,
   "metadata": {},
   "outputs": [
    {
     "name": "stdout",
     "output_type": "stream",
     "text": [
      "10\n",
      "score: 0.873568, best score: 0.000000\n",
      "20\n",
      "score: 0.784707, best score: 0.873568\n",
      "40\n",
      "score: 0.829978, best score: 0.873568\n",
      "80\n",
      "score: 0.836891, best score: 0.873568\n",
      "160\n",
      "score: 0.831999, best score: 0.873568\n"
     ]
    },
    {
     "data": {
      "text/plain": [
       "(0.873567513771076, 10)"
      ]
     },
     "execution_count": 18,
     "metadata": {},
     "output_type": "execute_result"
    }
   ],
   "source": [
    "n_variable_selection('DXCCS', n_variables)"
   ]
  },
  {
   "cell_type": "code",
   "execution_count": 19,
   "metadata": {},
   "outputs": [
    {
     "name": "stdout",
     "output_type": "stream",
     "text": [
      "10\n",
      "score: 0.762840, best score: 0.000000\n",
      "20\n",
      "score: 0.784034, best score: 0.762840\n",
      "40\n",
      "score: 0.807873, best score: 0.784034\n",
      "80\n",
      "score: 0.852703, best score: 0.807873\n",
      "160\n",
      "score: 0.852563, best score: 0.852703\n",
      "320\n",
      "score: 0.852009, best score: 0.852703\n",
      "640\n",
      "score: 0.818913, best score: 0.852703\n",
      "1000\n",
      "score: 0.818894, best score: 0.852703\n",
      "1500\n",
      "score: 0.818825, best score: 0.852703\n"
     ]
    },
    {
     "data": {
      "text/plain": [
       "(0.852703272752111, 80)"
      ]
     },
     "execution_count": 19,
     "metadata": {},
     "output_type": "execute_result"
    }
   ],
   "source": [
    "n_variable_selection('APRDRG', n_variables)"
   ]
  },
  {
   "cell_type": "code",
   "execution_count": 20,
   "metadata": {},
   "outputs": [
    {
     "name": "stdout",
     "output_type": "stream",
     "text": [
      "10\n",
      "score: 0.729857, best score: 0.000000\n",
      "20\n",
      "score: 0.754265, best score: 0.729857\n",
      "40\n",
      "score: 0.781972, best score: 0.754265\n",
      "80\n",
      "score: 0.791635, best score: 0.781972\n",
      "160\n",
      "score: 0.793962, best score: 0.791635\n",
      "320\n",
      "score: 0.761699, best score: 0.793962\n",
      "640\n",
      "score: 0.761213, best score: 0.793962\n"
     ]
    },
    {
     "data": {
      "text/plain": [
       "(0.7939620655138034, 160)"
      ]
     },
     "execution_count": 20,
     "metadata": {},
     "output_type": "execute_result"
    }
   ],
   "source": [
    "n_variable_selection('DRG', n_variables)"
   ]
  },
  {
   "cell_type": "code",
   "execution_count": 21,
   "metadata": {},
   "outputs": [
    {
     "name": "stdout",
     "output_type": "stream",
     "text": [
      "10\n",
      "score: 0.693621, best score: 0.000000\n",
      "20\n",
      "score: 0.692855, best score: 0.693621\n"
     ]
    },
    {
     "data": {
      "text/plain": [
       "(0.6936205137806063, 10)"
      ]
     },
     "execution_count": 21,
     "metadata": {},
     "output_type": "execute_result"
    }
   ],
   "source": [
    "n_variable_selection('MDC', n_variables)"
   ]
  },
  {
   "cell_type": "code",
   "execution_count": 22,
   "metadata": {},
   "outputs": [
    {
     "name": "stdout",
     "output_type": "stream",
     "text": [
      "10\n",
      "score: 0.768206, best score: 0.000000\n",
      "20\n",
      "score: 0.763855, best score: 0.768206\n",
      "40\n",
      "score: 0.766910, best score: 0.768206\n",
      "80\n",
      "score: 0.761691, best score: 0.768206\n",
      "160\n",
      "score: 0.763485, best score: 0.768206\n",
      "320\n",
      "score: 0.765924, best score: 0.768206\n",
      "640\n",
      "score: 0.766651, best score: 0.768206\n",
      "1000\n",
      "score: 0.764226, best score: 0.768206\n",
      "1500\n",
      "score: 0.762697, best score: 0.768206\n"
     ]
    },
    {
     "data": {
      "text/plain": [
       "(0.7682055760681994, 10)"
      ]
     },
     "execution_count": 22,
     "metadata": {},
     "output_type": "execute_result"
    }
   ],
   "source": [
    "n_variable_selection('PR', n_variables)"
   ]
  },
  {
   "cell_type": "code",
   "execution_count": 23,
   "metadata": {},
   "outputs": [
    {
     "name": "stdout",
     "output_type": "stream",
     "text": [
      "10\n",
      "score: 0.765511, best score: 0.000000\n",
      "20\n",
      "score: 0.768102, best score: 0.765511\n",
      "40\n",
      "score: 0.757898, best score: 0.768102\n",
      "80\n",
      "score: 0.757135, best score: 0.768102\n",
      "160\n",
      "score: 0.759164, best score: 0.768102\n"
     ]
    },
    {
     "data": {
      "text/plain": [
       "(0.7681018135522689, 20)"
      ]
     },
     "execution_count": 23,
     "metadata": {},
     "output_type": "execute_result"
    }
   ],
   "source": [
    "n_variable_selection('PRCCS', n_variables)"
   ]
  },
  {
   "cell_type": "code",
   "execution_count": 24,
   "metadata": {},
   "outputs": [],
   "source": [
    "def para_tune_dxpx(var_name):\n",
    "    path = '../../../data/hcup/nis/all_year_combination/' + var_name.lower() + '.pickle'\n",
    "    data = pd.read_pickle(path)\n",
    "    with open('../tests/feature_selection/' + var_name.lower() + '.pkl', 'rb') as f:\n",
    "        names = pickle.load(f)\n",
    "    X = data[names]\n",
    "    y = data.DIED.values\n",
    "    print(X.shape)\n",
    "    print('parameter tuning...')\n",
    "    gs_rf.fit(X,y)\n",
    "    print(gs_rf.best_params_)"
   ]
  },
  {
   "cell_type": "code",
   "execution_count": 25,
   "metadata": {},
   "outputs": [
    {
     "name": "stdout",
     "output_type": "stream",
     "text": [
      "(138932, 10)\n",
      "parameter tuning...\n",
      "{'max_features': 'log2', 'n_estimators': 500}\n"
     ]
    }
   ],
   "source": [
    "para_tune_dxpx('DX')"
   ]
  },
  {
   "cell_type": "code",
   "execution_count": 26,
   "metadata": {},
   "outputs": [
    {
     "name": "stdout",
     "output_type": "stream",
     "text": [
      "(138932, 10)\n",
      "parameter tuning...\n",
      "{'max_features': 'sqrt', 'n_estimators': 500}\n"
     ]
    }
   ],
   "source": [
    "para_tune_dxpx('DXCCS')"
   ]
  },
  {
   "cell_type": "code",
   "execution_count": 27,
   "metadata": {},
   "outputs": [
    {
     "name": "stdout",
     "output_type": "stream",
     "text": [
      "(138932, 160)\n",
      "parameter tuning...\n",
      "{'max_features': 'sqrt', 'n_estimators': 500}\n"
     ]
    }
   ],
   "source": [
    "para_tune_dxpx('DRG')"
   ]
  },
  {
   "cell_type": "code",
   "execution_count": 28,
   "metadata": {},
   "outputs": [
    {
     "name": "stdout",
     "output_type": "stream",
     "text": [
      "(138932, 80)\n",
      "parameter tuning...\n",
      "{'max_features': 'sqrt', 'n_estimators': 500}\n"
     ]
    }
   ],
   "source": [
    "para_tune_dxpx('APRDRG')"
   ]
  },
  {
   "cell_type": "code",
   "execution_count": 29,
   "metadata": {},
   "outputs": [
    {
     "name": "stdout",
     "output_type": "stream",
     "text": [
      "(138932, 10)\n",
      "parameter tuning...\n",
      "{'max_features': 'log2', 'n_estimators': 500}\n"
     ]
    }
   ],
   "source": [
    "para_tune_dxpx('MDC')"
   ]
  },
  {
   "cell_type": "code",
   "execution_count": 30,
   "metadata": {},
   "outputs": [
    {
     "name": "stdout",
     "output_type": "stream",
     "text": [
      "(138932, 10)\n",
      "parameter tuning...\n",
      "{'max_features': 'sqrt', 'n_estimators': 500}\n"
     ]
    }
   ],
   "source": [
    "para_tune_dxpx('PR')"
   ]
  },
  {
   "cell_type": "code",
   "execution_count": 31,
   "metadata": {},
   "outputs": [
    {
     "name": "stdout",
     "output_type": "stream",
     "text": [
      "(138932, 20)\n",
      "parameter tuning...\n",
      "{'max_features': 'log2', 'n_estimators': 500}\n"
     ]
    }
   ],
   "source": [
    "para_tune_dxpx('PRCCS')"
   ]
  },
  {
   "cell_type": "code",
   "execution_count": 32,
   "metadata": {},
   "outputs": [
    {
     "name": "stdout",
     "output_type": "stream",
     "text": [
      "(138932, 4)\n",
      "parameter tuning...\n",
      "{'max_features': 'sqrt', 'n_estimators': 500}\n"
     ]
    }
   ],
   "source": [
    "para_tune_dxpx('PCLASS')"
   ]
  },
  {
   "cell_type": "markdown",
   "metadata": {},
   "source": [
    "## Rank of Leukemia"
   ]
  },
  {
   "cell_type": "code",
   "execution_count": 12,
   "metadata": {},
   "outputs": [],
   "source": [
    "best_score = 0\n",
    "best_n = 0\n",
    "path = '../../../data/hcup/nis/all_year_combination/' + 'dxccs' + '.pickle'\n",
    "data = pd.read_pickle(path)\n",
    "X = data.filter(regex = 'DXCCS').values\n",
    "y = data.DIED.values\n",
    "names = data.filter(regex = 'DXCCS').columns.tolist()\n",
    "rf_clf.fit(X,y)\n",
    "d = {'names': names, 'importance': rf_clf.feature_importances_}\n",
    "df = pd.DataFrame(data = d).sort_values(by = ['importance'], ascending = False)"
   ]
  },
  {
   "cell_type": "code",
   "execution_count": 13,
   "metadata": {},
   "outputs": [],
   "source": [
    "df = df.reset_index(drop = True)"
   ]
  },
  {
   "cell_type": "code",
   "execution_count": 15,
   "metadata": {},
   "outputs": [
    {
     "data": {
      "text/html": [
       "<div>\n",
       "<style scoped>\n",
       "    .dataframe tbody tr th:only-of-type {\n",
       "        vertical-align: middle;\n",
       "    }\n",
       "\n",
       "    .dataframe tbody tr th {\n",
       "        vertical-align: top;\n",
       "    }\n",
       "\n",
       "    .dataframe thead th {\n",
       "        text-align: right;\n",
       "    }\n",
       "</style>\n",
       "<table border=\"1\" class=\"dataframe\">\n",
       "  <thead>\n",
       "    <tr style=\"text-align: right;\">\n",
       "      <th></th>\n",
       "      <th>names</th>\n",
       "      <th>importance</th>\n",
       "    </tr>\n",
       "  </thead>\n",
       "  <tbody>\n",
       "    <tr>\n",
       "      <th>0</th>\n",
       "      <td>DXCCS_131</td>\n",
       "      <td>1.001310e-01</td>\n",
       "    </tr>\n",
       "    <tr>\n",
       "      <th>1</th>\n",
       "      <td>DXCCS_249</td>\n",
       "      <td>5.779050e-02</td>\n",
       "    </tr>\n",
       "    <tr>\n",
       "      <th>2</th>\n",
       "      <td>DXCCS_107</td>\n",
       "      <td>3.424177e-02</td>\n",
       "    </tr>\n",
       "    <tr>\n",
       "      <th>3</th>\n",
       "      <td>DXCCS_157</td>\n",
       "      <td>2.364064e-02</td>\n",
       "    </tr>\n",
       "    <tr>\n",
       "      <th>4</th>\n",
       "      <td>DXCCS_2</td>\n",
       "      <td>1.996890e-02</td>\n",
       "    </tr>\n",
       "    <tr>\n",
       "      <th>5</th>\n",
       "      <td>DXCCS_122</td>\n",
       "      <td>1.783422e-02</td>\n",
       "    </tr>\n",
       "    <tr>\n",
       "      <th>6</th>\n",
       "      <td>DXCCS_244</td>\n",
       "      <td>1.735102e-02</td>\n",
       "    </tr>\n",
       "    <tr>\n",
       "      <th>7</th>\n",
       "      <td>DXCCS_257</td>\n",
       "      <td>1.629910e-02</td>\n",
       "    </tr>\n",
       "    <tr>\n",
       "      <th>8</th>\n",
       "      <td>DXCCS_259</td>\n",
       "      <td>1.541131e-02</td>\n",
       "    </tr>\n",
       "    <tr>\n",
       "      <th>9</th>\n",
       "      <td>DXCCS_59</td>\n",
       "      <td>1.435461e-02</td>\n",
       "    </tr>\n",
       "    <tr>\n",
       "      <th>10</th>\n",
       "      <td>DXCCS_98</td>\n",
       "      <td>1.413377e-02</td>\n",
       "    </tr>\n",
       "    <tr>\n",
       "      <th>11</th>\n",
       "      <td>DXCCS_55</td>\n",
       "      <td>1.365543e-02</td>\n",
       "    </tr>\n",
       "    <tr>\n",
       "      <th>12</th>\n",
       "      <td>DXCCS_155</td>\n",
       "      <td>1.331465e-02</td>\n",
       "    </tr>\n",
       "    <tr>\n",
       "      <th>13</th>\n",
       "      <td>DXCCS_106</td>\n",
       "      <td>1.286567e-02</td>\n",
       "    </tr>\n",
       "    <tr>\n",
       "      <th>14</th>\n",
       "      <td>DXCCS_58</td>\n",
       "      <td>1.249992e-02</td>\n",
       "    </tr>\n",
       "    <tr>\n",
       "      <th>15</th>\n",
       "      <td>DXCCS_39</td>\n",
       "      <td>1.222758e-02</td>\n",
       "    </tr>\n",
       "    <tr>\n",
       "      <th>16</th>\n",
       "      <td>DXCCS_62</td>\n",
       "      <td>1.176230e-02</td>\n",
       "    </tr>\n",
       "    <tr>\n",
       "      <th>17</th>\n",
       "      <td>DXCCS_49</td>\n",
       "      <td>1.120260e-02</td>\n",
       "    </tr>\n",
       "    <tr>\n",
       "      <th>18</th>\n",
       "      <td>DXCCS_52</td>\n",
       "      <td>1.116873e-02</td>\n",
       "    </tr>\n",
       "    <tr>\n",
       "      <th>19</th>\n",
       "      <td>DXCCS_53</td>\n",
       "      <td>1.088056e-02</td>\n",
       "    </tr>\n",
       "    <tr>\n",
       "      <th>20</th>\n",
       "      <td>DXCCS_4</td>\n",
       "      <td>1.080935e-02</td>\n",
       "    </tr>\n",
       "    <tr>\n",
       "      <th>21</th>\n",
       "      <td>DXCCS_663</td>\n",
       "      <td>1.069099e-02</td>\n",
       "    </tr>\n",
       "    <tr>\n",
       "      <th>22</th>\n",
       "      <td>DXCCS_42</td>\n",
       "      <td>9.807947e-03</td>\n",
       "    </tr>\n",
       "    <tr>\n",
       "      <th>23</th>\n",
       "      <td>DXCCS_101</td>\n",
       "      <td>9.660948e-03</td>\n",
       "    </tr>\n",
       "    <tr>\n",
       "      <th>24</th>\n",
       "      <td>DXCCS_95</td>\n",
       "      <td>9.487854e-03</td>\n",
       "    </tr>\n",
       "    <tr>\n",
       "      <th>25</th>\n",
       "      <td>DXCCS_130</td>\n",
       "      <td>9.410156e-03</td>\n",
       "    </tr>\n",
       "    <tr>\n",
       "      <th>26</th>\n",
       "      <td>DXCCS_38</td>\n",
       "      <td>9.285130e-03</td>\n",
       "    </tr>\n",
       "    <tr>\n",
       "      <th>27</th>\n",
       "      <td>DXCCS_109</td>\n",
       "      <td>9.230774e-03</td>\n",
       "    </tr>\n",
       "    <tr>\n",
       "      <th>28</th>\n",
       "      <td>DXCCS_138</td>\n",
       "      <td>9.070634e-03</td>\n",
       "    </tr>\n",
       "    <tr>\n",
       "      <th>29</th>\n",
       "      <td>DXCCS_151</td>\n",
       "      <td>8.954637e-03</td>\n",
       "    </tr>\n",
       "    <tr>\n",
       "      <th>...</th>\n",
       "      <td>...</td>\n",
       "      <td>...</td>\n",
       "    </tr>\n",
       "    <tr>\n",
       "      <th>221</th>\n",
       "      <td>DXCCS_258</td>\n",
       "      <td>5.025054e-05</td>\n",
       "    </tr>\n",
       "    <tr>\n",
       "      <th>222</th>\n",
       "      <td>DXCCS_658</td>\n",
       "      <td>4.378937e-05</td>\n",
       "    </tr>\n",
       "    <tr>\n",
       "      <th>223</th>\n",
       "      <td>DXCCS_9</td>\n",
       "      <td>4.368855e-05</td>\n",
       "    </tr>\n",
       "    <tr>\n",
       "      <th>224</th>\n",
       "      <td>DXCCS_655</td>\n",
       "      <td>3.913604e-05</td>\n",
       "    </tr>\n",
       "    <tr>\n",
       "      <th>225</th>\n",
       "      <td>DXCCS_209</td>\n",
       "      <td>2.840513e-05</td>\n",
       "    </tr>\n",
       "    <tr>\n",
       "      <th>226</th>\n",
       "      <td>DXCCS_172</td>\n",
       "      <td>2.265440e-05</td>\n",
       "    </tr>\n",
       "    <tr>\n",
       "      <th>227</th>\n",
       "      <td>DXCCS_169</td>\n",
       "      <td>1.641986e-05</td>\n",
       "    </tr>\n",
       "    <tr>\n",
       "      <th>228</th>\n",
       "      <td>DXCCS_177</td>\n",
       "      <td>1.183701e-05</td>\n",
       "    </tr>\n",
       "    <tr>\n",
       "      <th>229</th>\n",
       "      <td>DXCCS_195</td>\n",
       "      <td>8.825713e-06</td>\n",
       "    </tr>\n",
       "    <tr>\n",
       "      <th>230</th>\n",
       "      <td>DXCCS_181</td>\n",
       "      <td>5.087312e-07</td>\n",
       "    </tr>\n",
       "    <tr>\n",
       "      <th>231</th>\n",
       "      <td>DXCCS_183</td>\n",
       "      <td>5.782139e-08</td>\n",
       "    </tr>\n",
       "    <tr>\n",
       "      <th>232</th>\n",
       "      <td>DXCCS_186</td>\n",
       "      <td>0.000000e+00</td>\n",
       "    </tr>\n",
       "    <tr>\n",
       "      <th>233</th>\n",
       "      <td>DXCCS_219</td>\n",
       "      <td>0.000000e+00</td>\n",
       "    </tr>\n",
       "    <tr>\n",
       "      <th>234</th>\n",
       "      <td>DXCCS_184</td>\n",
       "      <td>0.000000e+00</td>\n",
       "    </tr>\n",
       "    <tr>\n",
       "      <th>235</th>\n",
       "      <td>DXCCS_174</td>\n",
       "      <td>0.000000e+00</td>\n",
       "    </tr>\n",
       "    <tr>\n",
       "      <th>236</th>\n",
       "      <td>DXCCS_63</td>\n",
       "      <td>0.000000e+00</td>\n",
       "    </tr>\n",
       "    <tr>\n",
       "      <th>237</th>\n",
       "      <td>DXCCS_187</td>\n",
       "      <td>0.000000e+00</td>\n",
       "    </tr>\n",
       "    <tr>\n",
       "      <th>238</th>\n",
       "      <td>DXCCS_227</td>\n",
       "      <td>0.000000e+00</td>\n",
       "    </tr>\n",
       "    <tr>\n",
       "      <th>239</th>\n",
       "      <td>DXCCS_190</td>\n",
       "      <td>0.000000e+00</td>\n",
       "    </tr>\n",
       "    <tr>\n",
       "      <th>240</th>\n",
       "      <td>DXCCS_182</td>\n",
       "      <td>0.000000e+00</td>\n",
       "    </tr>\n",
       "    <tr>\n",
       "      <th>241</th>\n",
       "      <td>DXCCS_56</td>\n",
       "      <td>0.000000e+00</td>\n",
       "    </tr>\n",
       "    <tr>\n",
       "      <th>242</th>\n",
       "      <td>DXCCS_A</td>\n",
       "      <td>0.000000e+00</td>\n",
       "    </tr>\n",
       "    <tr>\n",
       "      <th>243</th>\n",
       "      <td>DXCCS_241</td>\n",
       "      <td>0.000000e+00</td>\n",
       "    </tr>\n",
       "    <tr>\n",
       "      <th>244</th>\n",
       "      <td>DXCCS_224</td>\n",
       "      <td>0.000000e+00</td>\n",
       "    </tr>\n",
       "    <tr>\n",
       "      <th>245</th>\n",
       "      <td>DXCCS_178</td>\n",
       "      <td>0.000000e+00</td>\n",
       "    </tr>\n",
       "    <tr>\n",
       "      <th>246</th>\n",
       "      <td>DXCCS_189</td>\n",
       "      <td>0.000000e+00</td>\n",
       "    </tr>\n",
       "    <tr>\n",
       "      <th>247</th>\n",
       "      <td>DXCCS_196</td>\n",
       "      <td>0.000000e+00</td>\n",
       "    </tr>\n",
       "    <tr>\n",
       "      <th>248</th>\n",
       "      <td>DXCCS_656</td>\n",
       "      <td>0.000000e+00</td>\n",
       "    </tr>\n",
       "    <tr>\n",
       "      <th>249</th>\n",
       "      <td>DXCCS_225</td>\n",
       "      <td>0.000000e+00</td>\n",
       "    </tr>\n",
       "    <tr>\n",
       "      <th>250</th>\n",
       "      <td>DXCCS_191</td>\n",
       "      <td>0.000000e+00</td>\n",
       "    </tr>\n",
       "  </tbody>\n",
       "</table>\n",
       "<p>251 rows × 2 columns</p>\n",
       "</div>"
      ],
      "text/plain": [
       "         names    importance\n",
       "0    DXCCS_131  1.001310e-01\n",
       "1    DXCCS_249  5.779050e-02\n",
       "2    DXCCS_107  3.424177e-02\n",
       "3    DXCCS_157  2.364064e-02\n",
       "4      DXCCS_2  1.996890e-02\n",
       "5    DXCCS_122  1.783422e-02\n",
       "6    DXCCS_244  1.735102e-02\n",
       "7    DXCCS_257  1.629910e-02\n",
       "8    DXCCS_259  1.541131e-02\n",
       "9     DXCCS_59  1.435461e-02\n",
       "10    DXCCS_98  1.413377e-02\n",
       "11    DXCCS_55  1.365543e-02\n",
       "12   DXCCS_155  1.331465e-02\n",
       "13   DXCCS_106  1.286567e-02\n",
       "14    DXCCS_58  1.249992e-02\n",
       "15    DXCCS_39  1.222758e-02\n",
       "16    DXCCS_62  1.176230e-02\n",
       "17    DXCCS_49  1.120260e-02\n",
       "18    DXCCS_52  1.116873e-02\n",
       "19    DXCCS_53  1.088056e-02\n",
       "20     DXCCS_4  1.080935e-02\n",
       "21   DXCCS_663  1.069099e-02\n",
       "22    DXCCS_42  9.807947e-03\n",
       "23   DXCCS_101  9.660948e-03\n",
       "24    DXCCS_95  9.487854e-03\n",
       "25   DXCCS_130  9.410156e-03\n",
       "26    DXCCS_38  9.285130e-03\n",
       "27   DXCCS_109  9.230774e-03\n",
       "28   DXCCS_138  9.070634e-03\n",
       "29   DXCCS_151  8.954637e-03\n",
       "..         ...           ...\n",
       "221  DXCCS_258  5.025054e-05\n",
       "222  DXCCS_658  4.378937e-05\n",
       "223    DXCCS_9  4.368855e-05\n",
       "224  DXCCS_655  3.913604e-05\n",
       "225  DXCCS_209  2.840513e-05\n",
       "226  DXCCS_172  2.265440e-05\n",
       "227  DXCCS_169  1.641986e-05\n",
       "228  DXCCS_177  1.183701e-05\n",
       "229  DXCCS_195  8.825713e-06\n",
       "230  DXCCS_181  5.087312e-07\n",
       "231  DXCCS_183  5.782139e-08\n",
       "232  DXCCS_186  0.000000e+00\n",
       "233  DXCCS_219  0.000000e+00\n",
       "234  DXCCS_184  0.000000e+00\n",
       "235  DXCCS_174  0.000000e+00\n",
       "236   DXCCS_63  0.000000e+00\n",
       "237  DXCCS_187  0.000000e+00\n",
       "238  DXCCS_227  0.000000e+00\n",
       "239  DXCCS_190  0.000000e+00\n",
       "240  DXCCS_182  0.000000e+00\n",
       "241   DXCCS_56  0.000000e+00\n",
       "242    DXCCS_A  0.000000e+00\n",
       "243  DXCCS_241  0.000000e+00\n",
       "244  DXCCS_224  0.000000e+00\n",
       "245  DXCCS_178  0.000000e+00\n",
       "246  DXCCS_189  0.000000e+00\n",
       "247  DXCCS_196  0.000000e+00\n",
       "248  DXCCS_656  0.000000e+00\n",
       "249  DXCCS_225  0.000000e+00\n",
       "250  DXCCS_191  0.000000e+00\n",
       "\n",
       "[251 rows x 2 columns]"
      ]
     },
     "execution_count": 15,
     "metadata": {},
     "output_type": "execute_result"
    }
   ],
   "source": [
    "# CCS codes and their corresponding diagnoses can be found here: \n",
    "# https://www.hcup-us.ahrq.gov/toolssoftware/ccs/AppendixASingleDX.txt\n",
    "df"
   ]
  },
  {
   "cell_type": "code",
   "execution_count": 14,
   "metadata": {},
   "outputs": [
    {
     "data": {
      "text/html": [
       "<div>\n",
       "<style scoped>\n",
       "    .dataframe tbody tr th:only-of-type {\n",
       "        vertical-align: middle;\n",
       "    }\n",
       "\n",
       "    .dataframe tbody tr th {\n",
       "        vertical-align: top;\n",
       "    }\n",
       "\n",
       "    .dataframe thead th {\n",
       "        text-align: right;\n",
       "    }\n",
       "</style>\n",
       "<table border=\"1\" class=\"dataframe\">\n",
       "  <thead>\n",
       "    <tr style=\"text-align: right;\">\n",
       "      <th></th>\n",
       "      <th>names</th>\n",
       "      <th>importance</th>\n",
       "    </tr>\n",
       "  </thead>\n",
       "  <tbody>\n",
       "    <tr>\n",
       "      <th>15</th>\n",
       "      <td>DXCCS_39</td>\n",
       "      <td>0.012228</td>\n",
       "    </tr>\n",
       "  </tbody>\n",
       "</table>\n",
       "</div>"
      ],
      "text/plain": [
       "       names  importance\n",
       "15  DXCCS_39    0.012228"
      ]
     },
     "execution_count": 14,
     "metadata": {},
     "output_type": "execute_result"
    }
   ],
   "source": [
    "df[df.names == 'DXCCS_39']"
   ]
  }
 ],
 "metadata": {
  "kernelspec": {
   "display_name": "Python 3",
   "language": "python",
   "name": "python3"
  },
  "language_info": {
   "codemirror_mode": {
    "name": "ipython",
    "version": 3
   },
   "file_extension": ".py",
   "mimetype": "text/x-python",
   "name": "python",
   "nbconvert_exporter": "python",
   "pygments_lexer": "ipython3",
   "version": "3.6.8"
  }
 },
 "nbformat": 4,
 "nbformat_minor": 2
}
