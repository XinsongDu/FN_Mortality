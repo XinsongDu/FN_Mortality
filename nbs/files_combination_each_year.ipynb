{
 "cells": [
  {
   "cell_type": "code",
   "execution_count": 1,
   "metadata": {},
   "outputs": [],
   "source": [
    "import pandas as pd\n",
    "import csv"
   ]
  },
  {
   "cell_type": "markdown",
   "metadata": {},
   "source": [
    "## File merge"
   ]
  },
  {
   "cell_type": "code",
   "execution_count": 2,
   "metadata": {},
   "outputs": [],
   "source": [
    "# path for the core file\n",
    "path_core = '../../../data/hcup/nis/2008/NIS_2008_Core.csv'\n",
    "# path for the hospital file\n",
    "path_hosp = '../../../data/hcup/nis/2008/NIS_2008_Hospital.csv'\n",
    "# path for the severity file\n",
    "path_seve = '../../../data/hcup/nis/2008/NIS_2008_Severity.csv'\n",
    "# path for the DX_PR_GRPS file\n",
    "path_dxpr = '../../../data/hcup/nis/2008/NIS_2008_DX_PR_GRPS.csv'\n",
    "# path for the merged output file\n",
    "path_merged = '../../../data/hcup/nis/2008/total.csv'"
   ]
  },
  {
   "cell_type": "code",
   "execution_count": null,
   "metadata": {},
   "outputs": [],
   "source": [
    "data_core = pd.read_csv(path_core, quoting=csv.QUOTE_ALL, dtype = object)"
   ]
  },
  {
   "cell_type": "code",
   "execution_count": null,
   "metadata": {},
   "outputs": [],
   "source": [
    "data_hosp = pd.read_csv(path_hosp, quoting=csv.QUOTE_ALL, dtype = object)"
   ]
  },
  {
   "cell_type": "code",
   "execution_count": null,
   "metadata": {},
   "outputs": [],
   "source": [
    "data_seve = pd.read_csv(path_seve, quoting=csv.QUOTE_ALL, dtype = object)"
   ]
  },
  {
   "cell_type": "code",
   "execution_count": null,
   "metadata": {},
   "outputs": [],
   "source": [
    "data_dxpr = pd.read_csv(path_dxpr, quoting=csv.QUOTE_ALL, dtype = object)"
   ]
  },
  {
   "cell_type": "code",
   "execution_count": null,
   "metadata": {},
   "outputs": [],
   "source": [
    "result = pd.merge(data_core, data_hosp, how = 'outer')"
   ]
  },
  {
   "cell_type": "code",
   "execution_count": null,
   "metadata": {},
   "outputs": [],
   "source": [
    "# release some memory\n",
    "\n",
    "del data_core\n",
    "del data_hosp"
   ]
  },
  {
   "cell_type": "code",
   "execution_count": null,
   "metadata": {},
   "outputs": [],
   "source": [
    "result2 = pd.merge(data_seve, result, how = 'outer')"
   ]
  },
  {
   "cell_type": "code",
   "execution_count": null,
   "metadata": {},
   "outputs": [],
   "source": [
    "# release some memory\n",
    "\n",
    "del data_seve"
   ]
  },
  {
   "cell_type": "code",
   "execution_count": null,
   "metadata": {},
   "outputs": [],
   "source": [
    "result3 = pd.merge(data_dxpr, result2, how = 'outer')"
   ]
  },
  {
   "cell_type": "code",
   "execution_count": null,
   "metadata": {},
   "outputs": [],
   "source": [
    "# release some memory\n",
    "\n",
    "del data_dxpr"
   ]
  },
  {
   "cell_type": "markdown",
   "metadata": {},
   "source": [
    "#### THE FOLLOWING CELL IS ONLY NEED FOR 2015 DATA"
   ]
  },
  {
   "cell_type": "code",
   "execution_count": null,
   "metadata": {},
   "outputs": [],
   "source": [
    "# For 2015, there is only one core file and one hospital file, but two severity files and two DX_PR_GRPS files;\n",
    "# since we do not use Q4, we only need one severity file and one DX_PR_GRPS file. So, after merging Q1Q3's severity/DX_PR_GRPS file,\n",
    "# there would be some redundancy in the merged file (i.e. some discharges belongs to Q4). Those redundancies would have Nan values.\n",
    "# So, remove them.\n",
    "\n",
    "result3.dropna(subset = ['CM_LYMPH', 'CM_LIVER', 'CM_PARA', 'CM_RENLFAIL', 'CM_AIDS', 'CM_ALCOHOL', 'CM_ANEMDEF',\n",
    "            'CM_ARTH', 'CM_BLDLOSS', 'CM_CHF', 'CM_CHRNLUNG', 'CM_COAG', 'CM_DEPRESS', 'CM_DM', 'CM_DMCX', 'CM_DRUG',\n",
    "            'CM_HTN_C', 'CM_HYPOTHY', 'CM_LYTES', 'CM_METS', 'CM_OBESE', 'CM_NEURO', 'CM_PERIVASC', 'CM_PSYCH',\n",
    "            'CM_PULMCIRC', 'CM_ULCER', 'CM_VALVE', 'CM_WGHTLOSS', 'CM_TUMOR', 'APRDRG', 'APRDRG_Severity', 'APRDRG_Risk_Mortality'], \n",
    "               how = 'all', inplace = True)"
   ]
  },
  {
   "cell_type": "markdown",
   "metadata": {},
   "source": [
    "#### RUN THE FOLLOWING CELL FOR ALL YEAR DATA TO GENERATE THE MERGED FILE"
   ]
  },
  {
   "cell_type": "code",
   "execution_count": null,
   "metadata": {},
   "outputs": [],
   "source": [
    "result3.to_csv(path_merged, quoting = csv.QUOTE_ALL, index = False)"
   ]
  }
 ],
 "metadata": {
  "kernelspec": {
   "display_name": "Python 3",
   "language": "python",
   "name": "python3"
  },
  "language_info": {
   "codemirror_mode": {
    "name": "ipython",
    "version": 3
   },
   "file_extension": ".py",
   "mimetype": "text/x-python",
   "name": "python",
   "nbconvert_exporter": "python",
   "pygments_lexer": "ipython3",
   "version": "3.6.5"
  }
 },
 "nbformat": 4,
 "nbformat_minor": 2
}
