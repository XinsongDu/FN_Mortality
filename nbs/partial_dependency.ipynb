{
 "cells": [
  {
   "cell_type": "code",
   "execution_count": 1,
   "metadata": {},
   "outputs": [],
   "source": [
    "from sklearn.ensemble.partial_dependence import partial_dependence, plot_partial_dependence\n",
    "from sklearn.ensemble import GradientBoostingClassifier, GradientBoostingRegressor\n",
    "import pickle\n",
    "import pandas as pd\n",
    "import numpy as np"
   ]
  },
  {
   "cell_type": "code",
   "execution_count": 2,
   "metadata": {},
   "outputs": [],
   "source": [
    "import logging\n",
    "import logging.handlers\n",
    "\n",
    "logger = logging.getLogger(__name__)\n",
    "logging.basicConfig(level=logging.DEBUG, format='[%(asctime)s]: %(levelname)s: %(message)s')"
   ]
  },
  {
   "cell_type": "code",
   "execution_count": 3,
   "metadata": {},
   "outputs": [],
   "source": [
    "import matplotlib\n",
    "%matplotlib inline  "
   ]
  },
  {
   "cell_type": "code",
   "execution_count": 26,
   "metadata": {},
   "outputs": [],
   "source": [
    "matplotlib.rcParams['figure.figsize'] = [16, 16]"
   ]
  },
  {
   "cell_type": "code",
   "execution_count": 4,
   "metadata": {},
   "outputs": [
    {
     "name": "stderr",
     "output_type": "stream",
     "text": [
      "/apps/python3/3.6.5/lib/python3.6/site-packages/ipykernel_launcher.py:1: UserWarning: \n",
      "This call to matplotlib.use() has no effect because the backend has already\n",
      "been chosen; matplotlib.use() must be called *before* pylab, matplotlib.pyplot,\n",
      "or matplotlib.backends is imported for the first time.\n",
      "\n",
      "The backend was *originally* set to 'module://ipykernel.pylab.backend_inline' by the following code:\n",
      "  File \"/apps/gcc/5.2.0/python/3.6.1/lib/python3.6/runpy.py\", line 193, in _run_module_as_main\n",
      "    \"__main__\", mod_spec)\n",
      "  File \"/apps/gcc/5.2.0/python/3.6.1/lib/python3.6/runpy.py\", line 85, in _run_code\n",
      "    exec(code, run_globals)\n",
      "  File \"/apps/python3/3.6.5/lib/python3.6/site-packages/ipykernel_launcher.py\", line 16, in <module>\n",
      "    app.launch_new_instance()\n",
      "  File \"/apps/python3/3.6.5/lib/python3.6/site-packages/traitlets/config/application.py\", line 658, in launch_instance\n",
      "    app.start()\n",
      "  File \"/apps/python3/3.6.5/lib/python3.6/site-packages/ipykernel/kernelapp.py\", line 486, in start\n",
      "    self.io_loop.start()\n",
      "  File \"/apps/python3/3.6.5/lib/python3.6/site-packages/tornado/platform/asyncio.py\", line 127, in start\n",
      "    self.asyncio_loop.run_forever()\n",
      "  File \"/apps/gcc/5.2.0/python/3.6.1/lib/python3.6/asyncio/base_events.py\", line 421, in run_forever\n",
      "    self._run_once()\n",
      "  File \"/apps/gcc/5.2.0/python/3.6.1/lib/python3.6/asyncio/base_events.py\", line 1425, in _run_once\n",
      "    handle._run()\n",
      "  File \"/apps/gcc/5.2.0/python/3.6.1/lib/python3.6/asyncio/events.py\", line 127, in _run\n",
      "    self._callback(*self._args)\n",
      "  File \"/apps/python3/3.6.5/lib/python3.6/site-packages/tornado/ioloop.py\", line 759, in _run_callback\n",
      "    ret = callback()\n",
      "  File \"/apps/python3/3.6.5/lib/python3.6/site-packages/tornado/stack_context.py\", line 276, in null_wrapper\n",
      "    return fn(*args, **kwargs)\n",
      "  File \"/apps/python3/3.6.5/lib/python3.6/site-packages/zmq/eventloop/zmqstream.py\", line 536, in <lambda>\n",
      "    self.io_loop.add_callback(lambda : self._handle_events(self.socket, 0))\n",
      "  File \"/apps/python3/3.6.5/lib/python3.6/site-packages/zmq/eventloop/zmqstream.py\", line 450, in _handle_events\n",
      "    self._handle_recv()\n",
      "  File \"/apps/python3/3.6.5/lib/python3.6/site-packages/zmq/eventloop/zmqstream.py\", line 480, in _handle_recv\n",
      "    self._run_callback(callback, msg)\n",
      "  File \"/apps/python3/3.6.5/lib/python3.6/site-packages/zmq/eventloop/zmqstream.py\", line 432, in _run_callback\n",
      "    callback(*args, **kwargs)\n",
      "  File \"/apps/python3/3.6.5/lib/python3.6/site-packages/tornado/stack_context.py\", line 276, in null_wrapper\n",
      "    return fn(*args, **kwargs)\n",
      "  File \"/apps/python3/3.6.5/lib/python3.6/site-packages/ipykernel/kernelbase.py\", line 283, in dispatcher\n",
      "    return self.dispatch_shell(stream, msg)\n",
      "  File \"/apps/python3/3.6.5/lib/python3.6/site-packages/ipykernel/kernelbase.py\", line 233, in dispatch_shell\n",
      "    handler(stream, idents, msg)\n",
      "  File \"/apps/python3/3.6.5/lib/python3.6/site-packages/ipykernel/kernelbase.py\", line 399, in execute_request\n",
      "    user_expressions, allow_stdin)\n",
      "  File \"/apps/python3/3.6.5/lib/python3.6/site-packages/ipykernel/ipkernel.py\", line 208, in do_execute\n",
      "    res = shell.run_cell(code, store_history=store_history, silent=silent)\n",
      "  File \"/apps/python3/3.6.5/lib/python3.6/site-packages/ipykernel/zmqshell.py\", line 537, in run_cell\n",
      "    return super(ZMQInteractiveShell, self).run_cell(*args, **kwargs)\n",
      "  File \"/apps/python3/3.6.5/lib/python3.6/site-packages/IPython/core/interactiveshell.py\", line 2666, in run_cell\n",
      "    self.events.trigger('post_run_cell', result)\n",
      "  File \"/apps/python3/3.6.5/lib/python3.6/site-packages/IPython/core/events.py\", line 88, in trigger\n",
      "    func(*args, **kwargs)\n",
      "  File \"/apps/python3/3.6.5/lib/python3.6/site-packages/ipykernel/pylab/backend_inline.py\", line 160, in configure_once\n",
      "    activate_matplotlib(backend)\n",
      "  File \"/apps/python3/3.6.5/lib/python3.6/site-packages/IPython/core/pylabtools.py\", line 311, in activate_matplotlib\n",
      "    matplotlib.pyplot.switch_backend(backend)\n",
      "  File \"/apps/python3/3.6.5/lib/python3.6/site-packages/matplotlib/pyplot.py\", line 232, in switch_backend\n",
      "    matplotlib.use(newbackend, warn=False, force=True)\n",
      "  File \"/apps/python3/3.6.5/lib/python3.6/site-packages/matplotlib/__init__.py\", line 1305, in use\n",
      "    reload(sys.modules['matplotlib.backends'])\n",
      "  File \"/home/xinsongdu/python3.6/lib/python3.6/importlib/__init__.py\", line 166, in reload\n",
      "    _bootstrap._exec(spec, module)\n",
      "  File \"/apps/python3/3.6.5/lib/python3.6/site-packages/matplotlib/backends/__init__.py\", line 14, in <module>\n",
      "    line for line in traceback.format_stack()\n",
      "\n",
      "\n",
      "  \"\"\"Entry point for launching an IPython kernel.\n"
     ]
    }
   ],
   "source": [
    "matplotlib.use('agg')\n",
    "import matplotlib.pyplot as plt"
   ]
  },
  {
   "cell_type": "code",
   "execution_count": 5,
   "metadata": {},
   "outputs": [],
   "source": [
    "import copy"
   ]
  },
  {
   "cell_type": "code",
   "execution_count": 6,
   "metadata": {},
   "outputs": [],
   "source": [
    "gbdt_clf = GradientBoostingClassifier(n_estimators = 500)\n",
    "gbdt_reg = GradientBoostingRegressor(n_estimators = 500)"
   ]
  },
  {
   "cell_type": "markdown",
   "metadata": {},
   "source": [
    "## Load variable names"
   ]
  },
  {
   "cell_type": "code",
   "execution_count": 7,
   "metadata": {},
   "outputs": [],
   "source": [
    "with open('../saved_models/input_variables.pkl', 'rb') as f:\n",
    "    names = pickle.load(f)"
   ]
  },
  {
   "cell_type": "markdown",
   "metadata": {},
   "source": [
    "## Load data"
   ]
  },
  {
   "cell_type": "code",
   "execution_count": 8,
   "metadata": {},
   "outputs": [],
   "source": [
    "input_path = \"../../../data/hcup/nis/all_year_combination/cleaned_for_repcv_imputed.pickle\""
   ]
  },
  {
   "cell_type": "code",
   "execution_count": 9,
   "metadata": {},
   "outputs": [],
   "source": [
    "def load_data_full(datafile, names, rescale = True):\n",
    "\n",
    "    fn_pt_trn = pd.read_pickle(datafile)\n",
    "\n",
    "    logger.info(list(fn_pt_trn.columns))\n",
    "\n",
    "    fn_pt_trn.dropna(subset = ['DIED'], inplace = True)\n",
    "\n",
    "    input_df_trn = fn_pt_trn[names]\n",
    "\n",
    "    input_x_trn = input_df_trn.convert_objects(convert_numeric=True)\n",
    "    input_y_died_trn = [int(x) for x in list(fn_pt_trn.DIED)]\n",
    "\n",
    "    if rescale:\n",
    "        scaler = preprocessing.StandardScaler().fit(input_x_trn)\n",
    "        input_x_trn = scaler.transform(input_x_trn)\n",
    "    X = input_x_trn\n",
    "    y = input_y_died_trn\n",
    "    y = np.asarray(y)\n",
    "\n",
    "    return X, y"
   ]
  },
  {
   "cell_type": "code",
   "execution_count": 10,
   "metadata": {},
   "outputs": [
    {
     "name": "stderr",
     "output_type": "stream",
     "text": [
      "[2019-10-15 12:07:05,757]: INFO: ['CCI', 'AGE', 'FEMALE', 'RACE_1', 'RACE_2', 'RACE_3', 'RACE_4', 'RACE_5', 'RACE_6', 'PAY1_1', 'PAY1_2', 'PAY1_3', 'PAY1_4', 'PAY1_5', 'PAY1_6', 'ZIPINC_QRTL_1', 'ZIPINC_QRTL_2', 'ZIPINC_QRTL_3', 'ZIPINC_QRTL_4', 'PL_NCHS', 'ASEASON_SPRING', 'ASEASON_SUMMER', 'ASEASON_FALL', 'ASEASON_WINTER', 'YEAR_2007', 'YEAR_2008', 'YEAR_2009', 'YEAR_2010', 'YEAR_2011', 'YEAR_2012', 'YEAR_2013', 'YEAR_2014', 'YEAR_2015', 'AWEEKEND', 'ELECTIVE', 'TOTAL_DISC', 'HOSP_BEDSIZE', 'HOSP_REGION_1', 'HOSP_REGION_2', 'HOSP_REGION_3', 'HOSP_REGION_4', 'H_CONTRL_1', 'H_CONTRL_2', 'H_CONTRL_3', 'HOSP_LOCTEACH_1', 'HOSP_LOCTEACH_2', 'HOSP_LOCTEACH_3', 'HCUP_ED_0', 'HCUP_ED_1', 'HCUP_ED_2', 'HCUP_ED_3', 'HCUP_ED_4', 'NDX', 'NPR', 'NCHRONIC', 'DXCCS_131', 'DXCCS_249', 'DXCCS_107', 'DXCCS_157', 'DXCCS_2', 'DXCCS_122', 'DXCCS_257', 'DXCCS_59', 'DXCCS_259', 'DXCCS_244', 'PRCCS_216', 'PRCCS_225', 'PRCCS_54', 'PRCCS_222', 'PRCCS_224', 'PRCCS_37', 'PRCCS_65', 'PRCCS_223', 'PRCCS_231', 'PRCCS_63', 'PRCCS_58', 'PRCCS_193', 'PRCCS_174', 'PRCCS_4', 'PRCCS_64', 'PRCCS_70', 'PRCCS_39', 'PRCCS_173', 'PRCCS_108', 'PRCCS_71', 'DIED']\n",
      "/apps/python3/3.6.5/lib/python3.6/site-packages/ipykernel_launcher.py:11: FutureWarning: convert_objects is deprecated.  To re-infer data dtypes for object columns, use DataFrame.infer_objects()\n",
      "For all other conversions use the data-type specific converters pd.to_datetime, pd.to_timedelta and pd.to_numeric.\n",
      "  # This is added back by InteractiveShellApp.init_path()\n"
     ]
    }
   ],
   "source": [
    "x, y = load_data_full(input_path, names, rescale = False)"
   ]
  },
  {
   "cell_type": "code",
   "execution_count": 28,
   "metadata": {},
   "outputs": [],
   "source": [
    "num_vars = ['HOSP_BEDSIZE', 'AGE', 'NDX', 'NPR', 'TOTAL_DISC', 'NCHRONIC',\n",
    "                'PL_NCHS', 'CCI']"
   ]
  },
  {
   "cell_type": "code",
   "execution_count": 42,
   "metadata": {},
   "outputs": [],
   "source": [
    "imp_vars = ['PRCCS_216', 'DXCCS_131', 'DXCCS_107', 'DXCCS_249', 'DXCCS_257', 'DXCCS_157', \n",
    "            'AGE', 'DXCCS_2', 'PRCCS_225', 'NDX', 'NPR', 'TOTAL_DISC', 'NCHRONIC', 'DXCCS_244', 'CCI']"
   ]
  },
  {
   "cell_type": "code",
   "execution_count": 29,
   "metadata": {},
   "outputs": [],
   "source": [
    "imp_vars = ['AGE', 'NDX', 'NPR', 'TOTAL_DISC', 'NCHRONIC', 'CCI']"
   ]
  },
  {
   "cell_type": "code",
   "execution_count": 12,
   "metadata": {},
   "outputs": [],
   "source": [
    "names_cpy = copy.deepcopy(names)"
   ]
  },
  {
   "cell_type": "code",
   "execution_count": 13,
   "metadata": {},
   "outputs": [
    {
     "data": {
      "text/plain": [
       "'PRCCS_216'"
      ]
     },
     "execution_count": 13,
     "metadata": {},
     "output_type": "execute_result"
    }
   ],
   "source": [
    "names_cpy[65]"
   ]
  },
  {
   "cell_type": "code",
   "execution_count": 14,
   "metadata": {},
   "outputs": [],
   "source": [
    "names_cpy[65] = 'Respiratory intubation and mechanical ventilation'\n",
    "names_cpy[55] = 'Respiratory failure; insufficiency; arrest (adult)'\n",
    "names_cpy[57] = 'Cardiac arrest and ventricular fibrillation'\n",
    "names_cpy[56] = 'Shock'\n",
    "names_cpy[61] = 'Other aftercare'\n",
    "names_cpy[58] = 'Acute and unspecified renal failure'\n",
    "names_cpy[59] = 'Septicemia (except in labor)'\n",
    "names_cpy[1] = 'Age'\n",
    "names_cpy[66] = 'Conversion of cardiac rhythm'\n",
    "names_cpy[52] = 'Number of diagnoses'\n",
    "names_cpy[53] = 'Number of procedures'\n",
    "names_cpy[35] = 'Total number of discharges in the hospital'\n",
    "names_cpy[54] = 'Number of chronic conditions'\n",
    "names_cpy[0] = 'Charlson\\'s comorbidity index'\n",
    "names_cpy[64] = 'Other injuries and conditions due to external causes'"
   ]
  },
  {
   "cell_type": "markdown",
   "metadata": {},
   "source": [
    "## Fit model"
   ]
  },
  {
   "cell_type": "code",
   "execution_count": 15,
   "metadata": {},
   "outputs": [],
   "source": [
    "#gbdt_clf.fit(x,y)"
   ]
  },
  {
   "cell_type": "code",
   "execution_count": 40,
   "metadata": {},
   "outputs": [
    {
     "data": {
      "text/plain": [
       "GradientBoostingRegressor(alpha=0.9, criterion='friedman_mse', init=None,\n",
       "             learning_rate=0.1, loss='ls', max_depth=3, max_features=None,\n",
       "             max_leaf_nodes=None, min_impurity_decrease=0.0,\n",
       "             min_impurity_split=None, min_samples_leaf=1,\n",
       "             min_samples_split=2, min_weight_fraction_leaf=0.0,\n",
       "             n_estimators=500, n_iter_no_change=None, presort='auto',\n",
       "             random_state=None, subsample=1.0, tol=0.0001,\n",
       "             validation_fraction=0.1, verbose=0, warm_start=False)"
      ]
     },
     "execution_count": 40,
     "metadata": {},
     "output_type": "execute_result"
    }
   ],
   "source": [
    "gbdt_reg.fit(x,y)"
   ]
  },
  {
   "cell_type": "code",
   "execution_count": 43,
   "metadata": {},
   "outputs": [],
   "source": [
    "indexes = [names.index(i) for i in imp_vars]"
   ]
  },
  {
   "cell_type": "code",
   "execution_count": 44,
   "metadata": {},
   "outputs": [
    {
     "data": {
      "text/plain": [
       "[65, 55, 57, 56, 61, 58, 1, 59, 66, 52, 53, 35, 54, 64, 0]"
      ]
     },
     "execution_count": 44,
     "metadata": {},
     "output_type": "execute_result"
    }
   ],
   "source": [
    "indexes"
   ]
  },
  {
   "cell_type": "code",
   "execution_count": 46,
   "metadata": {},
   "outputs": [
    {
     "data": {
      "image/png": "[encoded data removed]",
      "text/plain": [
       "<matplotlib.figure.Figure at 0x2b61aa2d4d68>"
      ]
     },
     "metadata": {},
     "output_type": "display_data"
    }
   ],
   "source": [
    "my_plots = plot_partial_dependence(gbdt_reg,       \n",
    "                                   features=indexes, # column numbers of plots we want to show\n",
    "                                   X=x,            # raw predictors data.\n",
    "                                   feature_names=names_cpy, # labels on graphs\n",
    "#                                   percentiles = (0.0, 0.90),\n",
    "                                   grid_resolution=10)"
   ]
  },
  {
   "cell_type": "code",
   "execution_count": 47,
   "metadata": {},
   "outputs": [
    {
     "data": {
      "text/plain": [
       "['CCI',\n",
       " 'AGE',\n",
       " 'FEMALE',\n",
       " 'RACE_1',\n",
       " 'RACE_2',\n",
       " 'RACE_3',\n",
       " 'RACE_4',\n",
       " 'RACE_5',\n",
       " 'RACE_6',\n",
       " 'PAY1_1',\n",
       " 'PAY1_2',\n",
       " 'PAY1_3',\n",
       " 'PAY1_4',\n",
       " 'PAY1_5',\n",
       " 'PAY1_6',\n",
       " 'ZIPINC_QRTL_1',\n",
       " 'ZIPINC_QRTL_2',\n",
       " 'ZIPINC_QRTL_3',\n",
       " 'ZIPINC_QRTL_4',\n",
       " 'PL_NCHS',\n",
       " 'ASEASON_SPRING',\n",
       " 'ASEASON_SUMMER',\n",
       " 'ASEASON_FALL',\n",
       " 'ASEASON_WINTER',\n",
       " 'YEAR_2007',\n",
       " 'YEAR_2008',\n",
       " 'YEAR_2009',\n",
       " 'YEAR_2010',\n",
       " 'YEAR_2011',\n",
       " 'YEAR_2012',\n",
       " 'YEAR_2013',\n",
       " 'YEAR_2014',\n",
       " 'YEAR_2015',\n",
       " 'AWEEKEND',\n",
       " 'ELECTIVE',\n",
       " 'TOTAL_DISC',\n",
       " 'HOSP_BEDSIZE',\n",
       " 'HOSP_REGION_1',\n",
       " 'HOSP_REGION_2',\n",
       " 'HOSP_REGION_3',\n",
       " 'HOSP_REGION_4',\n",
       " 'H_CONTRL_1',\n",
       " 'H_CONTRL_2',\n",
       " 'H_CONTRL_3',\n",
       " 'HOSP_LOCTEACH_1',\n",
       " 'HOSP_LOCTEACH_2',\n",
       " 'HOSP_LOCTEACH_3',\n",
       " 'HCUP_ED_0',\n",
       " 'HCUP_ED_1',\n",
       " 'HCUP_ED_2',\n",
       " 'HCUP_ED_3',\n",
       " 'HCUP_ED_4',\n",
       " 'NDX',\n",
       " 'NPR',\n",
       " 'NCHRONIC',\n",
       " 'DXCCS_131',\n",
       " 'DXCCS_249',\n",
       " 'DXCCS_107',\n",
       " 'DXCCS_157',\n",
       " 'DXCCS_2',\n",
       " 'DXCCS_122',\n",
       " 'DXCCS_257',\n",
       " 'DXCCS_59',\n",
       " 'DXCCS_259',\n",
       " 'DXCCS_244',\n",
       " 'PRCCS_216',\n",
       " 'PRCCS_225',\n",
       " 'PRCCS_54',\n",
       " 'PRCCS_222',\n",
       " 'PRCCS_224',\n",
       " 'PRCCS_37',\n",
       " 'PRCCS_65',\n",
       " 'PRCCS_223',\n",
       " 'PRCCS_231',\n",
       " 'PRCCS_63',\n",
       " 'PRCCS_58',\n",
       " 'PRCCS_193',\n",
       " 'PRCCS_174',\n",
       " 'PRCCS_4',\n",
       " 'PRCCS_64',\n",
       " 'PRCCS_70',\n",
       " 'PRCCS_39',\n",
       " 'PRCCS_173',\n",
       " 'PRCCS_108',\n",
       " 'PRCCS_71']"
      ]
     },
     "execution_count": 47,
     "metadata": {},
     "output_type": "execute_result"
    }
   ],
   "source": [
    "names"
   ]
  },
  {
   "cell_type": "code",
   "execution_count": null,
   "metadata": {},
   "outputs": [],
   "source": []
  }
 ],
 "metadata": {
  "kernelspec": {
   "display_name": "Python 3",
   "language": "python",
   "name": "python3"
  },
  "language_info": {
   "codemirror_mode": {
    "name": "ipython",
    "version": 3
   },
   "file_extension": ".py",
   "mimetype": "text/x-python",
   "name": "python",
   "nbconvert_exporter": "python",
   "pygments_lexer": "ipython3",
   "version": "3.6.5"
  }
 },
 "nbformat": 4,
 "nbformat_minor": 2
}
